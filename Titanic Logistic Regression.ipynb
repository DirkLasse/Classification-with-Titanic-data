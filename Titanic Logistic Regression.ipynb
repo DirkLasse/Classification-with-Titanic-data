{
 "cells": [
  {
   "cell_type": "markdown",
   "id": "40c0a4d6",
   "metadata": {},
   "source": [
    "## Logistic regression at Titanic Data\n",
    "Import libs"
   ]
  },
  {
   "cell_type": "code",
   "execution_count": null,
   "id": "156e77fd",
   "metadata": {
    "ExecuteTime": {
     "end_time": "2022-06-18T11:19:06.744229Z",
     "start_time": "2022-06-18T11:19:06.138633Z"
    }
   },
   "outputs": [],
   "source": [
    "import pandas as pd\n",
    "import numpy as np\n",
    "from sklearn.model_selection import train_test_split\n",
    "from sklearn.linear_model import LogisticRegression\n",
    "import seaborn as sns\n",
    "from matplotlib import pyplot as plt\n",
    "import warnings\n",
    "from sklearn.pipeline import make_pipeline\n",
    "from sklearn.impute import SimpleImputer\n",
    "from sklearn.preprocessing import MinMaxScaler\n",
    "from sklearn.preprocessing import OneHotEncoder , OrdinalEncoder\n",
    "from sklearn.compose import ColumnTransformer\n",
    "warnings.filterwarnings(\"ignore\")"
   ]
  },
  {
   "cell_type": "markdown",
   "id": "6f51ff1c",
   "metadata": {},
   "source": [
    "## Read Data"
   ]
  },
  {
   "cell_type": "code",
   "execution_count": 2,
   "id": "96106151",
   "metadata": {
    "ExecuteTime": {
     "end_time": "2022-06-18T11:19:07.284176Z",
     "start_time": "2022-06-18T11:19:07.278033Z"
    }
   },
   "outputs": [],
   "source": [
    "df = pd.read_csv(\"data/train.csv\", sep=\",\", index_col=0)"
   ]
  },
  {
   "cell_type": "code",
   "execution_count": 3,
   "id": "6acb4036",
   "metadata": {
    "ExecuteTime": {
     "end_time": "2022-06-18T11:19:08.287020Z",
     "start_time": "2022-06-18T11:19:08.280605Z"
    }
   },
   "outputs": [
    {
     "data": {
      "text/html": [
       "<div>\n",
       "<style scoped>\n",
       "    .dataframe tbody tr th:only-of-type {\n",
       "        vertical-align: middle;\n",
       "    }\n",
       "\n",
       "    .dataframe tbody tr th {\n",
       "        vertical-align: top;\n",
       "    }\n",
       "\n",
       "    .dataframe thead th {\n",
       "        text-align: right;\n",
       "    }\n",
       "</style>\n",
       "<table border=\"1\" class=\"dataframe\">\n",
       "  <thead>\n",
       "    <tr style=\"text-align: right;\">\n",
       "      <th></th>\n",
       "      <th>Survived</th>\n",
       "      <th>Pclass</th>\n",
       "      <th>Name</th>\n",
       "      <th>Sex</th>\n",
       "      <th>Age</th>\n",
       "      <th>SibSp</th>\n",
       "      <th>Parch</th>\n",
       "      <th>Ticket</th>\n",
       "      <th>Fare</th>\n",
       "      <th>Cabin</th>\n",
       "      <th>Embarked</th>\n",
       "    </tr>\n",
       "    <tr>\n",
       "      <th>PassengerId</th>\n",
       "      <th></th>\n",
       "      <th></th>\n",
       "      <th></th>\n",
       "      <th></th>\n",
       "      <th></th>\n",
       "      <th></th>\n",
       "      <th></th>\n",
       "      <th></th>\n",
       "      <th></th>\n",
       "      <th></th>\n",
       "      <th></th>\n",
       "    </tr>\n",
       "  </thead>\n",
       "  <tbody>\n",
       "    <tr>\n",
       "      <th>1</th>\n",
       "      <td>0</td>\n",
       "      <td>3</td>\n",
       "      <td>Braund, Mr. Owen Harris</td>\n",
       "      <td>male</td>\n",
       "      <td>22.0</td>\n",
       "      <td>1</td>\n",
       "      <td>0</td>\n",
       "      <td>A/5 21171</td>\n",
       "      <td>7.2500</td>\n",
       "      <td>NaN</td>\n",
       "      <td>S</td>\n",
       "    </tr>\n",
       "    <tr>\n",
       "      <th>2</th>\n",
       "      <td>1</td>\n",
       "      <td>1</td>\n",
       "      <td>Cumings, Mrs. John Bradley (Florence Briggs Th...</td>\n",
       "      <td>female</td>\n",
       "      <td>38.0</td>\n",
       "      <td>1</td>\n",
       "      <td>0</td>\n",
       "      <td>PC 17599</td>\n",
       "      <td>71.2833</td>\n",
       "      <td>C85</td>\n",
       "      <td>C</td>\n",
       "    </tr>\n",
       "    <tr>\n",
       "      <th>3</th>\n",
       "      <td>1</td>\n",
       "      <td>3</td>\n",
       "      <td>Heikkinen, Miss. Laina</td>\n",
       "      <td>female</td>\n",
       "      <td>26.0</td>\n",
       "      <td>0</td>\n",
       "      <td>0</td>\n",
       "      <td>STON/O2. 3101282</td>\n",
       "      <td>7.9250</td>\n",
       "      <td>NaN</td>\n",
       "      <td>S</td>\n",
       "    </tr>\n",
       "    <tr>\n",
       "      <th>4</th>\n",
       "      <td>1</td>\n",
       "      <td>1</td>\n",
       "      <td>Futrelle, Mrs. Jacques Heath (Lily May Peel)</td>\n",
       "      <td>female</td>\n",
       "      <td>35.0</td>\n",
       "      <td>1</td>\n",
       "      <td>0</td>\n",
       "      <td>113803</td>\n",
       "      <td>53.1000</td>\n",
       "      <td>C123</td>\n",
       "      <td>S</td>\n",
       "    </tr>\n",
       "    <tr>\n",
       "      <th>5</th>\n",
       "      <td>0</td>\n",
       "      <td>3</td>\n",
       "      <td>Allen, Mr. William Henry</td>\n",
       "      <td>male</td>\n",
       "      <td>35.0</td>\n",
       "      <td>0</td>\n",
       "      <td>0</td>\n",
       "      <td>373450</td>\n",
       "      <td>8.0500</td>\n",
       "      <td>NaN</td>\n",
       "      <td>S</td>\n",
       "    </tr>\n",
       "  </tbody>\n",
       "</table>\n",
       "</div>"
      ],
      "text/plain": [
       "             Survived  Pclass  \\\n",
       "PassengerId                     \n",
       "1                   0       3   \n",
       "2                   1       1   \n",
       "3                   1       3   \n",
       "4                   1       1   \n",
       "5                   0       3   \n",
       "\n",
       "                                                          Name     Sex   Age  \\\n",
       "PassengerId                                                                    \n",
       "1                                      Braund, Mr. Owen Harris    male  22.0   \n",
       "2            Cumings, Mrs. John Bradley (Florence Briggs Th...  female  38.0   \n",
       "3                                       Heikkinen, Miss. Laina  female  26.0   \n",
       "4                 Futrelle, Mrs. Jacques Heath (Lily May Peel)  female  35.0   \n",
       "5                                     Allen, Mr. William Henry    male  35.0   \n",
       "\n",
       "             SibSp  Parch            Ticket     Fare Cabin Embarked  \n",
       "PassengerId                                                          \n",
       "1                1      0         A/5 21171   7.2500   NaN        S  \n",
       "2                1      0          PC 17599  71.2833   C85        C  \n",
       "3                0      0  STON/O2. 3101282   7.9250   NaN        S  \n",
       "4                1      0            113803  53.1000  C123        S  \n",
       "5                0      0            373450   8.0500   NaN        S  "
      ]
     },
     "execution_count": 3,
     "metadata": {},
     "output_type": "execute_result"
    }
   ],
   "source": [
    "df.head()"
   ]
  },
  {
   "cell_type": "markdown",
   "id": "84bb3c07",
   "metadata": {},
   "source": [
    "## Examing Data"
   ]
  },
  {
   "cell_type": "code",
   "execution_count": 4,
   "id": "71f064d5",
   "metadata": {
    "ExecuteTime": {
     "end_time": "2022-06-18T11:19:10.991064Z",
     "start_time": "2022-06-18T11:19:10.985592Z"
    }
   },
   "outputs": [],
   "source": [
    "df[\"Title\"]=df.Name.str.split(\",\",expand=True)[1].str.split(\".\",expand=True)[0].str.strip()\n",
    "df[\"ClassSex\"]=df[\"Pclass\"].apply(str)+ df[\"Sex\"]"
   ]
  },
  {
   "cell_type": "code",
   "execution_count": 6,
   "id": "64ccc85d",
   "metadata": {
    "ExecuteTime": {
     "end_time": "2022-06-18T11:19:21.570746Z",
     "start_time": "2022-06-18T11:19:21.567147Z"
    }
   },
   "outputs": [
    {
     "data": {
      "text/plain": [
       "Survived      0\n",
       "Pclass        0\n",
       "Name          0\n",
       "Sex           0\n",
       "Age         177\n",
       "SibSp         0\n",
       "Parch         0\n",
       "Ticket        0\n",
       "Fare          0\n",
       "Cabin       687\n",
       "Embarked      2\n",
       "Title         0\n",
       "ClassSex      0\n",
       "dtype: int64"
      ]
     },
     "execution_count": 6,
     "metadata": {},
     "output_type": "execute_result"
    }
   ],
   "source": [
    "df.isna().sum()"
   ]
  },
  {
   "cell_type": "markdown",
   "id": "0c1cc6f7",
   "metadata": {},
   "source": [
    "### Creating column ClassSex for filling NAN Age with mean by class and sex"
   ]
  },
  {
   "cell_type": "code",
   "execution_count": 7,
   "id": "b2b1e470",
   "metadata": {
    "ExecuteTime": {
     "end_time": "2022-06-18T11:19:31.366085Z",
     "start_time": "2022-06-18T11:19:31.359566Z"
    }
   },
   "outputs": [
    {
     "data": {
      "text/plain": [
       "Index(['1female', '1male', '2female', '2male', '3female', '3male'], dtype='object', name='ClassSex')"
      ]
     },
     "execution_count": 7,
     "metadata": {},
     "output_type": "execute_result"
    }
   ],
   "source": [
    "mean_age=df.groupby([\"ClassSex\"]).Age.mean()\n",
    "mean_age.index"
   ]
  },
  {
   "cell_type": "code",
   "execution_count": 8,
   "id": "298fdfb3",
   "metadata": {
    "ExecuteTime": {
     "end_time": "2022-06-18T11:19:44.883560Z",
     "start_time": "2022-06-18T11:19:44.879169Z"
    }
   },
   "outputs": [],
   "source": [
    "df2=df[df.Age.isna()]\n",
    "for item in mean_age.index:\n",
    "    \n",
    "    df2.loc[df2[\"ClassSex\"]==item,\"Age\"]=mean_age[item]\n",
    "df[df.Age.isna()]=df2"
   ]
  },
  {
   "cell_type": "code",
   "execution_count": 10,
   "id": "7cc5aac4",
   "metadata": {
    "ExecuteTime": {
     "end_time": "2022-06-18T11:20:11.944202Z",
     "start_time": "2022-06-18T11:20:11.940010Z"
    }
   },
   "outputs": [],
   "source": [
    "title_dic= {'Ms':'Miss', 'Mlle':'Miss', 'Mme':'Miss','Miss':'Miss',\n",
    "            'Lady':'Mrs','Mrs':'Mrs','the Countess':'Mrs','Dona':'Mrs',\n",
    "            'Rev':'Mr','Sir':'Mr','Mr':'Mr','Dr':'Mr','Major':'Mr','Col':'Mr', 'Capt':'Mr','Don':'Mr','Jonkheer':'Mr',\n",
    "            'Master':'Master',\n",
    "           }"
   ]
  },
  {
   "cell_type": "code",
   "execution_count": 11,
   "id": "963449b3",
   "metadata": {
    "ExecuteTime": {
     "end_time": "2022-06-18T11:20:17.034315Z",
     "start_time": "2022-06-18T11:20:17.030367Z"
    },
    "scrolled": false
   },
   "outputs": [],
   "source": [
    "df.replace({'Title':title_dic},inplace=True)"
   ]
  },
  {
   "cell_type": "markdown",
   "id": "ad2114d5",
   "metadata": {},
   "source": [
    "## Creating Catigory and Number pipes and feature transformer"
   ]
  },
  {
   "cell_type": "code",
   "execution_count": 13,
   "id": "450193db",
   "metadata": {
    "ExecuteTime": {
     "end_time": "2022-06-18T11:21:08.879694Z",
     "start_time": "2022-06-18T11:21:08.877882Z"
    }
   },
   "outputs": [],
   "source": [
    "cat_pipe = make_pipeline(SimpleImputer(strategy='most_frequent'),\n",
    "                         OneHotEncoder(sparse=False, handle_unknown=\"ignore\")\n",
    ")"
   ]
  },
  {
   "cell_type": "code",
   "execution_count": 14,
   "id": "f055d0bc",
   "metadata": {
    "ExecuteTime": {
     "end_time": "2022-06-18T11:21:09.485101Z",
     "start_time": "2022-06-18T11:21:09.483414Z"
    }
   },
   "outputs": [],
   "source": [
    "num_pipe = make_pipeline(SimpleImputer(strategy=\"median\"), MinMaxScaler())"
   ]
  },
  {
   "cell_type": "code",
   "execution_count": 16,
   "id": "261c0386",
   "metadata": {
    "ExecuteTime": {
     "end_time": "2022-06-18T11:21:17.114099Z",
     "start_time": "2022-06-18T11:21:17.111963Z"
    }
   },
   "outputs": [],
   "source": [
    "feature_transform = ColumnTransformer([\n",
    "    (\"Drop Column\", 'drop', ['Cabin', 'Name', 'Ticket','ClassSex']),\n",
    "    (\"Cat preprossing\", cat_pipe, ['Sex', 'Embarked','Title']),\n",
    "    (\"Num preprossing\", num_pipe, ['Pclass', 'Age', 'SibSp', 'Parch', 'Fare'])\n",
    "])"
   ]
  },
  {
   "cell_type": "markdown",
   "id": "ec51b6ff",
   "metadata": {},
   "source": [
    "## Split DF in y and X Data and in Train and Validation Data"
   ]
  },
  {
   "cell_type": "code",
   "execution_count": 17,
   "id": "843287e5",
   "metadata": {
    "ExecuteTime": {
     "end_time": "2022-06-18T11:21:22.568652Z",
     "start_time": "2022-06-18T11:21:22.563130Z"
    }
   },
   "outputs": [],
   "source": [
    "y=df[\"Survived\"]\n",
    "X=df.drop([\"Survived\"],axis=1)"
   ]
  },
  {
   "cell_type": "code",
   "execution_count": 31,
   "id": "d7e7e285",
   "metadata": {
    "ExecuteTime": {
     "end_time": "2022-06-18T11:22:32.751222Z",
     "start_time": "2022-06-18T11:22:32.748765Z"
    }
   },
   "outputs": [],
   "source": [
    "X_train, X_val, y_train, y_val = train_test_split(X,\n",
    "                                                  y,\n",
    "                                                  test_size=0.2,\n",
    "                                                  random_state=1000)\n"
   ]
  },
  {
   "cell_type": "code",
   "execution_count": 32,
   "id": "ac1a2454",
   "metadata": {
    "ExecuteTime": {
     "end_time": "2022-06-18T11:22:33.221330Z",
     "start_time": "2022-06-18T11:22:33.217167Z"
    }
   },
   "outputs": [
    {
     "data": {
      "text/plain": [
       "((712, 12), (712,))"
      ]
     },
     "execution_count": 32,
     "metadata": {},
     "output_type": "execute_result"
    }
   ],
   "source": [
    "X_train.shape, y_train.shape"
   ]
  },
  {
   "cell_type": "markdown",
   "id": "598e7212",
   "metadata": {},
   "source": [
    "## Fill NaN and Transform Strings to numbers"
   ]
  },
  {
   "cell_type": "code",
   "execution_count": 33,
   "id": "dc264fb6",
   "metadata": {
    "ExecuteTime": {
     "end_time": "2022-06-18T11:22:34.130665Z",
     "start_time": "2022-06-18T11:22:34.119190Z"
    }
   },
   "outputs": [],
   "source": [
    "X_train_trans = feature_transform.fit_transform(X_train)"
   ]
  },
  {
   "cell_type": "code",
   "execution_count": 34,
   "id": "350a1284",
   "metadata": {
    "ExecuteTime": {
     "end_time": "2022-06-18T11:22:34.497923Z",
     "start_time": "2022-06-18T11:22:34.495633Z"
    }
   },
   "outputs": [
    {
     "data": {
      "text/plain": [
       "(712, 14)"
      ]
     },
     "execution_count": 34,
     "metadata": {},
     "output_type": "execute_result"
    }
   ],
   "source": [
    "X_train_trans.shape"
   ]
  },
  {
   "cell_type": "markdown",
   "id": "12c16d6d",
   "metadata": {},
   "source": [
    "## Load Define and Train Model for Logistic Regression"
   ]
  },
  {
   "cell_type": "code",
   "execution_count": 35,
   "id": "e9a414d2",
   "metadata": {
    "ExecuteTime": {
     "end_time": "2022-06-18T11:22:35.349252Z",
     "start_time": "2022-06-18T11:22:35.347267Z"
    }
   },
   "outputs": [],
   "source": [
    "from sklearn.linear_model import LogisticRegression"
   ]
  },
  {
   "cell_type": "code",
   "execution_count": 36,
   "id": "33699265",
   "metadata": {
    "ExecuteTime": {
     "end_time": "2022-06-18T11:22:35.768634Z",
     "start_time": "2022-06-18T11:22:35.766762Z"
    }
   },
   "outputs": [],
   "source": [
    "model = LogisticRegression() "
   ]
  },
  {
   "cell_type": "code",
   "execution_count": 37,
   "id": "77ce3563",
   "metadata": {
    "ExecuteTime": {
     "end_time": "2022-06-18T11:22:36.299530Z",
     "start_time": "2022-06-18T11:22:36.292929Z"
    }
   },
   "outputs": [
    {
     "data": {
      "text/plain": [
       "LogisticRegression()"
      ]
     },
     "execution_count": 37,
     "metadata": {},
     "output_type": "execute_result"
    }
   ],
   "source": [
    "model.fit(X_train_trans, y_train)"
   ]
  },
  {
   "cell_type": "markdown",
   "id": "c497306f",
   "metadata": {},
   "source": [
    "## Presition Score on Test data "
   ]
  },
  {
   "cell_type": "code",
   "execution_count": 38,
   "id": "3f99acb8",
   "metadata": {
    "ExecuteTime": {
     "end_time": "2022-06-18T11:22:38.634544Z",
     "start_time": "2022-06-18T11:22:38.631306Z"
    }
   },
   "outputs": [
    {
     "data": {
      "text/plain": [
       "0.8300561797752809"
      ]
     },
     "execution_count": 38,
     "metadata": {},
     "output_type": "execute_result"
    }
   ],
   "source": [
    "model.score(X_train_trans, y_train)"
   ]
  },
  {
   "cell_type": "markdown",
   "id": "a17be40a",
   "metadata": {},
   "source": [
    "## Presition Score on Validation data"
   ]
  },
  {
   "cell_type": "code",
   "execution_count": 39,
   "id": "dfe5e31f",
   "metadata": {
    "ExecuteTime": {
     "end_time": "2022-06-18T11:22:40.474442Z",
     "start_time": "2022-06-18T11:22:40.462724Z"
    }
   },
   "outputs": [],
   "source": [
    "X_val_trans = feature_transform.transform(X_val)"
   ]
  },
  {
   "cell_type": "code",
   "execution_count": 40,
   "id": "eaf303cd",
   "metadata": {
    "ExecuteTime": {
     "end_time": "2022-06-18T11:22:41.792756Z",
     "start_time": "2022-06-18T11:22:41.789862Z"
    }
   },
   "outputs": [
    {
     "data": {
      "text/plain": [
       "0.8156424581005587"
      ]
     },
     "execution_count": 40,
     "metadata": {},
     "output_type": "execute_result"
    }
   ],
   "source": [
    "model.score(X_val_trans, y_val)"
   ]
  },
  {
   "cell_type": "markdown",
   "id": "6b503985",
   "metadata": {},
   "source": [
    "## Crossvalidation"
   ]
  },
  {
   "cell_type": "code",
   "execution_count": 41,
   "id": "c2eae577",
   "metadata": {
    "ExecuteTime": {
     "end_time": "2022-06-18T11:22:49.666345Z",
     "start_time": "2022-06-18T11:22:49.665052Z"
    }
   },
   "outputs": [],
   "source": [
    "from sklearn.model_selection import cross_val_score "
   ]
  },
  {
   "cell_type": "code",
   "execution_count": 42,
   "id": "480aef44",
   "metadata": {
    "ExecuteTime": {
     "end_time": "2022-06-18T11:22:50.499986Z",
     "start_time": "2022-06-18T11:22:50.477439Z"
    }
   },
   "outputs": [],
   "source": [
    "cross_val_log = cross_val_score(model,\n",
    "                                X_train_trans,\n",
    "                                y_train,\n",
    "                                cv=5,\n",
    "                                scoring=\"accuracy\"\n",
    ")"
   ]
  },
  {
   "cell_type": "code",
   "execution_count": 46,
   "id": "d447abae",
   "metadata": {
    "ExecuteTime": {
     "end_time": "2022-06-18T11:23:33.702511Z",
     "start_time": "2022-06-18T11:23:33.697933Z"
    }
   },
   "outputs": [
    {
     "data": {
      "text/plain": [
       "(array([0.83916084, 0.8041958 , 0.82394366, 0.84507042, 0.80985915]),\n",
       " 0.8244459765586527)"
      ]
     },
     "execution_count": 46,
     "metadata": {},
     "output_type": "execute_result"
    }
   ],
   "source": [
    "cross_val_log,cross_val_log.mean()"
   ]
  },
  {
   "cell_type": "markdown",
   "id": "a3256b9a",
   "metadata": {},
   "source": [
    "## The Presition probapillity from the Model at Trainig data"
   ]
  },
  {
   "cell_type": "code",
   "execution_count": 47,
   "id": "52ca9272",
   "metadata": {
    "ExecuteTime": {
     "end_time": "2022-06-18T11:23:42.199453Z",
     "start_time": "2022-06-18T11:23:42.196668Z"
    }
   },
   "outputs": [
    {
     "data": {
      "text/plain": [
       "array([[0.91772314, 0.08227686],\n",
       "       [0.15138761, 0.84861239],\n",
       "       [0.67433819, 0.32566181],\n",
       "       ...,\n",
       "       [0.74594552, 0.25405448],\n",
       "       [0.57645335, 0.42354665],\n",
       "       [0.11923035, 0.88076965]])"
      ]
     },
     "execution_count": 47,
     "metadata": {},
     "output_type": "execute_result"
    }
   ],
   "source": [
    "model.predict_proba(X_train_trans)"
   ]
  },
  {
   "cell_type": "markdown",
   "id": "c8d3d2d1",
   "metadata": {},
   "source": [
    "## Coeffificient from sigmoid funktion "
   ]
  },
  {
   "cell_type": "code",
   "execution_count": 53,
   "id": "a888ed44",
   "metadata": {
    "ExecuteTime": {
     "end_time": "2022-06-18T11:29:07.006325Z",
     "start_time": "2022-06-18T11:29:07.001651Z"
    }
   },
   "outputs": [
    {
     "data": {
      "text/plain": [
       "'[[ 0.72 -0.72  0.38 -0.03 -0.34  1.1   0.   -1.47  0.36 -1.99 -1.16 -1.92\\n  -1.17  0.72]]'"
      ]
     },
     "execution_count": 53,
     "metadata": {},
     "output_type": "execute_result"
    }
   ],
   "source": [
    "f\"{model.coef_.round(2)}\""
   ]
  },
  {
   "cell_type": "markdown",
   "id": "dfbb8ad6",
   "metadata": {},
   "source": [
    "## Intercept from sigmoid funktion"
   ]
  },
  {
   "cell_type": "code",
   "execution_count": 54,
   "id": "bf12f46b",
   "metadata": {
    "ExecuteTime": {
     "end_time": "2022-06-18T11:29:16.086399Z",
     "start_time": "2022-06-18T11:29:16.083800Z"
    }
   },
   "outputs": [
    {
     "data": {
      "text/plain": [
       "array([2.3625758])"
      ]
     },
     "execution_count": 54,
     "metadata": {},
     "output_type": "execute_result"
    }
   ],
   "source": [
    "model.intercept_"
   ]
  },
  {
   "cell_type": "markdown",
   "id": "5f43ec54",
   "metadata": {},
   "source": [
    "## Accuracy is equal Score"
   ]
  },
  {
   "cell_type": "code",
   "execution_count": 55,
   "id": "6ef7d2b5",
   "metadata": {
    "ExecuteTime": {
     "end_time": "2022-06-18T11:29:19.527770Z",
     "start_time": "2022-06-18T11:29:19.526182Z"
    }
   },
   "outputs": [],
   "source": [
    "from sklearn.metrics import accuracy_score"
   ]
  },
  {
   "cell_type": "code",
   "execution_count": 56,
   "id": "887c4916",
   "metadata": {
    "ExecuteTime": {
     "end_time": "2022-06-18T11:29:20.199018Z",
     "start_time": "2022-06-18T11:29:20.193735Z"
    }
   },
   "outputs": [],
   "source": [
    "y_pred = model.predict(X_train_trans)"
   ]
  },
  {
   "cell_type": "code",
   "execution_count": 57,
   "id": "f43c42c3",
   "metadata": {
    "ExecuteTime": {
     "end_time": "2022-06-18T11:29:20.612073Z",
     "start_time": "2022-06-18T11:29:20.609206Z"
    }
   },
   "outputs": [
    {
     "data": {
      "text/plain": [
       "0.8300561797752809"
      ]
     },
     "execution_count": 57,
     "metadata": {},
     "output_type": "execute_result"
    }
   ],
   "source": [
    "accuracy_score(y_train, y_pred)"
   ]
  },
  {
   "cell_type": "markdown",
   "id": "556b139a",
   "metadata": {},
   "source": [
    "## Difining Percision Recall and F1 Score "
   ]
  },
  {
   "cell_type": "code",
   "execution_count": 58,
   "id": "461d9deb",
   "metadata": {
    "ExecuteTime": {
     "end_time": "2022-06-18T11:29:24.449867Z",
     "start_time": "2022-06-18T11:29:24.448110Z"
    }
   },
   "outputs": [],
   "source": [
    "from sklearn.metrics import precision_score, recall_score, f1_score"
   ]
  },
  {
   "cell_type": "code",
   "execution_count": 59,
   "id": "0b662000",
   "metadata": {
    "ExecuteTime": {
     "end_time": "2022-06-18T11:29:31.059197Z",
     "start_time": "2022-06-18T11:29:31.049988Z"
    }
   },
   "outputs": [
    {
     "name": "stdout",
     "output_type": "stream",
     "text": [
      "precision = 0.78 \n",
      " \n",
      "recall = 0.76\n",
      "\n",
      "f1 = 0.77\n"
     ]
    }
   ],
   "source": [
    "print(f\"\"\"precision = {round(precision_score(y_train,y_pred),2)} \\n \n",
    "recall = {round(recall_score(y_train,y_pred),2)}\\n\n",
    "f1 = {round(f1_score(y_train,y_pred),2)}\"\"\")"
   ]
  },
  {
   "cell_type": "markdown",
   "id": "19633f46",
   "metadata": {},
   "source": [
    "## Confision Matrix off True Positiv/Nagativ and False Positiv/Negativ"
   ]
  },
  {
   "cell_type": "code",
   "execution_count": 63,
   "id": "2d9c2e84",
   "metadata": {
    "ExecuteTime": {
     "end_time": "2022-06-18T11:30:05.625974Z",
     "start_time": "2022-06-18T11:30:05.622350Z"
    }
   },
   "outputs": [],
   "source": [
    "from sklearn.metrics import  confusion_matrix,ConfusionMatrixDisplay"
   ]
  },
  {
   "cell_type": "code",
   "execution_count": 64,
   "id": "3c564f49",
   "metadata": {
    "ExecuteTime": {
     "end_time": "2022-06-18T11:30:06.504724Z",
     "start_time": "2022-06-18T11:30:06.501490Z"
    }
   },
   "outputs": [
    {
     "data": {
      "text/plain": [
       "array([[392,  57],\n",
       "       [ 64, 199]])"
      ]
     },
     "execution_count": 64,
     "metadata": {},
     "output_type": "execute_result"
    }
   ],
   "source": [
    "confusion_matrix(y_train, y_pred,labels=model.classes_)"
   ]
  },
  {
   "cell_type": "code",
   "execution_count": 65,
   "id": "185826fb",
   "metadata": {
    "ExecuteTime": {
     "end_time": "2022-06-18T11:30:08.181477Z",
     "start_time": "2022-06-18T11:30:08.131375Z"
    }
   },
   "outputs": [
    {
     "data": {
      "text/plain": [
       "<sklearn.metrics._plot.confusion_matrix.ConfusionMatrixDisplay at 0x7f59fdf3e3d0>"
      ]
     },
     "execution_count": 65,
     "metadata": {},
     "output_type": "execute_result"
    },
    {
     "data": {
      "image/png": "[encoded data removed]",
      "text/plain": [
       "<Figure size 432x288 with 2 Axes>"
      ]
     },
     "metadata": {
      "needs_background": "light"
     },
     "output_type": "display_data"
    }
   ],
   "source": [
    "ConfusionMatrixDisplay.from_estimator(model,X_train_trans,y_train)\n"
   ]
  },
  {
   "cell_type": "markdown",
   "id": "9a17f3df",
   "metadata": {},
   "source": [
    "## Reciever operating curve (ROC) and Area under the curve (AUC) "
   ]
  },
  {
   "cell_type": "code",
   "execution_count": 66,
   "id": "6e3deb19",
   "metadata": {
    "ExecuteTime": {
     "end_time": "2022-06-18T11:30:28.786047Z",
     "start_time": "2022-06-18T11:30:28.784377Z"
    }
   },
   "outputs": [],
   "source": [
    "from sklearn.metrics import roc_curve,auc ,RocCurveDisplay"
   ]
  },
  {
   "cell_type": "code",
   "execution_count": 67,
   "id": "71b1d461",
   "metadata": {
    "ExecuteTime": {
     "end_time": "2022-06-18T11:30:29.229604Z",
     "start_time": "2022-06-18T11:30:29.226115Z"
    }
   },
   "outputs": [
    {
     "data": {
      "text/plain": [
       "array([[0.91772314, 0.08227686],\n",
       "       [0.15138761, 0.84861239],\n",
       "       [0.67433819, 0.32566181],\n",
       "       ...,\n",
       "       [0.74594552, 0.25405448],\n",
       "       [0.57645335, 0.42354665],\n",
       "       [0.11923035, 0.88076965]])"
      ]
     },
     "execution_count": 67,
     "metadata": {},
     "output_type": "execute_result"
    }
   ],
   "source": [
    "probs_train = model.predict_proba(X_train_trans)\n",
    "probs_train"
   ]
  },
  {
   "cell_type": "code",
   "execution_count": 92,
   "id": "62e474e2",
   "metadata": {
    "ExecuteTime": {
     "end_time": "2022-06-18T11:33:02.397831Z",
     "start_time": "2022-06-18T11:33:02.351796Z"
    }
   },
   "outputs": [
    {
     "data": {
      "text/plain": [
       "<sklearn.metrics._plot.roc_curve.RocCurveDisplay at 0x7f59fda53940>"
      ]
     },
     "execution_count": 92,
     "metadata": {},
     "output_type": "execute_result"
    },
    {
     "data": {
      "image/png": "[encoded data removed]",
      "text/plain": [
       "<Figure size 432x288 with 1 Axes>"
      ]
     },
     "metadata": {
      "needs_background": "light"
     },
     "output_type": "display_data"
    }
   ],
   "source": [
    "RocCurveDisplay.from_estimator(model,X_train_trans,y_train)"
   ]
  },
  {
   "cell_type": "markdown",
   "id": "452c9c29",
   "metadata": {},
   "source": [
    "## Getting Flase positiv rate True positive rate and Tresurehold from ROC "
   ]
  },
  {
   "cell_type": "code",
   "execution_count": 69,
   "id": "cabb9af0",
   "metadata": {
    "ExecuteTime": {
     "end_time": "2022-06-18T11:30:46.328666Z",
     "start_time": "2022-06-18T11:30:46.326382Z"
    }
   },
   "outputs": [],
   "source": [
    "fpr,tpr,tresurehold = roc_curve(y_train,probs_train[:,1])"
   ]
  },
  {
   "cell_type": "markdown",
   "id": "cde1553b",
   "metadata": {},
   "source": [
    "## Finding best Tresurehold index fron ROC"
   ]
  },
  {
   "cell_type": "code",
   "execution_count": 70,
   "id": "b406163c",
   "metadata": {
    "ExecuteTime": {
     "end_time": "2022-06-18T11:30:48.099677Z",
     "start_time": "2022-06-18T11:30:48.097083Z"
    }
   },
   "outputs": [
    {
     "data": {
      "text/plain": [
       "93"
      ]
     },
     "execution_count": 70,
     "metadata": {},
     "output_type": "execute_result"
    }
   ],
   "source": [
    "max_index=np.argmax(tpr-fpr)\n",
    "max_index"
   ]
  },
  {
   "cell_type": "code",
   "execution_count": 71,
   "id": "5cc37f96",
   "metadata": {
    "ExecuteTime": {
     "end_time": "2022-06-18T11:30:50.629501Z",
     "start_time": "2022-06-18T11:30:50.627007Z"
    }
   },
   "outputs": [
    {
     "data": {
      "text/plain": [
       "0.4501344655691836"
      ]
     },
     "execution_count": 71,
     "metadata": {},
     "output_type": "execute_result"
    }
   ],
   "source": [
    "tresurehold[max_index]"
   ]
  },
  {
   "cell_type": "markdown",
   "id": "06977fce",
   "metadata": {},
   "source": [
    "## get the Area unter the Curve (AUC)"
   ]
  },
  {
   "cell_type": "code",
   "execution_count": 72,
   "id": "f9acad0c",
   "metadata": {
    "ExecuteTime": {
     "end_time": "2022-06-18T11:31:14.485244Z",
     "start_time": "2022-06-18T11:31:14.482483Z"
    }
   },
   "outputs": [
    {
     "data": {
      "text/plain": [
       "0.8693505635675391"
      ]
     },
     "execution_count": 72,
     "metadata": {},
     "output_type": "execute_result"
    }
   ],
   "source": [
    "auc(fpr,tpr)"
   ]
  },
  {
   "cell_type": "markdown",
   "id": "4319cdcd",
   "metadata": {},
   "source": [
    "## Get new perdiction with new Tresurehold"
   ]
  },
  {
   "cell_type": "code",
   "execution_count": 93,
   "id": "053e694a",
   "metadata": {
    "ExecuteTime": {
     "end_time": "2022-06-18T11:33:24.954459Z",
     "start_time": "2022-06-18T11:33:24.950669Z"
    }
   },
   "outputs": [],
   "source": [
    "prob_train_df=pd.DataFrame(probs_train)"
   ]
  },
  {
   "cell_type": "code",
   "execution_count": 94,
   "id": "70272520",
   "metadata": {
    "ExecuteTime": {
     "end_time": "2022-06-18T11:33:26.385622Z",
     "start_time": "2022-06-18T11:33:26.382951Z"
    }
   },
   "outputs": [],
   "source": [
    "prob_train_df[\"tresurhold\"]=tresurehold[max_index]"
   ]
  },
  {
   "cell_type": "code",
   "execution_count": 95,
   "id": "5456ca9f",
   "metadata": {
    "ExecuteTime": {
     "end_time": "2022-06-18T11:33:26.644001Z",
     "start_time": "2022-06-18T11:33:26.639669Z"
    }
   },
   "outputs": [
    {
     "data": {
      "text/html": [
       "<div>\n",
       "<style scoped>\n",
       "    .dataframe tbody tr th:only-of-type {\n",
       "        vertical-align: middle;\n",
       "    }\n",
       "\n",
       "    .dataframe tbody tr th {\n",
       "        vertical-align: top;\n",
       "    }\n",
       "\n",
       "    .dataframe thead th {\n",
       "        text-align: right;\n",
       "    }\n",
       "</style>\n",
       "<table border=\"1\" class=\"dataframe\">\n",
       "  <thead>\n",
       "    <tr style=\"text-align: right;\">\n",
       "      <th></th>\n",
       "      <th>0</th>\n",
       "      <th>1</th>\n",
       "      <th>tresurhold</th>\n",
       "    </tr>\n",
       "  </thead>\n",
       "  <tbody>\n",
       "    <tr>\n",
       "      <th>0</th>\n",
       "      <td>0.917723</td>\n",
       "      <td>0.082277</td>\n",
       "      <td>0.450134</td>\n",
       "    </tr>\n",
       "    <tr>\n",
       "      <th>1</th>\n",
       "      <td>0.151388</td>\n",
       "      <td>0.848612</td>\n",
       "      <td>0.450134</td>\n",
       "    </tr>\n",
       "    <tr>\n",
       "      <th>2</th>\n",
       "      <td>0.674338</td>\n",
       "      <td>0.325662</td>\n",
       "      <td>0.450134</td>\n",
       "    </tr>\n",
       "    <tr>\n",
       "      <th>3</th>\n",
       "      <td>0.610203</td>\n",
       "      <td>0.389797</td>\n",
       "      <td>0.450134</td>\n",
       "    </tr>\n",
       "    <tr>\n",
       "      <th>4</th>\n",
       "      <td>0.812982</td>\n",
       "      <td>0.187018</td>\n",
       "      <td>0.450134</td>\n",
       "    </tr>\n",
       "  </tbody>\n",
       "</table>\n",
       "</div>"
      ],
      "text/plain": [
       "          0         1  tresurhold\n",
       "0  0.917723  0.082277    0.450134\n",
       "1  0.151388  0.848612    0.450134\n",
       "2  0.674338  0.325662    0.450134\n",
       "3  0.610203  0.389797    0.450134\n",
       "4  0.812982  0.187018    0.450134"
      ]
     },
     "execution_count": 95,
     "metadata": {},
     "output_type": "execute_result"
    }
   ],
   "source": [
    "prob_train_df.head()"
   ]
  },
  {
   "cell_type": "code",
   "execution_count": 96,
   "id": "bf216106",
   "metadata": {
    "ExecuteTime": {
     "end_time": "2022-06-18T11:33:26.882979Z",
     "start_time": "2022-06-18T11:33:26.880381Z"
    }
   },
   "outputs": [],
   "source": [
    "prob_train_df[\"new_prediction\"]=(prob_train_df[1]>prob_train_df[\"tresurhold\"]).astype(int)"
   ]
  },
  {
   "cell_type": "code",
   "execution_count": 97,
   "id": "bddac95b",
   "metadata": {
    "ExecuteTime": {
     "end_time": "2022-06-18T11:33:27.170913Z",
     "start_time": "2022-06-18T11:33:27.166415Z"
    }
   },
   "outputs": [
    {
     "data": {
      "text/html": [
       "<div>\n",
       "<style scoped>\n",
       "    .dataframe tbody tr th:only-of-type {\n",
       "        vertical-align: middle;\n",
       "    }\n",
       "\n",
       "    .dataframe tbody tr th {\n",
       "        vertical-align: top;\n",
       "    }\n",
       "\n",
       "    .dataframe thead th {\n",
       "        text-align: right;\n",
       "    }\n",
       "</style>\n",
       "<table border=\"1\" class=\"dataframe\">\n",
       "  <thead>\n",
       "    <tr style=\"text-align: right;\">\n",
       "      <th></th>\n",
       "      <th>0</th>\n",
       "      <th>1</th>\n",
       "      <th>tresurhold</th>\n",
       "      <th>new_prediction</th>\n",
       "    </tr>\n",
       "  </thead>\n",
       "  <tbody>\n",
       "    <tr>\n",
       "      <th>0</th>\n",
       "      <td>0.917723</td>\n",
       "      <td>0.082277</td>\n",
       "      <td>0.450134</td>\n",
       "      <td>0</td>\n",
       "    </tr>\n",
       "    <tr>\n",
       "      <th>1</th>\n",
       "      <td>0.151388</td>\n",
       "      <td>0.848612</td>\n",
       "      <td>0.450134</td>\n",
       "      <td>1</td>\n",
       "    </tr>\n",
       "    <tr>\n",
       "      <th>2</th>\n",
       "      <td>0.674338</td>\n",
       "      <td>0.325662</td>\n",
       "      <td>0.450134</td>\n",
       "      <td>0</td>\n",
       "    </tr>\n",
       "    <tr>\n",
       "      <th>3</th>\n",
       "      <td>0.610203</td>\n",
       "      <td>0.389797</td>\n",
       "      <td>0.450134</td>\n",
       "      <td>0</td>\n",
       "    </tr>\n",
       "    <tr>\n",
       "      <th>4</th>\n",
       "      <td>0.812982</td>\n",
       "      <td>0.187018</td>\n",
       "      <td>0.450134</td>\n",
       "      <td>0</td>\n",
       "    </tr>\n",
       "  </tbody>\n",
       "</table>\n",
       "</div>"
      ],
      "text/plain": [
       "          0         1  tresurhold  new_prediction\n",
       "0  0.917723  0.082277    0.450134               0\n",
       "1  0.151388  0.848612    0.450134               1\n",
       "2  0.674338  0.325662    0.450134               0\n",
       "3  0.610203  0.389797    0.450134               0\n",
       "4  0.812982  0.187018    0.450134               0"
      ]
     },
     "execution_count": 97,
     "metadata": {},
     "output_type": "execute_result"
    }
   ],
   "source": [
    "prob_train_df.head()"
   ]
  },
  {
   "cell_type": "markdown",
   "id": "3b211eb1",
   "metadata": {},
   "source": [
    "## Differentce from new (0.45023) and old (.5)  Tresurehold on Testdata"
   ]
  },
  {
   "cell_type": "code",
   "execution_count": 98,
   "id": "3fb5e2b7",
   "metadata": {
    "ExecuteTime": {
     "end_time": "2022-06-18T11:33:27.854654Z",
     "start_time": "2022-06-18T11:33:27.852788Z"
    }
   },
   "outputs": [],
   "source": [
    "acc_test=[]"
   ]
  },
  {
   "cell_type": "code",
   "execution_count": 99,
   "id": "1e96b2af",
   "metadata": {
    "ExecuteTime": {
     "end_time": "2022-06-18T11:33:28.178545Z",
     "start_time": "2022-06-18T11:33:28.174379Z"
    }
   },
   "outputs": [],
   "source": [
    "acc_test.append(accuracy_score(y_train, model.predict(X_train_trans)))"
   ]
  },
  {
   "cell_type": "code",
   "execution_count": 100,
   "id": "d07569ec",
   "metadata": {
    "ExecuteTime": {
     "end_time": "2022-06-18T11:33:28.441931Z",
     "start_time": "2022-06-18T11:33:28.440092Z"
    }
   },
   "outputs": [],
   "source": [
    "acc_test.append(accuracy_score(y_train, prob_train_df[\"new_prediction\"]))"
   ]
  },
  {
   "cell_type": "code",
   "execution_count": 101,
   "id": "64aa1405",
   "metadata": {
    "ExecuteTime": {
     "end_time": "2022-06-18T11:33:28.678858Z",
     "start_time": "2022-06-18T11:33:28.675778Z"
    }
   },
   "outputs": [
    {
     "data": {
      "text/plain": [
       "[0.8300561797752809, 0.8328651685393258]"
      ]
     },
     "execution_count": 101,
     "metadata": {},
     "output_type": "execute_result"
    }
   ],
   "source": [
    "acc_test"
   ]
  },
  {
   "cell_type": "code",
   "execution_count": 102,
   "id": "f8ea4720",
   "metadata": {
    "ExecuteTime": {
     "end_time": "2022-06-18T11:33:29.245610Z",
     "start_time": "2022-06-18T11:33:29.209387Z"
    }
   },
   "outputs": [
    {
     "data": {
      "text/plain": [
       "<AxesSubplot:>"
      ]
     },
     "execution_count": 102,
     "metadata": {},
     "output_type": "execute_result"
    },
    {
     "data": {
      "image/png": "[encoded data removed]",
      "text/plain": [
       "<Figure size 432x288 with 1 Axes>"
      ]
     },
     "metadata": {
      "needs_background": "light"
     },
     "output_type": "display_data"
    }
   ],
   "source": [
    "plt.axis((0,1,.83,.833))\n",
    "sns.barplot([0,1],acc_test)"
   ]
  },
  {
   "cell_type": "markdown",
   "id": "be348a57",
   "metadata": {},
   "source": [
    "## Differentce from new (0.506912329046902) and old (.5) Tresurehold on Valuation Data"
   ]
  },
  {
   "cell_type": "code",
   "execution_count": 103,
   "id": "cce939ee",
   "metadata": {
    "ExecuteTime": {
     "end_time": "2022-06-18T11:33:31.580440Z",
     "start_time": "2022-06-18T11:33:31.578457Z"
    }
   },
   "outputs": [],
   "source": [
    "props_val = model.predict_proba(X_val_trans)"
   ]
  },
  {
   "cell_type": "code",
   "execution_count": 104,
   "id": "8052f2f9",
   "metadata": {
    "ExecuteTime": {
     "end_time": "2022-06-18T11:33:32.337379Z",
     "start_time": "2022-06-18T11:33:32.333084Z"
    }
   },
   "outputs": [],
   "source": [
    "prob_val_df = pd.DataFrame(props_val)"
   ]
  },
  {
   "cell_type": "code",
   "execution_count": 105,
   "id": "948b2f2a",
   "metadata": {
    "ExecuteTime": {
     "end_time": "2022-06-18T11:33:32.742514Z",
     "start_time": "2022-06-18T11:33:32.740518Z"
    }
   },
   "outputs": [],
   "source": [
    "prob_val_df[\"tresurhold\"]=tresurehold[max_index]"
   ]
  },
  {
   "cell_type": "code",
   "execution_count": 106,
   "id": "7c8308f1",
   "metadata": {
    "ExecuteTime": {
     "end_time": "2022-06-18T11:33:33.243530Z",
     "start_time": "2022-06-18T11:33:33.238808Z"
    }
   },
   "outputs": [],
   "source": [
    "prob_val_df[\"new_prediction\"]=(prob_val_df[1]>prob_val_df[\"tresurhold\"]).astype(int)"
   ]
  },
  {
   "cell_type": "code",
   "execution_count": 107,
   "id": "275688b5",
   "metadata": {
    "ExecuteTime": {
     "end_time": "2022-06-18T11:33:33.958828Z",
     "start_time": "2022-06-18T11:33:33.956962Z"
    }
   },
   "outputs": [],
   "source": [
    "acc_val= []"
   ]
  },
  {
   "cell_type": "code",
   "execution_count": 108,
   "id": "c363f877",
   "metadata": {
    "ExecuteTime": {
     "end_time": "2022-06-18T11:33:34.551934Z",
     "start_time": "2022-06-18T11:33:34.547511Z"
    }
   },
   "outputs": [],
   "source": [
    "acc_val.append(accuracy_score(y_val,model.predict(X_val_trans)))"
   ]
  },
  {
   "cell_type": "code",
   "execution_count": 109,
   "id": "599bf679",
   "metadata": {
    "ExecuteTime": {
     "end_time": "2022-06-18T11:33:35.763778Z",
     "start_time": "2022-06-18T11:33:35.761913Z"
    }
   },
   "outputs": [],
   "source": [
    "acc_val.append(accuracy_score(y_val,prob_val_df[\"new_prediction\"]))"
   ]
  },
  {
   "cell_type": "code",
   "execution_count": 110,
   "id": "0cae2044",
   "metadata": {
    "ExecuteTime": {
     "end_time": "2022-06-18T11:33:37.094977Z",
     "start_time": "2022-06-18T11:33:37.093001Z"
    }
   },
   "outputs": [
    {
     "data": {
      "text/plain": [
       "[0.8156424581005587, 0.8212290502793296]"
      ]
     },
     "execution_count": 110,
     "metadata": {},
     "output_type": "execute_result"
    }
   ],
   "source": [
    "acc_val"
   ]
  },
  {
   "cell_type": "code",
   "execution_count": 111,
   "id": "d311b756",
   "metadata": {
    "ExecuteTime": {
     "end_time": "2022-06-18T11:33:39.730221Z",
     "start_time": "2022-06-18T11:33:39.697380Z"
    }
   },
   "outputs": [
    {
     "data": {
      "text/plain": [
       "<AxesSubplot:>"
      ]
     },
     "execution_count": 111,
     "metadata": {},
     "output_type": "execute_result"
    },
    {
     "data": {
      "image/png": "[encoded data removed]",
      "text/plain": [
       "<Figure size 432x288 with 1 Axes>"
      ]
     },
     "metadata": {
      "needs_background": "light"
     },
     "output_type": "display_data"
    }
   ],
   "source": [
    "plt.axis((0,1,.81,.822))\n",
    "sns.barplot([0,1],acc_val)"
   ]
  },
  {
   "cell_type": "markdown",
   "id": "bce25407",
   "metadata": {},
   "source": [
    "## Creating datafile for Kaggle"
   ]
  },
  {
   "cell_type": "code",
   "execution_count": 112,
   "id": "f1230f32",
   "metadata": {
    "ExecuteTime": {
     "end_time": "2022-06-18T11:33:42.800862Z",
     "start_time": "2022-06-18T11:33:42.781562Z"
    }
   },
   "outputs": [],
   "source": [
    "test = pd.read_csv(\"data/test.csv\",sep=\",\",index_col = 0)\n",
    "test[\"Title\"]=test.Name.str.split(\",\",expand=True)[1].str.split(\".\",expand=True)[0].str.strip()\n",
    "test[\"ClassSex\"]=test[\"Pclass\"].apply(str)+ df[\"Sex\"]\n",
    "df2=test[test.Age.isna()]\n",
    "for item in mean_age.index:\n",
    "    df2.loc[df2[\"ClassSex\"]==item,\"Age\"]=mean_age[item]\n",
    "test[test.Age.isna()]=df2\n",
    "test.replace({'Title':title_dic},inplace=True)\n",
    "test_trans = feature_transform.transform(test)\n",
    "test_pred = model.predict(test_trans)\n",
    "test_props_val = model.predict_proba(test_trans)\n",
    "test_prob_val_df = pd.DataFrame(test_props_val)\n",
    "test_prob_val_df[\"tresurhold\"]=tresurehold[max_index]\n",
    "test_prob_val_df[\"new_prediction\"]=(test_prob_val_df[1]>test_prob_val_df[\"tresurhold\"]).astype(int)\n",
    "kraggle = pd.DataFrame(test.index)\n",
    "kraggle[\"Survived\"]=test_prob_val_df[\"new_prediction\"]\n",
    "kraggle.set_index(\"PassengerId\")\n",
    "kraggle.to_csv(\"data/kraggle_logistic_regession.csv\",index = False)"
   ]
  },
  {
   "cell_type": "code",
   "execution_count": null,
   "id": "dd010d59",
   "metadata": {},
   "outputs": [],
   "source": []
  }
 ],
 "metadata": {
  "kernelspec": {
   "display_name": "Python 3 (ipykernel)",
   "language": "python",
   "name": "python3"
  },
  "language_info": {
   "codemirror_mode": {
    "name": "ipython",
    "version": 3
   },
   "file_extension": ".py",
   "mimetype": "text/x-python",
   "name": "python",
   "nbconvert_exporter": "python",
   "pygments_lexer": "ipython3",
   "version": "3.9.12"
  },
  "toc": {
   "base_numbering": 1,
   "nav_menu": {},
   "number_sections": true,
   "sideBar": true,
   "skip_h1_title": false,
   "title_cell": "Table of Contents",
   "title_sidebar": "Project Week 2",
   "toc_cell": false,
   "toc_position": {
    "height": "calc(100% - 180px)",
    "left": "10px",
    "top": "150px",
    "width": "384px"
   },
   "toc_section_display": true,
   "toc_window_display": true
  },
  "varInspector": {
   "cols": {
    "lenName": 16,
    "lenType": 16,
    "lenVar": 40
   },
   "kernels_config": {
    "python": {
     "delete_cmd_postfix": "",
     "delete_cmd_prefix": "del ",
     "library": "var_list.py",
     "varRefreshCmd": "print(var_dic_list())"
    },
    "r": {
     "delete_cmd_postfix": ") ",
     "delete_cmd_prefix": "rm(",
     "library": "var_list.r",
     "varRefreshCmd": "cat(var_dic_list()) "
    }
   },
   "types_to_exclude": [
    "module",
    "function",
    "builtin_function_or_method",
    "instance",
    "_Feature"
   ],
   "window_display": false
  }
 },
 "nbformat": 4,
 "nbformat_minor": 5
}
