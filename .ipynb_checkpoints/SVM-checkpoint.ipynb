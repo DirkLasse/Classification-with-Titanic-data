{
 "cells": [
  {
   "cell_type": "markdown",
   "id": "40c0a4d6",
   "metadata": {},
   "source": [
    "## Logistic regression at Titanic Data\n",
    "Import libs"
   ]
  },
  {
   "cell_type": "code",
   "execution_count": 1,
   "id": "156e77fd",
   "metadata": {},
   "outputs": [],
   "source": [
    "import pandas as pd\n",
    "import numpy as np\n",
    "from sklearn.model_selection import train_test_split\n",
    "from sklearn.linear_model import LogisticRegression\n",
    "import seaborn as sns\n",
    "from matplotlib import pyplot as plt\n",
    "import warnings\n",
    "warnings.filterwarnings(\"ignore\")"
   ]
  },
  {
   "cell_type": "markdown",
   "id": "6f51ff1c",
   "metadata": {},
   "source": [
    "## Read Data"
   ]
  },
  {
   "cell_type": "code",
   "execution_count": 2,
   "id": "9d5e397e",
   "metadata": {},
   "outputs": [],
   "source": [
    "df = pd.read_csv(\"data/train.csv\", sep=\",\", index_col=0)"
   ]
  },
  {
   "cell_type": "markdown",
   "id": "84bb3c07",
   "metadata": {},
   "source": [
    "## Examing Data"
   ]
  },
  {
   "cell_type": "code",
   "execution_count": 3,
   "id": "71f064d5",
   "metadata": {},
   "outputs": [
    {
     "data": {
      "text/html": [
       "<div>\n",
       "<style scoped>\n",
       "    .dataframe tbody tr th:only-of-type {\n",
       "        vertical-align: middle;\n",
       "    }\n",
       "\n",
       "    .dataframe tbody tr th {\n",
       "        vertical-align: top;\n",
       "    }\n",
       "\n",
       "    .dataframe thead th {\n",
       "        text-align: right;\n",
       "    }\n",
       "</style>\n",
       "<table border=\"1\" class=\"dataframe\">\n",
       "  <thead>\n",
       "    <tr style=\"text-align: right;\">\n",
       "      <th></th>\n",
       "      <th>Survived</th>\n",
       "      <th>Pclass</th>\n",
       "      <th>Name</th>\n",
       "      <th>Sex</th>\n",
       "      <th>Age</th>\n",
       "      <th>SibSp</th>\n",
       "      <th>Parch</th>\n",
       "      <th>Ticket</th>\n",
       "      <th>Fare</th>\n",
       "      <th>Cabin</th>\n",
       "      <th>Embarked</th>\n",
       "    </tr>\n",
       "    <tr>\n",
       "      <th>PassengerId</th>\n",
       "      <th></th>\n",
       "      <th></th>\n",
       "      <th></th>\n",
       "      <th></th>\n",
       "      <th></th>\n",
       "      <th></th>\n",
       "      <th></th>\n",
       "      <th></th>\n",
       "      <th></th>\n",
       "      <th></th>\n",
       "      <th></th>\n",
       "    </tr>\n",
       "  </thead>\n",
       "  <tbody>\n",
       "    <tr>\n",
       "      <th>1</th>\n",
       "      <td>0</td>\n",
       "      <td>3</td>\n",
       "      <td>Braund, Mr. Owen Harris</td>\n",
       "      <td>male</td>\n",
       "      <td>22.0</td>\n",
       "      <td>1</td>\n",
       "      <td>0</td>\n",
       "      <td>A/5 21171</td>\n",
       "      <td>7.2500</td>\n",
       "      <td>NaN</td>\n",
       "      <td>S</td>\n",
       "    </tr>\n",
       "    <tr>\n",
       "      <th>2</th>\n",
       "      <td>1</td>\n",
       "      <td>1</td>\n",
       "      <td>Cumings, Mrs. John Bradley (Florence Briggs Th...</td>\n",
       "      <td>female</td>\n",
       "      <td>38.0</td>\n",
       "      <td>1</td>\n",
       "      <td>0</td>\n",
       "      <td>PC 17599</td>\n",
       "      <td>71.2833</td>\n",
       "      <td>C85</td>\n",
       "      <td>C</td>\n",
       "    </tr>\n",
       "    <tr>\n",
       "      <th>3</th>\n",
       "      <td>1</td>\n",
       "      <td>3</td>\n",
       "      <td>Heikkinen, Miss. Laina</td>\n",
       "      <td>female</td>\n",
       "      <td>26.0</td>\n",
       "      <td>0</td>\n",
       "      <td>0</td>\n",
       "      <td>STON/O2. 3101282</td>\n",
       "      <td>7.9250</td>\n",
       "      <td>NaN</td>\n",
       "      <td>S</td>\n",
       "    </tr>\n",
       "    <tr>\n",
       "      <th>4</th>\n",
       "      <td>1</td>\n",
       "      <td>1</td>\n",
       "      <td>Futrelle, Mrs. Jacques Heath (Lily May Peel)</td>\n",
       "      <td>female</td>\n",
       "      <td>35.0</td>\n",
       "      <td>1</td>\n",
       "      <td>0</td>\n",
       "      <td>113803</td>\n",
       "      <td>53.1000</td>\n",
       "      <td>C123</td>\n",
       "      <td>S</td>\n",
       "    </tr>\n",
       "    <tr>\n",
       "      <th>5</th>\n",
       "      <td>0</td>\n",
       "      <td>3</td>\n",
       "      <td>Allen, Mr. William Henry</td>\n",
       "      <td>male</td>\n",
       "      <td>35.0</td>\n",
       "      <td>0</td>\n",
       "      <td>0</td>\n",
       "      <td>373450</td>\n",
       "      <td>8.0500</td>\n",
       "      <td>NaN</td>\n",
       "      <td>S</td>\n",
       "    </tr>\n",
       "  </tbody>\n",
       "</table>\n",
       "</div>"
      ],
      "text/plain": [
       "             Survived  Pclass  \\\n",
       "PassengerId                     \n",
       "1                   0       3   \n",
       "2                   1       1   \n",
       "3                   1       3   \n",
       "4                   1       1   \n",
       "5                   0       3   \n",
       "\n",
       "                                                          Name     Sex   Age  \\\n",
       "PassengerId                                                                    \n",
       "1                                      Braund, Mr. Owen Harris    male  22.0   \n",
       "2            Cumings, Mrs. John Bradley (Florence Briggs Th...  female  38.0   \n",
       "3                                       Heikkinen, Miss. Laina  female  26.0   \n",
       "4                 Futrelle, Mrs. Jacques Heath (Lily May Peel)  female  35.0   \n",
       "5                                     Allen, Mr. William Henry    male  35.0   \n",
       "\n",
       "             SibSp  Parch            Ticket     Fare Cabin Embarked  \n",
       "PassengerId                                                          \n",
       "1                1      0         A/5 21171   7.2500   NaN        S  \n",
       "2                1      0          PC 17599  71.2833   C85        C  \n",
       "3                0      0  STON/O2. 3101282   7.9250   NaN        S  \n",
       "4                1      0            113803  53.1000  C123        S  \n",
       "5                0      0            373450   8.0500   NaN        S  "
      ]
     },
     "execution_count": 3,
     "metadata": {},
     "output_type": "execute_result"
    }
   ],
   "source": [
    "df.head()"
   ]
  },
  {
   "cell_type": "code",
   "execution_count": 4,
   "id": "64ccc85d",
   "metadata": {},
   "outputs": [
    {
     "data": {
      "text/plain": [
       "Survived      0\n",
       "Pclass        0\n",
       "Name          0\n",
       "Sex           0\n",
       "Age         177\n",
       "SibSp         0\n",
       "Parch         0\n",
       "Ticket        0\n",
       "Fare          0\n",
       "Cabin       687\n",
       "Embarked      2\n",
       "dtype: int64"
      ]
     },
     "execution_count": 4,
     "metadata": {},
     "output_type": "execute_result"
    }
   ],
   "source": [
    "df.isna().sum()"
   ]
  },
  {
   "cell_type": "markdown",
   "id": "5873a035",
   "metadata": {},
   "source": [
    "## Import Sklearn Moduls"
   ]
  },
  {
   "cell_type": "code",
   "execution_count": 5,
   "id": "f88489ba",
   "metadata": {},
   "outputs": [],
   "source": [
    "from sklearn.pipeline import make_pipeline\n",
    "from sklearn.impute import SimpleImputer\n",
    "from sklearn.preprocessing import MinMaxScaler\n",
    "from sklearn.preprocessing import OneHotEncoder , OrdinalEncoder\n",
    "from sklearn.compose import ColumnTransformer"
   ]
  },
  {
   "cell_type": "markdown",
   "id": "ad2114d5",
   "metadata": {},
   "source": [
    "## Creating Catigory and Number pipes and feature transformer"
   ]
  },
  {
   "cell_type": "code",
   "execution_count": 6,
   "id": "450193db",
   "metadata": {},
   "outputs": [],
   "source": [
    "cat_pipe = make_pipeline(SimpleImputer(strategy='most_frequent'),\n",
    "                         #OneHotEncoder(sparse=False, handle_unknown=\"ignore\")\n",
    "                         OrdinalEncoder()\n",
    ")"
   ]
  },
  {
   "cell_type": "code",
   "execution_count": 7,
   "id": "f055d0bc",
   "metadata": {},
   "outputs": [],
   "source": [
    "num_pipe = make_pipeline(SimpleImputer(strategy=\"median\"), MinMaxScaler())"
   ]
  },
  {
   "cell_type": "code",
   "execution_count": 8,
   "id": "261c0386",
   "metadata": {},
   "outputs": [],
   "source": [
    "feature_transform = ColumnTransformer([\n",
    "    (\"Drop Column\", 'drop', ['Cabin', 'Name', 'Ticket']),\n",
    "    (\"Cat preprossing\", cat_pipe, ['Sex', 'Embarked']),\n",
    "    (\"Mun preprosseing\", num_pipe, ['Pclass', 'Age', 'SibSp', 'Parch', 'Fare'])\n",
    "])"
   ]
  },
  {
   "cell_type": "markdown",
   "id": "ec51b6ff",
   "metadata": {},
   "source": [
    "## Split DF in y and X Data and in Train and Validation Data"
   ]
  },
  {
   "cell_type": "code",
   "execution_count": 9,
   "id": "843287e5",
   "metadata": {},
   "outputs": [],
   "source": [
    "y = df[\"Survived\"]\n",
    "X = df.drop(\"Survived\", axis=1)"
   ]
  },
  {
   "cell_type": "code",
   "execution_count": 10,
   "id": "d7e7e285",
   "metadata": {},
   "outputs": [],
   "source": [
    "X_train, X_val, y_train, y_val = train_test_split(X,\n",
    "                                                  y,\n",
    "                                                  test_size=0.2,\n",
    "                                                  random_state=1000)"
   ]
  },
  {
   "cell_type": "code",
   "execution_count": 11,
   "id": "ac1a2454",
   "metadata": {},
   "outputs": [
    {
     "data": {
      "text/plain": [
       "((712, 10), (712,))"
      ]
     },
     "execution_count": 11,
     "metadata": {},
     "output_type": "execute_result"
    }
   ],
   "source": [
    "X_train.shape, y_train.shape"
   ]
  },
  {
   "cell_type": "markdown",
   "id": "598e7212",
   "metadata": {},
   "source": [
    "## Fill NaN and Transform Strings to numbers"
   ]
  },
  {
   "cell_type": "code",
   "execution_count": 12,
   "id": "dc264fb6",
   "metadata": {},
   "outputs": [],
   "source": [
    "X_train_trans = feature_transform.fit_transform(X_train)"
   ]
  },
  {
   "cell_type": "markdown",
   "id": "12c16d6d",
   "metadata": {},
   "source": [
    "## Load Define and Train Model for SVC"
   ]
  },
  {
   "cell_type": "code",
   "execution_count": 13,
   "id": "e9a414d2",
   "metadata": {},
   "outputs": [],
   "source": [
    "from sklearn.svm import SVC"
   ]
  },
  {
   "cell_type": "code",
   "execution_count": 98,
   "id": "33699265",
   "metadata": {},
   "outputs": [],
   "source": [
    "model = SVC(kernel='rbf', C=3,probability=True )  "
   ]
  },
  {
   "cell_type": "code",
   "execution_count": 99,
   "id": "77ce3563",
   "metadata": {},
   "outputs": [
    {
     "data": {
      "text/plain": [
       "SVC(C=3, probability=True)"
      ]
     },
     "execution_count": 99,
     "metadata": {},
     "output_type": "execute_result"
    }
   ],
   "source": [
    "model.fit(X_train_trans, y_train)"
   ]
  },
  {
   "cell_type": "markdown",
   "id": "c497306f",
   "metadata": {},
   "source": [
    "## Presition Score on Test data "
   ]
  },
  {
   "cell_type": "code",
   "execution_count": 100,
   "id": "3f99acb8",
   "metadata": {},
   "outputs": [
    {
     "data": {
      "text/plain": [
       "0.8146067415730337"
      ]
     },
     "execution_count": 100,
     "metadata": {},
     "output_type": "execute_result"
    }
   ],
   "source": [
    "model.score(X_train_trans, y_train)"
   ]
  },
  {
   "cell_type": "markdown",
   "id": "a17be40a",
   "metadata": {},
   "source": [
    "## Presition Score on Validation data"
   ]
  },
  {
   "cell_type": "code",
   "execution_count": 101,
   "id": "dfe5e31f",
   "metadata": {},
   "outputs": [],
   "source": [
    "X_val_trans = feature_transform.transform(X_val)"
   ]
  },
  {
   "cell_type": "code",
   "execution_count": 102,
   "id": "eaf303cd",
   "metadata": {},
   "outputs": [
    {
     "data": {
      "text/plain": [
       "0.8156424581005587"
      ]
     },
     "execution_count": 102,
     "metadata": {},
     "output_type": "execute_result"
    }
   ],
   "source": [
    "model.score(X_val_trans, y_val)"
   ]
  },
  {
   "cell_type": "code",
   "execution_count": 103,
   "id": "6629b756",
   "metadata": {},
   "outputs": [],
   "source": [
    "from sklearn.model_selection import cross_val_score "
   ]
  },
  {
   "cell_type": "code",
   "execution_count": 104,
   "id": "7e1b9740",
   "metadata": {},
   "outputs": [],
   "source": [
    "cross_val_log = cross_val_score(model,\n",
    "                                X_train_trans,\n",
    "                                y_train,\n",
    "                                cv=5,\n",
    "                                scoring=\"accuracy\"\n",
    ")"
   ]
  },
  {
   "cell_type": "code",
   "execution_count": 105,
   "id": "ed79bf96",
   "metadata": {},
   "outputs": [
    {
     "data": {
      "text/plain": [
       "(array([0.81118881, 0.77622378, 0.80985915, 0.83802817, 0.80985915]),\n",
       " 0.8090318132571653)"
      ]
     },
     "execution_count": 105,
     "metadata": {},
     "output_type": "execute_result"
    }
   ],
   "source": [
    "cross_val_log , cross_val_log.mean()"
   ]
  },
  {
   "cell_type": "markdown",
   "id": "a3256b9a",
   "metadata": {},
   "source": [
    "## The Presition probapillity from the Model at Trainig data"
   ]
  },
  {
   "cell_type": "code",
   "execution_count": 106,
   "id": "52ca9272",
   "metadata": {},
   "outputs": [
    {
     "data": {
      "text/plain": [
       "array([[0.8121808 , 0.1878192 ],\n",
       "       [0.13801776, 0.86198224],\n",
       "       [0.80544382, 0.19455618],\n",
       "       ...,\n",
       "       [0.83019941, 0.16980059],\n",
       "       [0.77637998, 0.22362002],\n",
       "       [0.02122114, 0.97877886]])"
      ]
     },
     "execution_count": 106,
     "metadata": {},
     "output_type": "execute_result"
    }
   ],
   "source": [
    "model.predict_proba(X_train_trans)"
   ]
  },
  {
   "cell_type": "markdown",
   "id": "5f43ec54",
   "metadata": {},
   "source": [
    "## Accuracy is equal Score"
   ]
  },
  {
   "cell_type": "code",
   "execution_count": 107,
   "id": "6ef7d2b5",
   "metadata": {},
   "outputs": [],
   "source": [
    "from sklearn.metrics import accuracy_score"
   ]
  },
  {
   "cell_type": "code",
   "execution_count": 108,
   "id": "887c4916",
   "metadata": {},
   "outputs": [],
   "source": [
    "y_pred = model.predict(X_train_trans)"
   ]
  },
  {
   "cell_type": "code",
   "execution_count": 109,
   "id": "f43c42c3",
   "metadata": {},
   "outputs": [
    {
     "data": {
      "text/plain": [
       "0.8146067415730337"
      ]
     },
     "execution_count": 109,
     "metadata": {},
     "output_type": "execute_result"
    }
   ],
   "source": [
    "accuracy_score(y_train, y_pred)"
   ]
  },
  {
   "cell_type": "markdown",
   "id": "556b139a",
   "metadata": {},
   "source": [
    "## Difining Percision Recall and F1 Score "
   ]
  },
  {
   "cell_type": "code",
   "execution_count": 110,
   "id": "461d9deb",
   "metadata": {},
   "outputs": [],
   "source": [
    "from sklearn.metrics import precision_score, recall_score, f1_score"
   ]
  },
  {
   "cell_type": "code",
   "execution_count": 111,
   "id": "0b662000",
   "metadata": {},
   "outputs": [
    {
     "name": "stdout",
     "output_type": "stream",
     "text": [
      "precision = 0.88 \n",
      " \n",
      "recall = 0.57\n",
      "\n",
      "f1 = 0.7\n"
     ]
    }
   ],
   "source": [
    "print(f\"\"\"precision = {round(precision_score(y_train,y_pred),2)} \\n \n",
    "recall = {round(recall_score(y_train,y_pred),2)}\\n\n",
    "f1 = {round(f1_score(y_train,y_pred),2)}\"\"\")"
   ]
  },
  {
   "cell_type": "markdown",
   "id": "19633f46",
   "metadata": {},
   "source": [
    "## Confision Matrix off True Positiv/Nagativ and False Positiv/Negativ"
   ]
  },
  {
   "cell_type": "code",
   "execution_count": 112,
   "id": "2d9c2e84",
   "metadata": {},
   "outputs": [],
   "source": [
    "from sklearn.metrics import confusion_matrix, plot_confusion_matrix"
   ]
  },
  {
   "cell_type": "code",
   "execution_count": 113,
   "id": "3c564f49",
   "metadata": {},
   "outputs": [
    {
     "data": {
      "text/plain": [
       "array([[429,  20],\n",
       "       [112, 151]])"
      ]
     },
     "execution_count": 113,
     "metadata": {},
     "output_type": "execute_result"
    }
   ],
   "source": [
    "confusion_matrix(y_train, y_pred)"
   ]
  },
  {
   "cell_type": "code",
   "execution_count": 114,
   "id": "185826fb",
   "metadata": {},
   "outputs": [
    {
     "data": {
      "text/plain": [
       "<sklearn.metrics._plot.confusion_matrix.ConfusionMatrixDisplay at 0x7f94add59850>"
      ]
     },
     "execution_count": 114,
     "metadata": {},
     "output_type": "execute_result"
    },
    {
     "data": {
      "image/png": "[encoded data removed]",
      "text/plain": [
       "<Figure size 432x288 with 2 Axes>"
      ]
     },
     "metadata": {
      "needs_background": "light"
     },
     "output_type": "display_data"
    }
   ],
   "source": [
    "plot_confusion_matrix(model,X_train_trans,y_train)"
   ]
  },
  {
   "cell_type": "markdown",
   "id": "9a17f3df",
   "metadata": {},
   "source": [
    "## Reciever operating curve (ROC) and Area under the curve (AUC) "
   ]
  },
  {
   "cell_type": "code",
   "execution_count": 115,
   "id": "6e3deb19",
   "metadata": {},
   "outputs": [],
   "source": [
    "from sklearn.metrics import plot_roc_curve,roc_curve,auc "
   ]
  },
  {
   "cell_type": "code",
   "execution_count": 116,
   "id": "71b1d461",
   "metadata": {},
   "outputs": [
    {
     "data": {
      "text/plain": [
       "(712, 2)"
      ]
     },
     "execution_count": 116,
     "metadata": {},
     "output_type": "execute_result"
    }
   ],
   "source": [
    "probs_train = model.predict_proba(X_train_trans)\n",
    "probs_train.shape"
   ]
  },
  {
   "cell_type": "code",
   "execution_count": 117,
   "id": "62e474e2",
   "metadata": {},
   "outputs": [
    {
     "data": {
      "text/plain": [
       "<sklearn.metrics._plot.roc_curve.RocCurveDisplay at 0x7f94addebf70>"
      ]
     },
     "execution_count": 117,
     "metadata": {},
     "output_type": "execute_result"
    },
    {
     "data": {
      "image/png": "[encoded data removed]",
      "text/plain": [
       "<Figure size 432x288 with 1 Axes>"
      ]
     },
     "metadata": {
      "needs_background": "light"
     },
     "output_type": "display_data"
    }
   ],
   "source": [
    "plot_roc_curve(model,X_train_trans,y_train)"
   ]
  },
  {
   "cell_type": "markdown",
   "id": "452c9c29",
   "metadata": {},
   "source": [
    "## Getting Flase positiv rate True positive rate and Tresurehold from ROC "
   ]
  },
  {
   "cell_type": "code",
   "execution_count": 118,
   "id": "cabb9af0",
   "metadata": {},
   "outputs": [],
   "source": [
    "fpr,tpr,tresurehold = roc_curve(y_train,probs_train[:,1])"
   ]
  },
  {
   "cell_type": "markdown",
   "id": "cde1553b",
   "metadata": {},
   "source": [
    "## Finding best Tresurehold index fron ROC"
   ]
  },
  {
   "cell_type": "code",
   "execution_count": 119,
   "id": "b406163c",
   "metadata": {},
   "outputs": [
    {
     "data": {
      "text/plain": [
       "104"
      ]
     },
     "execution_count": 119,
     "metadata": {},
     "output_type": "execute_result"
    }
   ],
   "source": [
    "max_index=np.argmax(tpr-fpr)\n",
    "max_index"
   ]
  },
  {
   "cell_type": "code",
   "execution_count": 120,
   "id": "8088aa5e",
   "metadata": {},
   "outputs": [
    {
     "data": {
      "text/plain": [
       "(0.3017755497578123, 0.596958174904943, 0.0645879732739421)"
      ]
     },
     "execution_count": 120,
     "metadata": {},
     "output_type": "execute_result"
    }
   ],
   "source": [
    "tresurehold[59],tpr[59],fpr[59]"
   ]
  },
  {
   "cell_type": "code",
   "execution_count": 121,
   "id": "5cc37f96",
   "metadata": {},
   "outputs": [
    {
     "data": {
      "text/plain": [
       "(0.2088870286986447, 0.779467680608365, 0.1514476614699332)"
      ]
     },
     "execution_count": 121,
     "metadata": {},
     "output_type": "execute_result"
    }
   ],
   "source": [
    "tresurehold[max_index],tpr[max_index],fpr[max_index]"
   ]
  },
  {
   "cell_type": "markdown",
   "id": "06977fce",
   "metadata": {},
   "source": [
    "## get the Area unter the Curve (AUC)"
   ]
  },
  {
   "cell_type": "code",
   "execution_count": 122,
   "id": "f9acad0c",
   "metadata": {},
   "outputs": [
    {
     "data": {
      "text/plain": [
       "0.8542769314149736"
      ]
     },
     "execution_count": 122,
     "metadata": {},
     "output_type": "execute_result"
    }
   ],
   "source": [
    "auc(fpr,tpr)"
   ]
  },
  {
   "cell_type": "markdown",
   "id": "4319cdcd",
   "metadata": {},
   "source": [
    "## Get new perdiction with new Tresurehold"
   ]
  },
  {
   "cell_type": "code",
   "execution_count": 123,
   "id": "053e694a",
   "metadata": {},
   "outputs": [],
   "source": [
    "prob_train_df=pd.DataFrame(probs_train)"
   ]
  },
  {
   "cell_type": "code",
   "execution_count": 124,
   "id": "70272520",
   "metadata": {},
   "outputs": [],
   "source": [
    "prob_train_df[\"tresurhold\"]=tresurehold[max_index]"
   ]
  },
  {
   "cell_type": "code",
   "execution_count": 125,
   "id": "bf216106",
   "metadata": {},
   "outputs": [],
   "source": [
    "prob_train_df[\"new_prediction\"]=(prob_train_df[1]>prob_train_df[\"tresurhold\"]).astype(int)"
   ]
  },
  {
   "cell_type": "markdown",
   "id": "3b211eb1",
   "metadata": {},
   "source": [
    "## Differentce from old (.5) and new (0.2543136395620827) Tresurehold on Testdata"
   ]
  },
  {
   "cell_type": "code",
   "execution_count": 126,
   "id": "3fb5e2b7",
   "metadata": {},
   "outputs": [],
   "source": [
    "acc_test=[]"
   ]
  },
  {
   "cell_type": "code",
   "execution_count": 127,
   "id": "1e96b2af",
   "metadata": {},
   "outputs": [],
   "source": [
    "acc_test.append(accuracy_score(y_train, model.predict(X_train_trans)))"
   ]
  },
  {
   "cell_type": "code",
   "execution_count": 128,
   "id": "d07569ec",
   "metadata": {},
   "outputs": [],
   "source": [
    "acc_test.append(accuracy_score(y_train, prob_train_df[\"new_prediction\"]))"
   ]
  },
  {
   "cell_type": "code",
   "execution_count": 129,
   "id": "64aa1405",
   "metadata": {},
   "outputs": [
    {
     "data": {
      "text/plain": [
       "[0.8146067415730337, 0.8216292134831461]"
      ]
     },
     "execution_count": 129,
     "metadata": {},
     "output_type": "execute_result"
    }
   ],
   "source": [
    "acc_test"
   ]
  },
  {
   "cell_type": "code",
   "execution_count": 131,
   "id": "f8ea4720",
   "metadata": {},
   "outputs": [
    {
     "data": {
      "text/plain": [
       "<AxesSubplot:>"
      ]
     },
     "execution_count": 131,
     "metadata": {},
     "output_type": "execute_result"
    },
    {
     "data": {
      "image/png": "[encoded data removed]",
      "text/plain": [
       "<Figure size 432x288 with 1 Axes>"
      ]
     },
     "metadata": {
      "needs_background": "light"
     },
     "output_type": "display_data"
    }
   ],
   "source": [
    "plt.axis((0,1,.8,.83))\n",
    "sns.barplot([0,1],acc_test)"
   ]
  },
  {
   "cell_type": "markdown",
   "id": "be348a57",
   "metadata": {},
   "source": [
    "## Differentce from new (0.506912329046902) and old (.5) Tresurehold on Valuation Data"
   ]
  },
  {
   "cell_type": "code",
   "execution_count": 132,
   "id": "cce939ee",
   "metadata": {},
   "outputs": [],
   "source": [
    "props_val = model.predict_proba(X_val_trans)"
   ]
  },
  {
   "cell_type": "code",
   "execution_count": 133,
   "id": "8052f2f9",
   "metadata": {},
   "outputs": [],
   "source": [
    "prob_val_df = pd.DataFrame(props_val)"
   ]
  },
  {
   "cell_type": "code",
   "execution_count": 134,
   "id": "948b2f2a",
   "metadata": {},
   "outputs": [],
   "source": [
    "prob_val_df[\"tresurhold\"]=tresurehold[max_index]"
   ]
  },
  {
   "cell_type": "code",
   "execution_count": 135,
   "id": "7c8308f1",
   "metadata": {},
   "outputs": [],
   "source": [
    "prob_val_df[\"new_prediction\"]=(prob_val_df[1]>prob_val_df[\"tresurhold\"]).astype(int)"
   ]
  },
  {
   "cell_type": "code",
   "execution_count": 136,
   "id": "275688b5",
   "metadata": {},
   "outputs": [],
   "source": [
    "acc_val= []"
   ]
  },
  {
   "cell_type": "code",
   "execution_count": 137,
   "id": "c363f877",
   "metadata": {},
   "outputs": [],
   "source": [
    "acc_val.append(accuracy_score(y_val,model.predict(X_val_trans)))"
   ]
  },
  {
   "cell_type": "code",
   "execution_count": 138,
   "id": "599bf679",
   "metadata": {},
   "outputs": [],
   "source": [
    "acc_val.append(accuracy_score(y_val,prob_val_df[\"new_prediction\"]))"
   ]
  },
  {
   "cell_type": "code",
   "execution_count": 139,
   "id": "d311b756",
   "metadata": {},
   "outputs": [
    {
     "data": {
      "text/plain": [
       "<AxesSubplot:>"
      ]
     },
     "execution_count": 139,
     "metadata": {},
     "output_type": "execute_result"
    },
    {
     "data": {
      "image/png": "[encoded data removed]",
      "text/plain": [
       "<Figure size 432x288 with 1 Axes>"
      ]
     },
     "metadata": {
      "needs_background": "light"
     },
     "output_type": "display_data"
    }
   ],
   "source": [
    "plt.axis((0,1,.5,.82))\n",
    "sns.barplot([0,1],acc_val)"
   ]
  },
  {
   "cell_type": "markdown",
   "id": "4c338f83",
   "metadata": {},
   "source": [
    "## Crossvalidation on the Model"
   ]
  },
  {
   "cell_type": "code",
   "execution_count": 151,
   "id": "b99e9bb0",
   "metadata": {},
   "outputs": [],
   "source": [
    "from sklearn.model_selection import cross_val_score "
   ]
  },
  {
   "cell_type": "code",
   "execution_count": 152,
   "id": "ad9b4ba8",
   "metadata": {},
   "outputs": [],
   "source": [
    "cross_accuracy_log = cross_val_score(model,\n",
    "                                    X_train_trans,\n",
    "                                    y_train,\n",
    "                                     cv=20,\n",
    "                                    scoring=\"accuracy\")"
   ]
  },
  {
   "cell_type": "code",
   "execution_count": 153,
   "id": "d44a05bd",
   "metadata": {},
   "outputs": [
    {
     "data": {
      "text/plain": [
       "array([0.83333333, 0.83333333, 0.77777778, 0.75      , 0.75      ,\n",
       "       0.88888889, 0.69444444, 0.77777778, 0.86111111, 0.80555556,\n",
       "       0.80555556, 0.75      , 0.77142857, 0.74285714, 0.8       ,\n",
       "       0.82857143, 0.8       , 0.74285714, 0.85714286, 0.65714286])"
      ]
     },
     "execution_count": 153,
     "metadata": {},
     "output_type": "execute_result"
    }
   ],
   "source": [
    "cross_accuracy_log"
   ]
  },
  {
   "cell_type": "code",
   "execution_count": 154,
   "id": "121af2ff",
   "metadata": {},
   "outputs": [
    {
     "data": {
      "text/plain": [
       "(0.786388888888889, 0.7865168539325843)"
      ]
     },
     "execution_count": 154,
     "metadata": {},
     "output_type": "execute_result"
    }
   ],
   "source": [
    "cross_accuracy_log.mean(), model.score(X_train_trans,y_train)"
   ]
  },
  {
   "cell_type": "code",
   "execution_count": null,
   "id": "dec3fdc1",
   "metadata": {},
   "outputs": [],
   "source": []
  },
  {
   "cell_type": "code",
   "execution_count": 140,
   "id": "54d81d4f",
   "metadata": {},
   "outputs": [],
   "source": [
    "test = pd.read_csv(\"data/test.csv\",sep=\",\",index_col = 0)\n",
    "test_trans = feature_transform.transform(test)\n",
    "test_pred = model.predict(test_trans)\n",
    "kraggle = pd.DataFrame(test.index)\n",
    "kraggle[\"Survived\"]=test_pred\n",
    "kraggle.set_index(\"PassengerId\")\n",
    "kraggle.to_csv(\"data/kraggle_SVM.csv\",index = False)"
   ]
  },
  {
   "cell_type": "code",
   "execution_count": null,
   "id": "683c4209",
   "metadata": {},
   "outputs": [],
   "source": []
  }
 ],
 "metadata": {
  "kernelspec": {
   "display_name": "Python 3 (ipykernel)",
   "language": "python",
   "name": "python3"
  },
  "language_info": {
   "codemirror_mode": {
    "name": "ipython",
    "version": 3
   },
   "file_extension": ".py",
   "mimetype": "text/x-python",
   "name": "python",
   "nbconvert_exporter": "python",
   "pygments_lexer": "ipython3",
   "version": "3.9.12"
  },
  "toc": {
   "base_numbering": 1,
   "nav_menu": {},
   "number_sections": true,
   "sideBar": true,
   "skip_h1_title": false,
   "title_cell": "Table of Contents",
   "title_sidebar": "Contents",
   "toc_cell": false,
   "toc_position": {},
   "toc_section_display": true,
   "toc_window_display": false
  },
  "varInspector": {
   "cols": {
    "lenName": 16,
    "lenType": 16,
    "lenVar": 40
   },
   "kernels_config": {
    "python": {
     "delete_cmd_postfix": "",
     "delete_cmd_prefix": "del ",
     "library": "var_list.py",
     "varRefreshCmd": "print(var_dic_list())"
    },
    "r": {
     "delete_cmd_postfix": ") ",
     "delete_cmd_prefix": "rm(",
     "library": "var_list.r",
     "varRefreshCmd": "cat(var_dic_list()) "
    }
   },
   "types_to_exclude": [
    "module",
    "function",
    "builtin_function_or_method",
    "instance",
    "_Feature"
   ],
   "window_display": false
  }
 },
 "nbformat": 4,
 "nbformat_minor": 5
}
