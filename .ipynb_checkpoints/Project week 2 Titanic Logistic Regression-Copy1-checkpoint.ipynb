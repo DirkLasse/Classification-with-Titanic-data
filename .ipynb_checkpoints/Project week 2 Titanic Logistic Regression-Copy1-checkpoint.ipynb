{
 "cells": [
  {
   "cell_type": "markdown",
   "id": "40c0a4d6",
   "metadata": {},
   "source": [
    "## Logistic regression at Titanic Data\n",
    "Import libs"
   ]
  },
  {
   "cell_type": "code",
   "execution_count": 21,
   "id": "156e77fd",
   "metadata": {
    "ExecuteTime": {
     "end_time": "2022-06-15T12:49:53.665857Z",
     "start_time": "2022-06-15T12:49:53.663626Z"
    }
   },
   "outputs": [],
   "source": [
    "import pandas as pd\n",
    "import numpy as np\n",
    "from sklearn.model_selection import train_test_split\n",
    "from sklearn.linear_model import LogisticRegression\n",
    "import seaborn as sns\n",
    "from matplotlib import pyplot as plt\n",
    "import warnings\n",
    "#warnings.filterwarnings(\"ignore\")"
   ]
  },
  {
   "cell_type": "markdown",
   "id": "6f51ff1c",
   "metadata": {},
   "source": [
    "## Read Data"
   ]
  },
  {
   "cell_type": "code",
   "execution_count": 112,
   "id": "96106151",
   "metadata": {
    "ExecuteTime": {
     "end_time": "2022-06-15T14:23:58.926420Z",
     "start_time": "2022-06-15T14:23:58.922488Z"
    }
   },
   "outputs": [],
   "source": [
    "df = pd.read_csv(\"data/train.csv\", sep=\",\", index_col=0)"
   ]
  },
  {
   "cell_type": "markdown",
   "id": "84bb3c07",
   "metadata": {},
   "source": [
    "## Examing Data"
   ]
  },
  {
   "cell_type": "code",
   "execution_count": 129,
   "id": "4c928b02",
   "metadata": {
    "ExecuteTime": {
     "end_time": "2022-06-15T14:49:30.583202Z",
     "start_time": "2022-06-15T14:49:30.578256Z"
    }
   },
   "outputs": [
    {
     "data": {
      "text/plain": [
       "Rice    5\n",
       "Name: Surename, dtype: int64"
      ]
     },
     "execution_count": 129,
     "metadata": {},
     "output_type": "execute_result"
    }
   ],
   "source": [
    "df[\"Surename\"]=df.Name.str.split(\",\",expand=True)[0].str.split(\".\",expand=True)[0]\n",
    "df.Surename.value_counts()[df.Surename.value_counts()==5]"
   ]
  },
  {
   "cell_type": "code",
   "execution_count": 111,
   "id": "71f064d5",
   "metadata": {
    "ExecuteTime": {
     "end_time": "2022-06-15T14:23:01.411391Z",
     "start_time": "2022-06-15T14:23:01.406513Z"
    }
   },
   "outputs": [
    {
     "data": {
      "text/plain": [
       " Mr              517\n",
       " Miss            182\n",
       " Mrs             125\n",
       " Master           40\n",
       " Dr                7\n",
       " Rev               6\n",
       " Mlle              2\n",
       " Major             2\n",
       " Col               2\n",
       " the Countess      1\n",
       " Capt              1\n",
       " Ms                1\n",
       " Sir               1\n",
       " Lady              1\n",
       " Mme               1\n",
       " Don               1\n",
       " Jonkheer          1\n",
       "Name: Title, dtype: int64"
      ]
     },
     "execution_count": 111,
     "metadata": {},
     "output_type": "execute_result"
    }
   ],
   "source": [
    "df[\"Title\"]=df.Name.str.split(\",\",expand=True)[1].str.split(\".\",expand=True)[0]\n",
    "df.Title.value_counts()"
   ]
  },
  {
   "cell_type": "code",
   "execution_count": 110,
   "id": "64ccc85d",
   "metadata": {
    "ExecuteTime": {
     "end_time": "2022-06-15T14:21:22.533598Z",
     "start_time": "2022-06-15T14:21:22.527336Z"
    }
   },
   "outputs": [
    {
     "data": {
      "text/plain": [
       "Survived      0\n",
       "Pclass        0\n",
       "Name          0\n",
       "Sex           0\n",
       "Age         177\n",
       "SibSp         0\n",
       "Parch         0\n",
       "Ticket        0\n",
       "Fare          0\n",
       "Cabin       687\n",
       "Embarked      2\n",
       "New_name      0\n",
       "Title         0\n",
       "dtype: int64"
      ]
     },
     "execution_count": 110,
     "metadata": {},
     "output_type": "execute_result"
    }
   ],
   "source": [
    "df.isna().sum()"
   ]
  },
  {
   "cell_type": "markdown",
   "id": "5873a035",
   "metadata": {},
   "source": [
    "## Import Sklearn Moduls"
   ]
  },
  {
   "cell_type": "code",
   "execution_count": 5,
   "id": "f88489ba",
   "metadata": {
    "ExecuteTime": {
     "end_time": "2022-06-15T11:15:48.345509Z",
     "start_time": "2022-06-15T11:15:48.312756Z"
    }
   },
   "outputs": [],
   "source": [
    "from sklearn.pipeline import make_pipeline\n",
    "from sklearn.impute import SimpleImputer\n",
    "from sklearn.preprocessing import MinMaxScaler\n",
    "from sklearn.preprocessing import OneHotEncoder , OrdinalEncoder\n",
    "from sklearn.compose import ColumnTransformer"
   ]
  },
  {
   "cell_type": "markdown",
   "id": "ad2114d5",
   "metadata": {},
   "source": [
    "## Creating Catigory and Number pipes and feature transformer"
   ]
  },
  {
   "cell_type": "code",
   "execution_count": 6,
   "id": "450193db",
   "metadata": {
    "ExecuteTime": {
     "end_time": "2022-06-15T11:15:49.363878Z",
     "start_time": "2022-06-15T11:15:49.359601Z"
    }
   },
   "outputs": [],
   "source": [
    "cat_pipe = make_pipeline(SimpleImputer(strategy='most_frequent'),\n",
    "                         OneHotEncoder(sparse=False, handle_unknown=\"ignore\")\n",
    "                         #OrdinalEncoder(),\n",
    "                         #MinMaxScaler()\n",
    ")"
   ]
  },
  {
   "cell_type": "code",
   "execution_count": 7,
   "id": "f055d0bc",
   "metadata": {
    "ExecuteTime": {
     "end_time": "2022-06-15T11:16:00.348236Z",
     "start_time": "2022-06-15T11:16:00.346508Z"
    }
   },
   "outputs": [],
   "source": [
    "num_pipe = make_pipeline(SimpleImputer(strategy=\"median\"), MinMaxScaler())"
   ]
  },
  {
   "cell_type": "code",
   "execution_count": 9,
   "id": "261c0386",
   "metadata": {
    "ExecuteTime": {
     "end_time": "2022-06-15T11:16:17.420513Z",
     "start_time": "2022-06-15T11:16:17.418191Z"
    }
   },
   "outputs": [],
   "source": [
    "feature_transform = ColumnTransformer([\n",
    "    (\"Drop Column\", 'drop', ['Cabin', 'Name', 'Ticket']),\n",
    "    (\"Cat preprossing\", cat_pipe, ['Sex', 'Embarked']),\n",
    "    (\"Num preprossing\", num_pipe, ['Pclass', 'Age', 'SibSp', 'Parch', 'Fare'])\n",
    "])"
   ]
  },
  {
   "cell_type": "markdown",
   "id": "ec51b6ff",
   "metadata": {},
   "source": [
    "## Split DF in y and X Data and in Train and Validation Data"
   ]
  },
  {
   "cell_type": "code",
   "execution_count": 10,
   "id": "843287e5",
   "metadata": {
    "ExecuteTime": {
     "end_time": "2022-06-15T11:16:26.966904Z",
     "start_time": "2022-06-15T11:16:26.963616Z"
    }
   },
   "outputs": [],
   "source": [
    "y=df[\"Survived\"]\n",
    "X=df.drop([\"Survived\"],axis=1)"
   ]
  },
  {
   "cell_type": "code",
   "execution_count": 11,
   "id": "d7e7e285",
   "metadata": {
    "ExecuteTime": {
     "end_time": "2022-06-15T11:16:30.784921Z",
     "start_time": "2022-06-15T11:16:30.778749Z"
    }
   },
   "outputs": [
    {
     "data": {
      "text/plain": [
       "PassengerId\n",
       "373    0\n",
       "400    1\n",
       "337    0\n",
       "437    0\n",
       "735    0\n",
       "      ..\n",
       "252    0\n",
       "705    0\n",
       "72     0\n",
       "600    1\n",
       "436    1\n",
       "Name: Survived, Length: 712, dtype: int64"
      ]
     },
     "execution_count": 11,
     "metadata": {},
     "output_type": "execute_result"
    }
   ],
   "source": [
    "X_train, X_val, y_train, y_val = train_test_split(X,\n",
    "                                                  y,\n",
    "                                                  test_size=0.2,\n",
    "                                                  random_state=1000)\n",
    "y_train"
   ]
  },
  {
   "cell_type": "code",
   "execution_count": 12,
   "id": "ac1a2454",
   "metadata": {
    "ExecuteTime": {
     "end_time": "2022-06-15T11:16:49.004186Z",
     "start_time": "2022-06-15T11:16:49.002262Z"
    }
   },
   "outputs": [
    {
     "data": {
      "text/plain": [
       "((712, 10), (712,))"
      ]
     },
     "execution_count": 12,
     "metadata": {},
     "output_type": "execute_result"
    }
   ],
   "source": [
    "X_train.shape, y_train.shape"
   ]
  },
  {
   "cell_type": "markdown",
   "id": "598e7212",
   "metadata": {},
   "source": [
    "## Fill NaN and Transform Strings to numbers"
   ]
  },
  {
   "cell_type": "code",
   "execution_count": 13,
   "id": "dc264fb6",
   "metadata": {
    "ExecuteTime": {
     "end_time": "2022-06-15T11:16:57.088619Z",
     "start_time": "2022-06-15T11:16:57.075328Z"
    }
   },
   "outputs": [],
   "source": [
    "X_train_trans = feature_transform.fit_transform(X_train)"
   ]
  },
  {
   "cell_type": "code",
   "execution_count": 14,
   "id": "350a1284",
   "metadata": {
    "ExecuteTime": {
     "end_time": "2022-06-15T11:16:57.953233Z",
     "start_time": "2022-06-15T11:16:57.951146Z"
    }
   },
   "outputs": [
    {
     "data": {
      "text/plain": [
       "(712, 10)"
      ]
     },
     "execution_count": 14,
     "metadata": {},
     "output_type": "execute_result"
    }
   ],
   "source": [
    "X_train_trans.shape"
   ]
  },
  {
   "cell_type": "markdown",
   "id": "12c16d6d",
   "metadata": {},
   "source": [
    "## Load Define and Train Model for Logistic Regression"
   ]
  },
  {
   "cell_type": "code",
   "execution_count": 15,
   "id": "e9a414d2",
   "metadata": {
    "ExecuteTime": {
     "end_time": "2022-06-15T11:17:01.344310Z",
     "start_time": "2022-06-15T11:17:01.341779Z"
    }
   },
   "outputs": [],
   "source": [
    "from sklearn.linear_model import LogisticRegression"
   ]
  },
  {
   "cell_type": "code",
   "execution_count": 16,
   "id": "33699265",
   "metadata": {
    "ExecuteTime": {
     "end_time": "2022-06-15T11:17:02.346663Z",
     "start_time": "2022-06-15T11:17:02.344962Z"
    }
   },
   "outputs": [],
   "source": [
    "model = LogisticRegression()  #class_weight=\"balanced\""
   ]
  },
  {
   "cell_type": "code",
   "execution_count": 17,
   "id": "77ce3563",
   "metadata": {
    "ExecuteTime": {
     "end_time": "2022-06-15T11:17:03.607542Z",
     "start_time": "2022-06-15T11:17:03.575366Z"
    }
   },
   "outputs": [
    {
     "data": {
      "text/plain": [
       "LogisticRegression()"
      ]
     },
     "execution_count": 17,
     "metadata": {},
     "output_type": "execute_result"
    }
   ],
   "source": [
    "model.fit(X_train_trans, y_train)"
   ]
  },
  {
   "cell_type": "markdown",
   "id": "c497306f",
   "metadata": {},
   "source": [
    "## Presition Score on Test data "
   ]
  },
  {
   "cell_type": "code",
   "execution_count": 18,
   "id": "3f99acb8",
   "metadata": {
    "ExecuteTime": {
     "end_time": "2022-06-15T11:17:07.583009Z",
     "start_time": "2022-06-15T11:17:07.576632Z"
    }
   },
   "outputs": [
    {
     "data": {
      "text/plain": [
       "0.8019662921348315"
      ]
     },
     "execution_count": 18,
     "metadata": {},
     "output_type": "execute_result"
    }
   ],
   "source": [
    "model.score(X_train_trans, y_train)"
   ]
  },
  {
   "cell_type": "markdown",
   "id": "a17be40a",
   "metadata": {},
   "source": [
    "## Presition Score on Validation data"
   ]
  },
  {
   "cell_type": "code",
   "execution_count": 19,
   "id": "dfe5e31f",
   "metadata": {
    "ExecuteTime": {
     "end_time": "2022-06-15T11:17:24.822108Z",
     "start_time": "2022-06-15T11:17:24.817268Z"
    }
   },
   "outputs": [],
   "source": [
    "X_val_trans = feature_transform.transform(X_val)"
   ]
  },
  {
   "cell_type": "code",
   "execution_count": 20,
   "id": "eaf303cd",
   "metadata": {
    "ExecuteTime": {
     "end_time": "2022-06-15T11:17:25.336201Z",
     "start_time": "2022-06-15T11:17:25.333850Z"
    }
   },
   "outputs": [
    {
     "data": {
      "text/plain": [
       "0.7988826815642458"
      ]
     },
     "execution_count": 20,
     "metadata": {},
     "output_type": "execute_result"
    }
   ],
   "source": [
    "model.score(X_val_trans, y_val)"
   ]
  },
  {
   "cell_type": "markdown",
   "id": "6b503985",
   "metadata": {},
   "source": [
    "## Crossvalidation"
   ]
  },
  {
   "cell_type": "code",
   "execution_count": 20,
   "id": "c2eae577",
   "metadata": {},
   "outputs": [],
   "source": [
    "from sklearn.model_selection import cross_val_score "
   ]
  },
  {
   "cell_type": "code",
   "execution_count": 21,
   "id": "480aef44",
   "metadata": {},
   "outputs": [],
   "source": [
    "cross_val_log = cross_val_score(model,\n",
    "                                X_train_trans,\n",
    "                                y_train,\n",
    "                                cv=5,\n",
    "                                scoring=\"accuracy\"\n",
    ")"
   ]
  },
  {
   "cell_type": "code",
   "execution_count": 22,
   "id": "d447abae",
   "metadata": {},
   "outputs": [
    {
     "data": {
      "text/plain": [
       "array([0.82517483, 0.79020979, 0.78169014, 0.81690141, 0.77464789])"
      ]
     },
     "execution_count": 22,
     "metadata": {},
     "output_type": "execute_result"
    }
   ],
   "source": [
    "cross_val_log"
   ]
  },
  {
   "cell_type": "markdown",
   "id": "a3256b9a",
   "metadata": {},
   "source": [
    "## The Presition probapillity from the Model at Trainig data"
   ]
  },
  {
   "cell_type": "code",
   "execution_count": 23,
   "id": "52ca9272",
   "metadata": {},
   "outputs": [
    {
     "data": {
      "text/plain": [
       "array([[0.89084102, 0.10915898],\n",
       "       [0.21554388, 0.78445612],\n",
       "       [0.6207867 , 0.3792133 ],\n",
       "       ...,\n",
       "       [0.58445156, 0.41554844],\n",
       "       [0.5734265 , 0.4265735 ],\n",
       "       [0.08522412, 0.91477588]])"
      ]
     },
     "execution_count": 23,
     "metadata": {},
     "output_type": "execute_result"
    }
   ],
   "source": [
    "model.predict_proba(X_train_trans)"
   ]
  },
  {
   "cell_type": "markdown",
   "id": "c8d3d2d1",
   "metadata": {},
   "source": [
    "## Coeffificient from sigmoid funktion "
   ]
  },
  {
   "cell_type": "code",
   "execution_count": 24,
   "id": "a888ed44",
   "metadata": {},
   "outputs": [
    {
     "data": {
      "text/plain": [
       "array([[ 1.31602617, -1.3161849 ,  0.32194197,  0.02891804, -0.35101873,\n",
       "        -1.9225307 , -1.84263746, -1.29735235, -0.46017694,  0.67950799]])"
      ]
     },
     "execution_count": 24,
     "metadata": {},
     "output_type": "execute_result"
    }
   ],
   "source": [
    "model.coef_"
   ]
  },
  {
   "cell_type": "markdown",
   "id": "dfbb8ad6",
   "metadata": {},
   "source": [
    "## Intercept from sigmoid funktion"
   ]
  },
  {
   "cell_type": "code",
   "execution_count": 25,
   "id": "bf12f46b",
   "metadata": {},
   "outputs": [
    {
     "data": {
      "text/plain": [
       "array([1.9099081])"
      ]
     },
     "execution_count": 25,
     "metadata": {},
     "output_type": "execute_result"
    }
   ],
   "source": [
    "model.intercept_"
   ]
  },
  {
   "cell_type": "markdown",
   "id": "5f43ec54",
   "metadata": {},
   "source": [
    "## Accuracy is equal Score"
   ]
  },
  {
   "cell_type": "code",
   "execution_count": 26,
   "id": "6ef7d2b5",
   "metadata": {},
   "outputs": [],
   "source": [
    "from sklearn.metrics import accuracy_score"
   ]
  },
  {
   "cell_type": "code",
   "execution_count": 27,
   "id": "887c4916",
   "metadata": {},
   "outputs": [],
   "source": [
    "y_pred = model.predict(X_train_trans)"
   ]
  },
  {
   "cell_type": "code",
   "execution_count": 28,
   "id": "f43c42c3",
   "metadata": {},
   "outputs": [
    {
     "data": {
      "text/plain": [
       "0.8019662921348315"
      ]
     },
     "execution_count": 28,
     "metadata": {},
     "output_type": "execute_result"
    }
   ],
   "source": [
    "accuracy_score(y_train, y_pred)"
   ]
  },
  {
   "cell_type": "markdown",
   "id": "556b139a",
   "metadata": {},
   "source": [
    "## Difining Percision Recall and F1 Score "
   ]
  },
  {
   "cell_type": "code",
   "execution_count": 29,
   "id": "461d9deb",
   "metadata": {},
   "outputs": [],
   "source": [
    "from sklearn.metrics import precision_score, recall_score, f1_score"
   ]
  },
  {
   "cell_type": "code",
   "execution_count": 30,
   "id": "0b662000",
   "metadata": {},
   "outputs": [
    {
     "name": "stdout",
     "output_type": "stream",
     "text": [
      "precision = 0.75 \n",
      " \n",
      "recall = 0.7\n",
      "\n",
      "f1 = 0.72\n"
     ]
    }
   ],
   "source": [
    "print(f\"\"\"precision = {round(precision_score(y_train,y_pred),2)} \\n \n",
    "recall = {round(recall_score(y_train,y_pred),2)}\\n\n",
    "f1 = {round(f1_score(y_train,y_pred),2)}\"\"\")"
   ]
  },
  {
   "cell_type": "markdown",
   "id": "19633f46",
   "metadata": {},
   "source": [
    "## Confision Matrix off True Positiv/Nagativ and False Positiv/Negativ"
   ]
  },
  {
   "cell_type": "code",
   "execution_count": 31,
   "id": "2d9c2e84",
   "metadata": {},
   "outputs": [],
   "source": [
    "from sklearn.metrics import confusion_matrix, plot_confusion_matrix"
   ]
  },
  {
   "cell_type": "code",
   "execution_count": 32,
   "id": "3c564f49",
   "metadata": {},
   "outputs": [
    {
     "data": {
      "text/plain": [
       "array([[386,  63],\n",
       "       [ 78, 185]])"
      ]
     },
     "execution_count": 32,
     "metadata": {},
     "output_type": "execute_result"
    }
   ],
   "source": [
    "confusion_matrix(y_train, y_pred)"
   ]
  },
  {
   "cell_type": "code",
   "execution_count": 33,
   "id": "185826fb",
   "metadata": {},
   "outputs": [
    {
     "data": {
      "text/plain": [
       "<sklearn.metrics._plot.confusion_matrix.ConfusionMatrixDisplay at 0x7f8eb3b2c2e0>"
      ]
     },
     "execution_count": 33,
     "metadata": {},
     "output_type": "execute_result"
    },
    {
     "data": {
      "image/png": "[encoded data removed]",
      "text/plain": [
       "<Figure size 432x288 with 2 Axes>"
      ]
     },
     "metadata": {
      "needs_background": "light"
     },
     "output_type": "display_data"
    }
   ],
   "source": [
    "plot_confusion_matrix(model,X_train_trans,y_train)"
   ]
  },
  {
   "cell_type": "markdown",
   "id": "9a17f3df",
   "metadata": {},
   "source": [
    "## Reciever operating curve (ROC) and Area under the curve (AUC) "
   ]
  },
  {
   "cell_type": "code",
   "execution_count": 34,
   "id": "6e3deb19",
   "metadata": {},
   "outputs": [],
   "source": [
    "from sklearn.metrics import plot_roc_curve,roc_curve,auc "
   ]
  },
  {
   "cell_type": "code",
   "execution_count": 35,
   "id": "71b1d461",
   "metadata": {},
   "outputs": [
    {
     "data": {
      "text/plain": [
       "array([[0.89084102, 0.10915898],\n",
       "       [0.21554388, 0.78445612],\n",
       "       [0.6207867 , 0.3792133 ],\n",
       "       ...,\n",
       "       [0.58445156, 0.41554844],\n",
       "       [0.5734265 , 0.4265735 ],\n",
       "       [0.08522412, 0.91477588]])"
      ]
     },
     "execution_count": 35,
     "metadata": {},
     "output_type": "execute_result"
    }
   ],
   "source": [
    "probs_train = model.predict_proba(X_train_trans)\n",
    "probs_train"
   ]
  },
  {
   "cell_type": "code",
   "execution_count": 36,
   "id": "62e474e2",
   "metadata": {},
   "outputs": [
    {
     "data": {
      "text/plain": [
       "<sklearn.metrics._plot.roc_curve.RocCurveDisplay at 0x7f8eb16e36a0>"
      ]
     },
     "execution_count": 36,
     "metadata": {},
     "output_type": "execute_result"
    },
    {
     "data": {
      "image/png": "[encoded data removed]",
      "text/plain": [
       "<Figure size 432x288 with 1 Axes>"
      ]
     },
     "metadata": {
      "needs_background": "light"
     },
     "output_type": "display_data"
    }
   ],
   "source": [
    "plot_roc_curve(model,X_train_trans,y_train)"
   ]
  },
  {
   "cell_type": "markdown",
   "id": "452c9c29",
   "metadata": {},
   "source": [
    "## Getting Flase positiv rate True positive rate and Tresurehold from ROC "
   ]
  },
  {
   "cell_type": "code",
   "execution_count": 37,
   "id": "cabb9af0",
   "metadata": {},
   "outputs": [],
   "source": [
    "fpr,tpr,tresurehold = roc_curve(y_train,probs_train[:,1])"
   ]
  },
  {
   "cell_type": "code",
   "execution_count": 38,
   "id": "c31ea0b0",
   "metadata": {},
   "outputs": [
    {
     "data": {
      "text/plain": [
       "array([0.        , 0.        , 0.        , 0.        , 0.        ,\n",
       "       0.00222717, 0.00222717, 0.00445434, 0.00445434, 0.00445434,\n",
       "       0.00445434, 0.00668151, 0.00668151, 0.00890869, 0.00890869,\n",
       "       0.01113586, 0.01113586, 0.01113586, 0.01113586, 0.01113586,\n",
       "       0.01336303, 0.01336303, 0.0155902 , 0.0155902 , 0.01781737,\n",
       "       0.01781737, 0.02004454, 0.02004454, 0.02449889, 0.02449889,\n",
       "       0.02672606, 0.02672606, 0.02895323, 0.02895323, 0.02895323,\n",
       "       0.0311804 , 0.0311804 , 0.03340757, 0.03340757, 0.03340757,\n",
       "       0.03340757, 0.03340757, 0.03563474, 0.03563474, 0.04899777,\n",
       "       0.04899777, 0.05122494, 0.05122494, 0.05790646, 0.05790646,\n",
       "       0.06013363, 0.06013363, 0.06458797, 0.06458797, 0.06681514,\n",
       "       0.06681514, 0.07126949, 0.07126949, 0.07572383, 0.07572383,\n",
       "       0.077951  , 0.077951  , 0.08017817, 0.08017817, 0.0935412 ,\n",
       "       0.0935412 , 0.09576837, 0.09576837, 0.09799555, 0.09799555,\n",
       "       0.10244989, 0.10244989, 0.1091314 , 0.1091314 , 0.11135857,\n",
       "       0.11135857, 0.12249443, 0.12249443, 0.1247216 , 0.1247216 ,\n",
       "       0.12917595, 0.12917595, 0.14253898, 0.14253898, 0.14922049,\n",
       "       0.14922049, 0.15367483, 0.15367483, 0.155902  , 0.16035635,\n",
       "       0.16035635, 0.16258352, 0.16258352, 0.16703786, 0.16703786,\n",
       "       0.16926503, 0.16926503, 0.17594655, 0.17594655, 0.18262806,\n",
       "       0.18262806, 0.18485523, 0.18485523, 0.18708241, 0.20489978,\n",
       "       0.20489978, 0.20712695, 0.20712695, 0.21603563, 0.21603563,\n",
       "       0.22494432, 0.22494432, 0.23385301, 0.23385301, 0.24053452,\n",
       "       0.24276169, 0.24721604, 0.24721604, 0.24944321, 0.24944321,\n",
       "       0.25167038, 0.25167038, 0.25389755, 0.25389755, 0.26280624,\n",
       "       0.26280624, 0.27171492, 0.27171492, 0.27839644, 0.27839644,\n",
       "       0.28285078, 0.28285078, 0.28507795, 0.29175947, 0.29175947,\n",
       "       0.29398664, 0.29398664, 0.30066815, 0.30512249, 0.31180401,\n",
       "       0.31403118, 0.31848552, 0.32071269, 0.32739421, 0.3363029 ,\n",
       "       0.34298441, 0.34521158, 0.34966592, 0.3518931 , 0.35412027,\n",
       "       0.35634744, 0.36971047, 0.37193764, 0.37861915, 0.3830735 ,\n",
       "       0.3830735 , 0.38752784, 0.38752784, 0.38975501, 0.39198218,\n",
       "       0.39643653, 0.39643653, 0.40757238, 0.40757238, 0.40979955,\n",
       "       0.40979955, 0.42538976, 0.4298441 , 0.43207127, 0.44097996,\n",
       "       0.44766147, 0.45434298, 0.45434298, 0.45657016, 0.46325167,\n",
       "       0.46325167, 0.50111359, 0.50111359, 0.52115813, 0.5389755 ,\n",
       "       0.55233853, 0.55233853, 0.56124722, 0.56347439, 0.56570156,\n",
       "       0.56570156, 0.56792873, 0.57461024, 0.5857461 , 0.59020045,\n",
       "       0.6013363 , 0.60356347, 0.61024499, 0.6169265 , 0.6169265 ,\n",
       "       0.62806236, 0.6325167 , 0.64365256, 0.65256125, 0.6636971 ,\n",
       "       0.66815145, 0.67483296, 0.67928731, 0.68819599, 0.68819599,\n",
       "       0.70378619, 0.70378619, 0.70824053, 0.71269488, 0.71492205,\n",
       "       0.71492205, 0.71714922, 0.72160356, 0.73273942, 0.73273942,\n",
       "       0.73719376, 0.74387528, 0.74610245, 0.74610245, 0.76614699,\n",
       "       0.79064588, 0.79510022, 0.79732739, 0.80178174, 0.80623608,\n",
       "       0.81291759, 0.81291759, 0.82628062, 0.82628062, 0.8285078 ,\n",
       "       0.8285078 , 0.83296214, 0.85077951, 0.85077951, 0.85523385,\n",
       "       0.85746102, 0.85746102, 0.87750557, 0.88195991, 0.90868597,\n",
       "       0.90868597, 0.93095768, 0.93541203, 0.93541203, 0.93986637,\n",
       "       0.93986637, 0.99109131, 1.        ])"
      ]
     },
     "execution_count": 38,
     "metadata": {},
     "output_type": "execute_result"
    }
   ],
   "source": [
    "fpr"
   ]
  },
  {
   "cell_type": "code",
   "execution_count": 39,
   "id": "62f4d560",
   "metadata": {},
   "outputs": [
    {
     "data": {
      "text/plain": [
       "array([0.        , 0.00380228, 0.01901141, 0.02661597, 0.18631179,\n",
       "       0.18631179, 0.30798479, 0.31178707, 0.3460076 , 0.35361217,\n",
       "       0.36121673, 0.36121673, 0.36882129, 0.36882129, 0.37262357,\n",
       "       0.37262357, 0.3878327 , 0.39543726, 0.39923954, 0.40684411,\n",
       "       0.40684411, 0.41064639, 0.41064639, 0.44106464, 0.44106464,\n",
       "       0.45247148, 0.45247148, 0.46007605, 0.46007605, 0.46768061,\n",
       "       0.46768061, 0.47528517, 0.47528517, 0.48669202, 0.49429658,\n",
       "       0.49429658, 0.5095057 , 0.5095057 , 0.52091255, 0.52471483,\n",
       "       0.54752852, 0.55513308, 0.55513308, 0.57034221, 0.57034221,\n",
       "       0.57794677, 0.57794677, 0.58935361, 0.58935361, 0.59315589,\n",
       "       0.59315589, 0.59695817, 0.59695817, 0.6121673 , 0.6121673 ,\n",
       "       0.61596958, 0.61596958, 0.62357414, 0.62357414, 0.63878327,\n",
       "       0.63878327, 0.64258555, 0.64258555, 0.64638783, 0.64638783,\n",
       "       0.65019011, 0.65019011, 0.6539924 , 0.6539924 , 0.65779468,\n",
       "       0.65779468, 0.6730038 , 0.6730038 , 0.67680608, 0.67680608,\n",
       "       0.68821293, 0.68821293, 0.69581749, 0.69581749, 0.69961977,\n",
       "       0.69961977, 0.70342205, 0.70342205, 0.70722433, 0.70722433,\n",
       "       0.71102662, 0.71102662, 0.7148289 , 0.7148289 , 0.7148289 ,\n",
       "       0.72623574, 0.72623574, 0.73003802, 0.73003802, 0.7338403 ,\n",
       "       0.7338403 , 0.73764259, 0.73764259, 0.74144487, 0.74144487,\n",
       "       0.74524715, 0.74524715, 0.75285171, 0.75665399, 0.75665399,\n",
       "       0.76045627, 0.76045627, 0.76425856, 0.76425856, 0.76806084,\n",
       "       0.76806084, 0.77186312, 0.77186312, 0.77946768, 0.77946768,\n",
       "       0.78326996, 0.78326996, 0.78707224, 0.78707224, 0.79087452,\n",
       "       0.79087452, 0.79467681, 0.79467681, 0.79847909, 0.79847909,\n",
       "       0.80608365, 0.80608365, 0.81749049, 0.81749049, 0.82509506,\n",
       "       0.82509506, 0.82889734, 0.82889734, 0.82889734, 0.8365019 ,\n",
       "       0.8365019 , 0.84030418, 0.84030418, 0.84030418, 0.84030418,\n",
       "       0.84410646, 0.84410646, 0.84410646, 0.84410646, 0.84410646,\n",
       "       0.84410646, 0.84410646, 0.84410646, 0.84410646, 0.84790875,\n",
       "       0.84790875, 0.84790875, 0.84790875, 0.84790875, 0.84790875,\n",
       "       0.85171103, 0.85171103, 0.85931559, 0.85931559, 0.86311787,\n",
       "       0.86311787, 0.86692015, 0.86692015, 0.87452471, 0.87452471,\n",
       "       0.878327  , 0.878327  , 0.878327  , 0.878327  , 0.88212928,\n",
       "       0.88212928, 0.88212928, 0.88593156, 0.88973384, 0.88973384,\n",
       "       0.89353612, 0.89353612, 0.90114068, 0.90114068, 0.90494297,\n",
       "       0.90494297, 0.91254753, 0.91254753, 0.91634981, 0.91634981,\n",
       "       0.92015209, 0.92015209, 0.92015209, 0.92015209, 0.92015209,\n",
       "       0.92015209, 0.92395437, 0.92395437, 0.92395437, 0.92775665,\n",
       "       0.92775665, 0.92775665, 0.92775665, 0.92775665, 0.92775665,\n",
       "       0.92775665, 0.92775665, 0.92775665, 0.92775665, 0.93155894,\n",
       "       0.93155894, 0.93536122, 0.93536122, 0.93536122, 0.94296578,\n",
       "       0.94676806, 0.94676806, 0.94676806, 0.94676806, 0.9581749 ,\n",
       "       0.9581749 , 0.9581749 , 0.9581749 , 0.96197719, 0.96197719,\n",
       "       0.96197719, 0.96197719, 0.96577947, 0.96577947, 0.96577947,\n",
       "       0.96577947, 0.96958175, 0.96958175, 0.97338403, 0.97338403,\n",
       "       0.97718631, 0.97718631, 0.97718631, 0.98098859, 0.98098859,\n",
       "       0.98098859, 0.98859316, 0.98859316, 0.98859316, 0.98859316,\n",
       "       0.99239544, 0.99239544, 0.99239544, 0.99619772, 0.99619772,\n",
       "       1.        , 1.        , 1.        ])"
      ]
     },
     "execution_count": 39,
     "metadata": {},
     "output_type": "execute_result"
    }
   ],
   "source": [
    "tpr"
   ]
  },
  {
   "cell_type": "code",
   "execution_count": 40,
   "id": "45d30e28",
   "metadata": {},
   "outputs": [
    {
     "data": {
      "text/plain": [
       "array([1.96852865, 0.96852865, 0.95739263, 0.95663652, 0.89678466,\n",
       "       0.89664959, 0.80923751, 0.79977816, 0.78002636, 0.77327091,\n",
       "       0.76821048, 0.76722288, 0.76199494, 0.76066549, 0.76012467,\n",
       "       0.75867415, 0.75555585, 0.75476857, 0.75168827, 0.75157949,\n",
       "       0.7505667 , 0.74546899, 0.74283289, 0.72474599, 0.71793016,\n",
       "       0.7125635 , 0.70392944, 0.70053377, 0.69925344, 0.69847835,\n",
       "       0.69796832, 0.69610073, 0.69485021, 0.68828002, 0.68558848,\n",
       "       0.68500963, 0.6699806 , 0.6691875 , 0.66911166, 0.66909697,\n",
       "       0.66907371, 0.66906881, 0.66903824, 0.65971681, 0.64072773,\n",
       "       0.63607794, 0.63544319, 0.6345828 , 0.62492563, 0.62122667,\n",
       "       0.62031249, 0.61916625, 0.61437916, 0.61356579, 0.60827489,\n",
       "       0.60815638, 0.60031253, 0.59874012, 0.59713906, 0.59156088,\n",
       "       0.59084386, 0.58980556, 0.58658875, 0.5859987 , 0.57878201,\n",
       "       0.57845999, 0.57781976, 0.57570274, 0.57221696, 0.5705314 ,\n",
       "       0.56649363, 0.56361243, 0.55763973, 0.55598862, 0.55460053,\n",
       "       0.53747835, 0.52648117, 0.52106504, 0.5196592 , 0.51380143,\n",
       "       0.51132302, 0.51007977, 0.49966127, 0.49736389, 0.48261572,\n",
       "       0.48109766, 0.46394054, 0.45164622, 0.44439499, 0.44250967,\n",
       "       0.43689993, 0.43386027, 0.43352712, 0.430638  , 0.4265735 ,\n",
       "       0.42157272, 0.4196575 , 0.41810647, 0.41768343, 0.41554844,\n",
       "       0.4136702 , 0.41350936, 0.41190201, 0.41079402, 0.38902665,\n",
       "       0.38132935, 0.3792133 , 0.37789823, 0.36772456, 0.36673063,\n",
       "       0.35631295, 0.35136553, 0.33978755, 0.33844226, 0.33269298,\n",
       "       0.3198827 , 0.31715759, 0.31686511, 0.31329264, 0.31242866,\n",
       "       0.31201595, 0.30735234, 0.30719588, 0.30496303, 0.29716205,\n",
       "       0.29044205, 0.28310137, 0.27391179, 0.27025576, 0.26744281,\n",
       "       0.2602202 , 0.25876955, 0.25628226, 0.25437841, 0.25037039,\n",
       "       0.25019037, 0.24982709, 0.24817388, 0.24780286, 0.24387886,\n",
       "       0.24326794, 0.24086594, 0.22839406, 0.22720728, 0.22259311,\n",
       "       0.219179  , 0.21424511, 0.21135681, 0.20763217, 0.20752309,\n",
       "       0.20517894, 0.20470181, 0.20320355, 0.20001033, 0.19695588,\n",
       "       0.19633118, 0.19435837, 0.18990262, 0.18924716, 0.18560149,\n",
       "       0.18288055, 0.18287971, 0.17774745, 0.17161274, 0.17116707,\n",
       "       0.17115468, 0.16329517, 0.16314722, 0.16309416, 0.16302655,\n",
       "       0.16302579, 0.161453  , 0.16001054, 0.15921451, 0.15535042,\n",
       "       0.1553086 , 0.13318286, 0.13187077, 0.12696021, 0.12694856,\n",
       "       0.12553231, 0.12210121, 0.11625838, 0.11609949, 0.11606207,\n",
       "       0.11554206, 0.11521381, 0.11382632, 0.11139496, 0.11104584,\n",
       "       0.10917295, 0.10915898, 0.1091391 , 0.10812506, 0.10797368,\n",
       "       0.10691182, 0.10690286, 0.10478425, 0.10472103, 0.10270129,\n",
       "       0.10258523, 0.10252063, 0.10248759, 0.10044965, 0.10000328,\n",
       "       0.09737739, 0.09691409, 0.09627218, 0.09624911, 0.09591187,\n",
       "       0.09543882, 0.09436704, 0.09434956, 0.09238955, 0.0922872 ,\n",
       "       0.09107444, 0.09064142, 0.09054991, 0.09048985, 0.09048303,\n",
       "       0.0904662 , 0.09045529, 0.09045302, 0.09040256, 0.09039575,\n",
       "       0.08982882, 0.0887509 , 0.08850281, 0.08817575, 0.08778074,\n",
       "       0.08689604, 0.08674357, 0.08317613, 0.08314453, 0.08313189,\n",
       "       0.08312894, 0.08311007, 0.07874115, 0.07800024, 0.07227928,\n",
       "       0.07158343, 0.06479063, 0.06427061, 0.06426064, 0.06341969,\n",
       "       0.06289207, 0.04093421, 0.02394858])"
      ]
     },
     "execution_count": 40,
     "metadata": {},
     "output_type": "execute_result"
    }
   ],
   "source": [
    "tresurehold"
   ]
  },
  {
   "cell_type": "markdown",
   "id": "cde1553b",
   "metadata": {},
   "source": [
    "## Finding best Tresurehold index fron ROC"
   ]
  },
  {
   "cell_type": "code",
   "execution_count": 41,
   "id": "b406163c",
   "metadata": {},
   "outputs": [
    {
     "data": {
      "text/plain": [
       "75"
      ]
     },
     "execution_count": 41,
     "metadata": {},
     "output_type": "execute_result"
    }
   ],
   "source": [
    "max_index=np.argmax(tpr-fpr)\n",
    "max_index"
   ]
  },
  {
   "cell_type": "code",
   "execution_count": 42,
   "id": "5cc37f96",
   "metadata": {},
   "outputs": [
    {
     "data": {
      "text/plain": [
       "0.537478348486044"
      ]
     },
     "execution_count": 42,
     "metadata": {},
     "output_type": "execute_result"
    }
   ],
   "source": [
    "tresurehold[max_index]"
   ]
  },
  {
   "cell_type": "markdown",
   "id": "06977fce",
   "metadata": {},
   "source": [
    "## get the Area unter the Curve (AUC)"
   ]
  },
  {
   "cell_type": "code",
   "execution_count": 43,
   "id": "f9acad0c",
   "metadata": {},
   "outputs": [
    {
     "data": {
      "text/plain": [
       "0.8554201563254211"
      ]
     },
     "execution_count": 43,
     "metadata": {},
     "output_type": "execute_result"
    }
   ],
   "source": [
    "auc(fpr,tpr)"
   ]
  },
  {
   "cell_type": "markdown",
   "id": "4319cdcd",
   "metadata": {},
   "source": [
    "## Get new perdiction with new Tresurehold"
   ]
  },
  {
   "cell_type": "code",
   "execution_count": 46,
   "id": "053e694a",
   "metadata": {},
   "outputs": [],
   "source": [
    "prob_train_df=pd.DataFrame(probs_train)"
   ]
  },
  {
   "cell_type": "code",
   "execution_count": 47,
   "id": "70272520",
   "metadata": {},
   "outputs": [],
   "source": [
    "Plotprob_train_df[\"tresurhold\"]=tresurehold[max_index]"
   ]
  },
  {
   "cell_type": "code",
   "execution_count": 48,
   "id": "5456ca9f",
   "metadata": {},
   "outputs": [
    {
     "data": {
      "text/html": [
       "<div>\n",
       "<style scoped>\n",
       "    .dataframe tbody tr th:only-of-type {\n",
       "        vertical-align: middle;\n",
       "    }\n",
       "\n",
       "    .dataframe tbody tr th {\n",
       "        vertical-align: top;\n",
       "    }\n",
       "\n",
       "    .dataframe thead th {\n",
       "        text-align: right;\n",
       "    }\n",
       "</style>\n",
       "<table border=\"1\" class=\"dataframe\">\n",
       "  <thead>\n",
       "    <tr style=\"text-align: right;\">\n",
       "      <th></th>\n",
       "      <th>0</th>\n",
       "      <th>1</th>\n",
       "      <th>tresurhold</th>\n",
       "    </tr>\n",
       "  </thead>\n",
       "  <tbody>\n",
       "    <tr>\n",
       "      <th>0</th>\n",
       "      <td>0.890841</td>\n",
       "      <td>0.109159</td>\n",
       "      <td>0.537478</td>\n",
       "    </tr>\n",
       "    <tr>\n",
       "      <th>1</th>\n",
       "      <td>0.215544</td>\n",
       "      <td>0.784456</td>\n",
       "      <td>0.537478</td>\n",
       "    </tr>\n",
       "    <tr>\n",
       "      <th>2</th>\n",
       "      <td>0.620787</td>\n",
       "      <td>0.379213</td>\n",
       "      <td>0.537478</td>\n",
       "    </tr>\n",
       "    <tr>\n",
       "      <th>3</th>\n",
       "      <td>0.496738</td>\n",
       "      <td>0.503262</td>\n",
       "      <td>0.537478</td>\n",
       "    </tr>\n",
       "    <tr>\n",
       "      <th>4</th>\n",
       "      <td>0.772793</td>\n",
       "      <td>0.227207</td>\n",
       "      <td>0.537478</td>\n",
       "    </tr>\n",
       "  </tbody>\n",
       "</table>\n",
       "</div>"
      ],
      "text/plain": [
       "          0         1  tresurhold\n",
       "0  0.890841  0.109159    0.537478\n",
       "1  0.215544  0.784456    0.537478\n",
       "2  0.620787  0.379213    0.537478\n",
       "3  0.496738  0.503262    0.537478\n",
       "4  0.772793  0.227207    0.537478"
      ]
     },
     "execution_count": 48,
     "metadata": {},
     "output_type": "execute_result"
    }
   ],
   "source": [
    "prob_train_df.head()"
   ]
  },
  {
   "cell_type": "code",
   "execution_count": 49,
   "id": "bf216106",
   "metadata": {},
   "outputs": [],
   "source": [
    "prob_train_df[\"new_prediction\"]=(prob_train_df[1]>prob_train_df[\"tresurhold\"]).astype(int)"
   ]
  },
  {
   "cell_type": "code",
   "execution_count": 50,
   "id": "bddac95b",
   "metadata": {},
   "outputs": [
    {
     "data": {
      "text/html": [
       "<div>\n",
       "<style scoped>\n",
       "    .dataframe tbody tr th:only-of-type {\n",
       "        vertical-align: middle;\n",
       "    }\n",
       "\n",
       "    .dataframe tbody tr th {\n",
       "        vertical-align: top;\n",
       "    }\n",
       "\n",
       "    .dataframe thead th {\n",
       "        text-align: right;\n",
       "    }\n",
       "</style>\n",
       "<table border=\"1\" class=\"dataframe\">\n",
       "  <thead>\n",
       "    <tr style=\"text-align: right;\">\n",
       "      <th></th>\n",
       "      <th>0</th>\n",
       "      <th>1</th>\n",
       "      <th>tresurhold</th>\n",
       "      <th>new_prediction</th>\n",
       "    </tr>\n",
       "  </thead>\n",
       "  <tbody>\n",
       "    <tr>\n",
       "      <th>0</th>\n",
       "      <td>0.890841</td>\n",
       "      <td>0.109159</td>\n",
       "      <td>0.537478</td>\n",
       "      <td>0</td>\n",
       "    </tr>\n",
       "    <tr>\n",
       "      <th>1</th>\n",
       "      <td>0.215544</td>\n",
       "      <td>0.784456</td>\n",
       "      <td>0.537478</td>\n",
       "      <td>1</td>\n",
       "    </tr>\n",
       "    <tr>\n",
       "      <th>2</th>\n",
       "      <td>0.620787</td>\n",
       "      <td>0.379213</td>\n",
       "      <td>0.537478</td>\n",
       "      <td>0</td>\n",
       "    </tr>\n",
       "    <tr>\n",
       "      <th>3</th>\n",
       "      <td>0.496738</td>\n",
       "      <td>0.503262</td>\n",
       "      <td>0.537478</td>\n",
       "      <td>0</td>\n",
       "    </tr>\n",
       "    <tr>\n",
       "      <th>4</th>\n",
       "      <td>0.772793</td>\n",
       "      <td>0.227207</td>\n",
       "      <td>0.537478</td>\n",
       "      <td>0</td>\n",
       "    </tr>\n",
       "  </tbody>\n",
       "</table>\n",
       "</div>"
      ],
      "text/plain": [
       "          0         1  tresurhold  new_prediction\n",
       "0  0.890841  0.109159    0.537478               0\n",
       "1  0.215544  0.784456    0.537478               1\n",
       "2  0.620787  0.379213    0.537478               0\n",
       "3  0.496738  0.503262    0.537478               0\n",
       "4  0.772793  0.227207    0.537478               0"
      ]
     },
     "execution_count": 50,
     "metadata": {},
     "output_type": "execute_result"
    }
   ],
   "source": [
    "prob_train_df.head()"
   ]
  },
  {
   "cell_type": "markdown",
   "id": "3b211eb1",
   "metadata": {},
   "source": [
    "## Differentce from new (0.506912329046902) and old (.5)  Tresurehold on Testdata"
   ]
  },
  {
   "cell_type": "code",
   "execution_count": 51,
   "id": "3fb5e2b7",
   "metadata": {},
   "outputs": [],
   "source": [
    "acc_test=[]"
   ]
  },
  {
   "cell_type": "code",
   "execution_count": 52,
   "id": "1e96b2af",
   "metadata": {},
   "outputs": [],
   "source": [
    "acc_test.append(accuracy_score(y_train, model.predict(X_train_trans)))"
   ]
  },
  {
   "cell_type": "code",
   "execution_count": 53,
   "id": "d07569ec",
   "metadata": {},
   "outputs": [],
   "source": [
    "acc_test.append(accuracy_score(y_train, prob_train_df[\"new_prediction\"]))"
   ]
  },
  {
   "cell_type": "code",
   "execution_count": 54,
   "id": "64aa1405",
   "metadata": {},
   "outputs": [
    {
     "data": {
      "text/plain": [
       "[0.8019662921348315, 0.8132022471910112]"
      ]
     },
     "execution_count": 54,
     "metadata": {},
     "output_type": "execute_result"
    }
   ],
   "source": [
    "acc_test"
   ]
  },
  {
   "cell_type": "code",
   "execution_count": 55,
   "id": "f8ea4720",
   "metadata": {},
   "outputs": [
    {
     "data": {
      "text/plain": [
       "<AxesSubplot:>"
      ]
     },
     "execution_count": 55,
     "metadata": {},
     "output_type": "execute_result"
    },
    {
     "data": {
      "image/png": "[encoded data removed]",
      "text/plain": [
       "<Figure size 432x288 with 1 Axes>"
      ]
     },
     "metadata": {
      "needs_background": "light"
     },
     "output_type": "display_data"
    }
   ],
   "source": [
    "plt.axis((0,1,.8,.82))\n",
    "sns.barplot([0,1],acc_test)"
   ]
  },
  {
   "cell_type": "markdown",
   "id": "be348a57",
   "metadata": {},
   "source": [
    "## Differentce from new (0.506912329046902) and old (.5) Tresurehold on Valuation Data"
   ]
  },
  {
   "cell_type": "code",
   "execution_count": 56,
   "id": "cce939ee",
   "metadata": {},
   "outputs": [],
   "source": [
    "props_val = model.predict_proba(X_val_trans)"
   ]
  },
  {
   "cell_type": "code",
   "execution_count": 57,
   "id": "8052f2f9",
   "metadata": {},
   "outputs": [],
   "source": [
    "prob_val_df = pd.DataFrame(props_val)"
   ]
  },
  {
   "cell_type": "code",
   "execution_count": 58,
   "id": "948b2f2a",
   "metadata": {},
   "outputs": [],
   "source": [
    "prob_val_df[\"tresurhold\"]=tresurehold[max_index]"
   ]
  },
  {
   "cell_type": "code",
   "execution_count": 59,
   "id": "7c8308f1",
   "metadata": {},
   "outputs": [],
   "source": [
    "prob_val_df[\"new_prediction\"]=(prob_val_df[1]>prob_val_df[\"tresurhold\"]).astype(int)"
   ]
  },
  {
   "cell_type": "code",
   "execution_count": 60,
   "id": "275688b5",
   "metadata": {},
   "outputs": [],
   "source": [
    "acc_val= []"
   ]
  },
  {
   "cell_type": "code",
   "execution_count": 61,
   "id": "c363f877",
   "metadata": {},
   "outputs": [],
   "source": [
    "acc_val.append(accuracy_score(y_val,model.predict(X_val_trans)))"
   ]
  },
  {
   "cell_type": "code",
   "execution_count": 62,
   "id": "599bf679",
   "metadata": {},
   "outputs": [],
   "source": [
    "acc_val.append(accuracy_score(y_val,prob_val_df[\"new_prediction\"]))"
   ]
  },
  {
   "cell_type": "code",
   "execution_count": 63,
   "id": "0cae2044",
   "metadata": {},
   "outputs": [
    {
     "data": {
      "text/plain": [
       "[0.7988826815642458, 0.7932960893854749]"
      ]
     },
     "execution_count": 63,
     "metadata": {},
     "output_type": "execute_result"
    }
   ],
   "source": [
    "acc_val"
   ]
  },
  {
   "cell_type": "code",
   "execution_count": 64,
   "id": "d311b756",
   "metadata": {},
   "outputs": [
    {
     "data": {
      "text/plain": [
       "<AxesSubplot:>"
      ]
     },
     "execution_count": 64,
     "metadata": {},
     "output_type": "execute_result"
    },
    {
     "data": {
      "image/png": "[encoded data removed]",
      "text/plain": [
       "<Figure size 432x288 with 1 Axes>"
      ]
     },
     "metadata": {
      "needs_background": "light"
     },
     "output_type": "display_data"
    }
   ],
   "source": [
    "plt.axis((0,1,.79,.8))\n",
    "sns.barplot([0,1],acc_val)"
   ]
  },
  {
   "cell_type": "code",
   "execution_count": 190,
   "id": "f1230f32",
   "metadata": {},
   "outputs": [],
   "source": [
    "test = pd.read_csv(\"data/test.csv\",sep=\",\",index_col = 0)\n",
    "test_trans = feature_transform.transform(test)\n",
    "test_pred = model.predict(test_trans)\n",
    "kraggle = pd.DataFrame(test.index)\n",
    "kraggle[\"Survived\"]=test_pred\n",
    "kraggle.set_index(\"PassengerId\")\n",
    "kraggle.to_csv(\"data/kraggle_logistic_regession.csv\",index = False)"
   ]
  },
  {
   "cell_type": "code",
   "execution_count": null,
   "id": "ad2f4c25",
   "metadata": {},
   "outputs": [],
   "source": []
  }
 ],
 "metadata": {
  "kernelspec": {
   "display_name": "Python 3 (ipykernel)",
   "language": "python",
   "name": "python3"
  },
  "language_info": {
   "codemirror_mode": {
    "name": "ipython",
    "version": 3
   },
   "file_extension": ".py",
   "mimetype": "text/x-python",
   "name": "python",
   "nbconvert_exporter": "python",
   "pygments_lexer": "ipython3",
   "version": "3.9.12"
  },
  "toc": {
   "base_numbering": 1,
   "nav_menu": {},
   "number_sections": true,
   "sideBar": true,
   "skip_h1_title": false,
   "title_cell": "Table of Contents",
   "title_sidebar": "Project Week 2",
   "toc_cell": false,
   "toc_position": {
    "height": "calc(100% - 180px)",
    "left": "10px",
    "top": "150px",
    "width": "384px"
   },
   "toc_section_display": true,
   "toc_window_display": false
  },
  "varInspector": {
   "cols": {
    "lenName": 16,
    "lenType": 16,
    "lenVar": 40
   },
   "kernels_config": {
    "python": {
     "delete_cmd_postfix": "",
     "delete_cmd_prefix": "del ",
     "library": "var_list.py",
     "varRefreshCmd": "print(var_dic_list())"
    },
    "r": {
     "delete_cmd_postfix": ") ",
     "delete_cmd_prefix": "rm(",
     "library": "var_list.r",
     "varRefreshCmd": "cat(var_dic_list()) "
    }
   },
   "types_to_exclude": [
    "module",
    "function",
    "builtin_function_or_method",
    "instance",
    "_Feature"
   ],
   "window_display": false
  }
 },
 "nbformat": 4,
 "nbformat_minor": 5
}
