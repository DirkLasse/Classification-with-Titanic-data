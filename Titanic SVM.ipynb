{
 "cells": [
  {
   "cell_type": "markdown",
   "id": "40c0a4d6",
   "metadata": {},
   "source": [
    "## SVM (Support Vector Maschine) at Titanic Data\n",
    "Import libs"
   ]
  },
  {
   "cell_type": "code",
   "execution_count": 1,
   "id": "156e77fd",
   "metadata": {
    "ExecuteTime": {
     "end_time": "2022-06-18T16:11:48.576361Z",
     "start_time": "2022-06-18T16:11:48.043052Z"
    }
   },
   "outputs": [],
   "source": [
    "import pandas as pd\n",
    "import numpy as np\n",
    "from sklearn.model_selection import train_test_split\n",
    "from sklearn.linear_model import LogisticRegression\n",
    "import seaborn as sns\n",
    "from matplotlib import pyplot as plt\n",
    "import warnings\n",
    "from sklearn.pipeline import make_pipeline\n",
    "from sklearn.impute import SimpleImputer\n",
    "from sklearn.preprocessing import MinMaxScaler\n",
    "from sklearn.preprocessing import OneHotEncoder , OrdinalEncoder\n",
    "from sklearn.compose import ColumnTransformer\n",
    "warnings.filterwarnings(\"ignore\")"
   ]
  },
  {
   "cell_type": "markdown",
   "id": "6f51ff1c",
   "metadata": {},
   "source": [
    "## Read Data"
   ]
  },
  {
   "cell_type": "code",
   "execution_count": 2,
   "id": "96106151",
   "metadata": {
    "ExecuteTime": {
     "end_time": "2022-06-18T16:11:49.323339Z",
     "start_time": "2022-06-18T16:11:49.310698Z"
    }
   },
   "outputs": [],
   "source": [
    "df = pd.read_csv(\"data/train.csv\", sep=\",\", index_col=0)"
   ]
  },
  {
   "cell_type": "code",
   "execution_count": 3,
   "id": "6acb4036",
   "metadata": {
    "ExecuteTime": {
     "end_time": "2022-06-18T16:11:49.574331Z",
     "start_time": "2022-06-18T16:11:49.566899Z"
    }
   },
   "outputs": [
    {
     "data": {
      "text/html": [
       "<div>\n",
       "<style scoped>\n",
       "    .dataframe tbody tr th:only-of-type {\n",
       "        vertical-align: middle;\n",
       "    }\n",
       "\n",
       "    .dataframe tbody tr th {\n",
       "        vertical-align: top;\n",
       "    }\n",
       "\n",
       "    .dataframe thead th {\n",
       "        text-align: right;\n",
       "    }\n",
       "</style>\n",
       "<table border=\"1\" class=\"dataframe\">\n",
       "  <thead>\n",
       "    <tr style=\"text-align: right;\">\n",
       "      <th></th>\n",
       "      <th>Survived</th>\n",
       "      <th>Pclass</th>\n",
       "      <th>Name</th>\n",
       "      <th>Sex</th>\n",
       "      <th>Age</th>\n",
       "      <th>SibSp</th>\n",
       "      <th>Parch</th>\n",
       "      <th>Ticket</th>\n",
       "      <th>Fare</th>\n",
       "      <th>Cabin</th>\n",
       "      <th>Embarked</th>\n",
       "    </tr>\n",
       "    <tr>\n",
       "      <th>PassengerId</th>\n",
       "      <th></th>\n",
       "      <th></th>\n",
       "      <th></th>\n",
       "      <th></th>\n",
       "      <th></th>\n",
       "      <th></th>\n",
       "      <th></th>\n",
       "      <th></th>\n",
       "      <th></th>\n",
       "      <th></th>\n",
       "      <th></th>\n",
       "    </tr>\n",
       "  </thead>\n",
       "  <tbody>\n",
       "    <tr>\n",
       "      <th>1</th>\n",
       "      <td>0</td>\n",
       "      <td>3</td>\n",
       "      <td>Braund, Mr. Owen Harris</td>\n",
       "      <td>male</td>\n",
       "      <td>22.0</td>\n",
       "      <td>1</td>\n",
       "      <td>0</td>\n",
       "      <td>A/5 21171</td>\n",
       "      <td>7.2500</td>\n",
       "      <td>NaN</td>\n",
       "      <td>S</td>\n",
       "    </tr>\n",
       "    <tr>\n",
       "      <th>2</th>\n",
       "      <td>1</td>\n",
       "      <td>1</td>\n",
       "      <td>Cumings, Mrs. John Bradley (Florence Briggs Th...</td>\n",
       "      <td>female</td>\n",
       "      <td>38.0</td>\n",
       "      <td>1</td>\n",
       "      <td>0</td>\n",
       "      <td>PC 17599</td>\n",
       "      <td>71.2833</td>\n",
       "      <td>C85</td>\n",
       "      <td>C</td>\n",
       "    </tr>\n",
       "    <tr>\n",
       "      <th>3</th>\n",
       "      <td>1</td>\n",
       "      <td>3</td>\n",
       "      <td>Heikkinen, Miss. Laina</td>\n",
       "      <td>female</td>\n",
       "      <td>26.0</td>\n",
       "      <td>0</td>\n",
       "      <td>0</td>\n",
       "      <td>STON/O2. 3101282</td>\n",
       "      <td>7.9250</td>\n",
       "      <td>NaN</td>\n",
       "      <td>S</td>\n",
       "    </tr>\n",
       "    <tr>\n",
       "      <th>4</th>\n",
       "      <td>1</td>\n",
       "      <td>1</td>\n",
       "      <td>Futrelle, Mrs. Jacques Heath (Lily May Peel)</td>\n",
       "      <td>female</td>\n",
       "      <td>35.0</td>\n",
       "      <td>1</td>\n",
       "      <td>0</td>\n",
       "      <td>113803</td>\n",
       "      <td>53.1000</td>\n",
       "      <td>C123</td>\n",
       "      <td>S</td>\n",
       "    </tr>\n",
       "    <tr>\n",
       "      <th>5</th>\n",
       "      <td>0</td>\n",
       "      <td>3</td>\n",
       "      <td>Allen, Mr. William Henry</td>\n",
       "      <td>male</td>\n",
       "      <td>35.0</td>\n",
       "      <td>0</td>\n",
       "      <td>0</td>\n",
       "      <td>373450</td>\n",
       "      <td>8.0500</td>\n",
       "      <td>NaN</td>\n",
       "      <td>S</td>\n",
       "    </tr>\n",
       "  </tbody>\n",
       "</table>\n",
       "</div>"
      ],
      "text/plain": [
       "             Survived  Pclass  \\\n",
       "PassengerId                     \n",
       "1                   0       3   \n",
       "2                   1       1   \n",
       "3                   1       3   \n",
       "4                   1       1   \n",
       "5                   0       3   \n",
       "\n",
       "                                                          Name     Sex   Age  \\\n",
       "PassengerId                                                                    \n",
       "1                                      Braund, Mr. Owen Harris    male  22.0   \n",
       "2            Cumings, Mrs. John Bradley (Florence Briggs Th...  female  38.0   \n",
       "3                                       Heikkinen, Miss. Laina  female  26.0   \n",
       "4                 Futrelle, Mrs. Jacques Heath (Lily May Peel)  female  35.0   \n",
       "5                                     Allen, Mr. William Henry    male  35.0   \n",
       "\n",
       "             SibSp  Parch            Ticket     Fare Cabin Embarked  \n",
       "PassengerId                                                          \n",
       "1                1      0         A/5 21171   7.2500   NaN        S  \n",
       "2                1      0          PC 17599  71.2833   C85        C  \n",
       "3                0      0  STON/O2. 3101282   7.9250   NaN        S  \n",
       "4                1      0            113803  53.1000  C123        S  \n",
       "5                0      0            373450   8.0500   NaN        S  "
      ]
     },
     "execution_count": 3,
     "metadata": {},
     "output_type": "execute_result"
    }
   ],
   "source": [
    "df.head()"
   ]
  },
  {
   "cell_type": "markdown",
   "id": "84bb3c07",
   "metadata": {},
   "source": [
    "## Examing Data"
   ]
  },
  {
   "cell_type": "code",
   "execution_count": 4,
   "id": "71f064d5",
   "metadata": {
    "ExecuteTime": {
     "end_time": "2022-06-18T16:11:50.760804Z",
     "start_time": "2022-06-18T16:11:50.750206Z"
    }
   },
   "outputs": [],
   "source": [
    "df[\"Title\"]=df.Name.str.split(\",\",expand=True)[1].str.split(\".\",expand=True)[0].str.strip()\n",
    "df[\"ClassSex\"]=df[\"Pclass\"].apply(str)+ df[\"Sex\"]"
   ]
  },
  {
   "cell_type": "code",
   "execution_count": 5,
   "id": "64ccc85d",
   "metadata": {
    "ExecuteTime": {
     "end_time": "2022-06-18T16:11:51.543635Z",
     "start_time": "2022-06-18T16:11:51.538827Z"
    }
   },
   "outputs": [
    {
     "data": {
      "text/plain": [
       "Survived      0\n",
       "Pclass        0\n",
       "Name          0\n",
       "Sex           0\n",
       "Age         177\n",
       "SibSp         0\n",
       "Parch         0\n",
       "Ticket        0\n",
       "Fare          0\n",
       "Cabin       687\n",
       "Embarked      2\n",
       "Title         0\n",
       "ClassSex      0\n",
       "dtype: int64"
      ]
     },
     "execution_count": 5,
     "metadata": {},
     "output_type": "execute_result"
    }
   ],
   "source": [
    "df.isna().sum()"
   ]
  },
  {
   "cell_type": "markdown",
   "id": "0c1cc6f7",
   "metadata": {},
   "source": [
    "### Creating column ClassSex for filling NAN Age with mean by class and sex"
   ]
  },
  {
   "cell_type": "code",
   "execution_count": 6,
   "id": "b2b1e470",
   "metadata": {
    "ExecuteTime": {
     "end_time": "2022-06-18T16:11:53.023111Z",
     "start_time": "2022-06-18T16:11:53.017332Z"
    }
   },
   "outputs": [
    {
     "data": {
      "text/plain": [
       "Index(['1female', '1male', '2female', '2male', '3female', '3male'], dtype='object', name='ClassSex')"
      ]
     },
     "execution_count": 6,
     "metadata": {},
     "output_type": "execute_result"
    }
   ],
   "source": [
    "mean_age=df.groupby([\"ClassSex\"]).Age.mean()\n",
    "mean_age.index"
   ]
  },
  {
   "cell_type": "code",
   "execution_count": 7,
   "id": "298fdfb3",
   "metadata": {
    "ExecuteTime": {
     "end_time": "2022-06-18T16:11:55.538581Z",
     "start_time": "2022-06-18T16:11:55.534238Z"
    }
   },
   "outputs": [],
   "source": [
    "df2=df[df.Age.isna()]\n",
    "for item in mean_age.index:\n",
    "    \n",
    "    df2.loc[df2[\"ClassSex\"]==item,\"Age\"]=mean_age[item]\n",
    "df[df.Age.isna()]=df2"
   ]
  },
  {
   "cell_type": "code",
   "execution_count": 8,
   "id": "7cc5aac4",
   "metadata": {
    "ExecuteTime": {
     "end_time": "2022-06-18T16:11:55.915398Z",
     "start_time": "2022-06-18T16:11:55.913429Z"
    }
   },
   "outputs": [],
   "source": [
    "title_dic= {'Ms':'Miss', 'Mlle':'Miss', 'Mme':'Miss','Miss':'Miss',\n",
    "            'Lady':'Mrs','Mrs':'Mrs','the Countess':'Mrs','Dona':'Mrs',\n",
    "            'Rev':'Mr','Sir':'Mr','Mr':'Mr','Dr':'Mr','Major':'Mr','Col':'Mr', 'Capt':'Mr','Don':'Mr','Jonkheer':'Mr',\n",
    "            'Master':'Master',\n",
    "           }"
   ]
  },
  {
   "cell_type": "code",
   "execution_count": 9,
   "id": "963449b3",
   "metadata": {
    "ExecuteTime": {
     "end_time": "2022-06-18T16:11:56.415953Z",
     "start_time": "2022-06-18T16:11:56.409190Z"
    },
    "scrolled": false
   },
   "outputs": [],
   "source": [
    "df.replace({'Title':title_dic},inplace=True)"
   ]
  },
  {
   "cell_type": "markdown",
   "id": "ad2114d5",
   "metadata": {},
   "source": [
    "## Creating Catigory and Number pipes and feature transformer"
   ]
  },
  {
   "cell_type": "code",
   "execution_count": 10,
   "id": "450193db",
   "metadata": {
    "ExecuteTime": {
     "end_time": "2022-06-18T16:11:57.474910Z",
     "start_time": "2022-06-18T16:11:57.470573Z"
    }
   },
   "outputs": [],
   "source": [
    "cat_pipe = make_pipeline(SimpleImputer(strategy='most_frequent'),\n",
    "                         OneHotEncoder(sparse=False, handle_unknown=\"ignore\")\n",
    ")"
   ]
  },
  {
   "cell_type": "code",
   "execution_count": 11,
   "id": "f055d0bc",
   "metadata": {
    "ExecuteTime": {
     "end_time": "2022-06-18T16:11:59.968259Z",
     "start_time": "2022-06-18T16:11:59.966155Z"
    }
   },
   "outputs": [],
   "source": [
    "num_pipe = make_pipeline(SimpleImputer(strategy=\"median\"), MinMaxScaler())"
   ]
  },
  {
   "cell_type": "code",
   "execution_count": 12,
   "id": "261c0386",
   "metadata": {
    "ExecuteTime": {
     "end_time": "2022-06-18T16:12:02.702540Z",
     "start_time": "2022-06-18T16:12:02.697979Z"
    }
   },
   "outputs": [],
   "source": [
    "feature_transform = ColumnTransformer([\n",
    "    (\"Drop Column\", 'drop', ['Cabin', 'Name', 'Ticket','ClassSex']),\n",
    "    (\"Cat preprossing\", cat_pipe, ['Sex', 'Embarked','Title']),\n",
    "    (\"Num preprossing\", num_pipe, ['Pclass', 'Age', 'SibSp', 'Parch', 'Fare'])\n",
    "])"
   ]
  },
  {
   "cell_type": "markdown",
   "id": "ec51b6ff",
   "metadata": {},
   "source": [
    "## Split DF in y and X Data and in Train and Validation Data"
   ]
  },
  {
   "cell_type": "code",
   "execution_count": 13,
   "id": "843287e5",
   "metadata": {
    "ExecuteTime": {
     "end_time": "2022-06-18T16:12:03.850919Z",
     "start_time": "2022-06-18T16:12:03.847130Z"
    }
   },
   "outputs": [],
   "source": [
    "y=df[\"Survived\"]\n",
    "X=df.drop([\"Survived\"],axis=1)"
   ]
  },
  {
   "cell_type": "code",
   "execution_count": 14,
   "id": "d7e7e285",
   "metadata": {
    "ExecuteTime": {
     "end_time": "2022-06-18T16:12:04.486719Z",
     "start_time": "2022-06-18T16:12:04.482777Z"
    }
   },
   "outputs": [],
   "source": [
    "X_train, X_val, y_train, y_val = train_test_split(X,\n",
    "                                                  y,\n",
    "                                                  test_size=0.2,\n",
    "                                                  random_state=1000)\n"
   ]
  },
  {
   "cell_type": "code",
   "execution_count": 15,
   "id": "ac1a2454",
   "metadata": {
    "ExecuteTime": {
     "end_time": "2022-06-18T16:12:04.868268Z",
     "start_time": "2022-06-18T16:12:04.864984Z"
    }
   },
   "outputs": [
    {
     "data": {
      "text/plain": [
       "((712, 12), (712,))"
      ]
     },
     "execution_count": 15,
     "metadata": {},
     "output_type": "execute_result"
    }
   ],
   "source": [
    "X_train.shape, y_train.shape"
   ]
  },
  {
   "cell_type": "markdown",
   "id": "598e7212",
   "metadata": {},
   "source": [
    "## Fill NaN and Transform Strings to numbers"
   ]
  },
  {
   "cell_type": "code",
   "execution_count": 16,
   "id": "dc264fb6",
   "metadata": {
    "ExecuteTime": {
     "end_time": "2022-06-18T16:12:09.368608Z",
     "start_time": "2022-06-18T16:12:09.359044Z"
    }
   },
   "outputs": [],
   "source": [
    "X_train_trans = feature_transform.fit_transform(X_train)"
   ]
  },
  {
   "cell_type": "code",
   "execution_count": 17,
   "id": "350a1284",
   "metadata": {
    "ExecuteTime": {
     "end_time": "2022-06-18T16:12:09.787460Z",
     "start_time": "2022-06-18T16:12:09.784477Z"
    }
   },
   "outputs": [
    {
     "data": {
      "text/plain": [
       "(712, 14)"
      ]
     },
     "execution_count": 17,
     "metadata": {},
     "output_type": "execute_result"
    }
   ],
   "source": [
    "X_train_trans.shape"
   ]
  },
  {
   "cell_type": "markdown",
   "id": "12c16d6d",
   "metadata": {},
   "source": [
    "## Load Define and Train Model for Logistic Regression"
   ]
  },
  {
   "cell_type": "code",
   "execution_count": 18,
   "id": "e9a414d2",
   "metadata": {
    "ExecuteTime": {
     "end_time": "2022-06-18T16:12:34.090412Z",
     "start_time": "2022-06-18T16:12:34.087916Z"
    }
   },
   "outputs": [],
   "source": [
    "from sklearn.svm import SVC"
   ]
  },
  {
   "cell_type": "code",
   "execution_count": 29,
   "id": "33699265",
   "metadata": {
    "ExecuteTime": {
     "end_time": "2022-06-18T16:14:11.713173Z",
     "start_time": "2022-06-18T16:14:11.709432Z"
    }
   },
   "outputs": [],
   "source": [
    "model = SVC(probability=True) "
   ]
  },
  {
   "cell_type": "code",
   "execution_count": 30,
   "id": "77ce3563",
   "metadata": {
    "ExecuteTime": {
     "end_time": "2022-06-18T16:14:12.168524Z",
     "start_time": "2022-06-18T16:14:12.138783Z"
    }
   },
   "outputs": [
    {
     "data": {
      "text/plain": [
       "SVC(probability=True)"
      ]
     },
     "execution_count": 30,
     "metadata": {},
     "output_type": "execute_result"
    }
   ],
   "source": [
    "model.fit(X_train_trans, y_train)"
   ]
  },
  {
   "cell_type": "markdown",
   "id": "c497306f",
   "metadata": {},
   "source": [
    "## Presition Score on Test data "
   ]
  },
  {
   "cell_type": "code",
   "execution_count": 31,
   "id": "3f99acb8",
   "metadata": {
    "ExecuteTime": {
     "end_time": "2022-06-18T16:14:14.447899Z",
     "start_time": "2022-06-18T16:14:14.439972Z"
    }
   },
   "outputs": [
    {
     "data": {
      "text/plain": [
       "0.8384831460674157"
      ]
     },
     "execution_count": 31,
     "metadata": {},
     "output_type": "execute_result"
    }
   ],
   "source": [
    "model.score(X_train_trans, y_train)"
   ]
  },
  {
   "cell_type": "markdown",
   "id": "a17be40a",
   "metadata": {},
   "source": [
    "## Presition Score on Validation data"
   ]
  },
  {
   "cell_type": "code",
   "execution_count": 32,
   "id": "dfe5e31f",
   "metadata": {
    "ExecuteTime": {
     "end_time": "2022-06-18T16:14:15.711044Z",
     "start_time": "2022-06-18T16:14:15.706804Z"
    }
   },
   "outputs": [],
   "source": [
    "X_val_trans = feature_transform.transform(X_val)"
   ]
  },
  {
   "cell_type": "code",
   "execution_count": 33,
   "id": "eaf303cd",
   "metadata": {
    "ExecuteTime": {
     "end_time": "2022-06-18T16:14:16.168000Z",
     "start_time": "2022-06-18T16:14:16.161098Z"
    }
   },
   "outputs": [
    {
     "data": {
      "text/plain": [
       "0.8491620111731844"
      ]
     },
     "execution_count": 33,
     "metadata": {},
     "output_type": "execute_result"
    }
   ],
   "source": [
    "model.score(X_val_trans, y_val)"
   ]
  },
  {
   "cell_type": "markdown",
   "id": "6b503985",
   "metadata": {},
   "source": [
    "## Crossvalidation"
   ]
  },
  {
   "cell_type": "code",
   "execution_count": 34,
   "id": "c2eae577",
   "metadata": {
    "ExecuteTime": {
     "end_time": "2022-06-18T16:14:17.482393Z",
     "start_time": "2022-06-18T16:14:17.480373Z"
    }
   },
   "outputs": [],
   "source": [
    "from sklearn.model_selection import cross_val_score "
   ]
  },
  {
   "cell_type": "code",
   "execution_count": 35,
   "id": "480aef44",
   "metadata": {
    "ExecuteTime": {
     "end_time": "2022-06-18T16:14:18.119847Z",
     "start_time": "2022-06-18T16:14:18.024074Z"
    }
   },
   "outputs": [],
   "source": [
    "cross_val_log = cross_val_score(model,\n",
    "                                X_train_trans,\n",
    "                                y_train,\n",
    "                                cv=5,\n",
    "                                scoring=\"accuracy\"\n",
    ")"
   ]
  },
  {
   "cell_type": "code",
   "execution_count": 36,
   "id": "d447abae",
   "metadata": {
    "ExecuteTime": {
     "end_time": "2022-06-18T16:14:18.886650Z",
     "start_time": "2022-06-18T16:14:18.881570Z"
    }
   },
   "outputs": [
    {
     "data": {
      "text/plain": [
       "(array([0.81818182, 0.8041958 , 0.84507042, 0.84507042, 0.83098592]),\n",
       " 0.8287008765882005)"
      ]
     },
     "execution_count": 36,
     "metadata": {},
     "output_type": "execute_result"
    }
   ],
   "source": [
    "cross_val_log,cross_val_log.mean()"
   ]
  },
  {
   "cell_type": "markdown",
   "id": "a3256b9a",
   "metadata": {},
   "source": [
    "## The Presition probapillity from the Model at Trainig data"
   ]
  },
  {
   "cell_type": "code",
   "execution_count": 37,
   "id": "52ca9272",
   "metadata": {
    "ExecuteTime": {
     "end_time": "2022-06-18T16:14:22.064187Z",
     "start_time": "2022-06-18T16:14:22.056046Z"
    }
   },
   "outputs": [
    {
     "data": {
      "text/plain": [
       "array([[0.84315914, 0.15684086],\n",
       "       [0.1203389 , 0.8796611 ],\n",
       "       [0.84331636, 0.15668364],\n",
       "       ...,\n",
       "       [0.87013548, 0.12986452],\n",
       "       [0.82696423, 0.17303577],\n",
       "       [0.0312504 , 0.9687496 ]])"
      ]
     },
     "execution_count": 37,
     "metadata": {},
     "output_type": "execute_result"
    }
   ],
   "source": [
    "model.predict_proba(X_train_trans)"
   ]
  },
  {
   "cell_type": "markdown",
   "id": "dfbb8ad6",
   "metadata": {},
   "source": [
    "## Intercept"
   ]
  },
  {
   "cell_type": "code",
   "execution_count": 40,
   "id": "bf12f46b",
   "metadata": {
    "ExecuteTime": {
     "end_time": "2022-06-18T16:15:00.985426Z",
     "start_time": "2022-06-18T16:15:00.982935Z"
    }
   },
   "outputs": [
    {
     "data": {
      "text/plain": [
       "array([-0.15567573])"
      ]
     },
     "execution_count": 40,
     "metadata": {},
     "output_type": "execute_result"
    }
   ],
   "source": [
    "model.intercept_"
   ]
  },
  {
   "cell_type": "markdown",
   "id": "5f43ec54",
   "metadata": {},
   "source": [
    "## Accuracy is equal Score"
   ]
  },
  {
   "cell_type": "code",
   "execution_count": 41,
   "id": "6ef7d2b5",
   "metadata": {
    "ExecuteTime": {
     "end_time": "2022-06-18T16:15:04.107206Z",
     "start_time": "2022-06-18T16:15:04.104788Z"
    }
   },
   "outputs": [],
   "source": [
    "from sklearn.metrics import accuracy_score"
   ]
  },
  {
   "cell_type": "code",
   "execution_count": 42,
   "id": "887c4916",
   "metadata": {
    "ExecuteTime": {
     "end_time": "2022-06-18T16:15:09.211914Z",
     "start_time": "2022-06-18T16:15:09.201554Z"
    }
   },
   "outputs": [],
   "source": [
    "y_pred = model.predict(X_train_trans)"
   ]
  },
  {
   "cell_type": "code",
   "execution_count": 43,
   "id": "f43c42c3",
   "metadata": {
    "ExecuteTime": {
     "end_time": "2022-06-18T16:15:09.924176Z",
     "start_time": "2022-06-18T16:15:09.916120Z"
    }
   },
   "outputs": [
    {
     "data": {
      "text/plain": [
       "0.8384831460674157"
      ]
     },
     "execution_count": 43,
     "metadata": {},
     "output_type": "execute_result"
    }
   ],
   "source": [
    "accuracy_score(y_train, y_pred)"
   ]
  },
  {
   "cell_type": "markdown",
   "id": "556b139a",
   "metadata": {},
   "source": [
    "## Difining Percision Recall and F1 Score "
   ]
  },
  {
   "cell_type": "code",
   "execution_count": 44,
   "id": "461d9deb",
   "metadata": {
    "ExecuteTime": {
     "end_time": "2022-06-18T16:15:13.738139Z",
     "start_time": "2022-06-18T16:15:13.734748Z"
    }
   },
   "outputs": [],
   "source": [
    "from sklearn.metrics import precision_score, recall_score, f1_score"
   ]
  },
  {
   "cell_type": "code",
   "execution_count": 45,
   "id": "0b662000",
   "metadata": {
    "ExecuteTime": {
     "end_time": "2022-06-18T16:15:15.359777Z",
     "start_time": "2022-06-18T16:15:15.352553Z"
    }
   },
   "outputs": [
    {
     "name": "stdout",
     "output_type": "stream",
     "text": [
      "precision = 0.87 \n",
      " \n",
      "recall = 0.67\n",
      "\n",
      "f1 = 0.75\n"
     ]
    }
   ],
   "source": [
    "print(f\"\"\"precision = {round(precision_score(y_train,y_pred),2)} \\n \n",
    "recall = {round(recall_score(y_train,y_pred),2)}\\n\n",
    "f1 = {round(f1_score(y_train,y_pred),2)}\"\"\")"
   ]
  },
  {
   "cell_type": "markdown",
   "id": "19633f46",
   "metadata": {},
   "source": [
    "## Confision Matrix off True Positiv/Nagativ and False Positiv/Negativ"
   ]
  },
  {
   "cell_type": "code",
   "execution_count": 46,
   "id": "2d9c2e84",
   "metadata": {
    "ExecuteTime": {
     "end_time": "2022-06-18T16:15:31.570862Z",
     "start_time": "2022-06-18T16:15:31.567958Z"
    }
   },
   "outputs": [],
   "source": [
    "from sklearn.metrics import  confusion_matrix,ConfusionMatrixDisplay"
   ]
  },
  {
   "cell_type": "code",
   "execution_count": 47,
   "id": "3c564f49",
   "metadata": {
    "ExecuteTime": {
     "end_time": "2022-06-18T16:15:31.947280Z",
     "start_time": "2022-06-18T16:15:31.942326Z"
    }
   },
   "outputs": [
    {
     "data": {
      "text/plain": [
       "array([[422,  27],\n",
       "       [ 88, 175]])"
      ]
     },
     "execution_count": 47,
     "metadata": {},
     "output_type": "execute_result"
    }
   ],
   "source": [
    "confusion_matrix(y_train, y_pred,labels=model.classes_)"
   ]
  },
  {
   "cell_type": "code",
   "execution_count": 48,
   "id": "185826fb",
   "metadata": {
    "ExecuteTime": {
     "end_time": "2022-06-18T16:15:33.382194Z",
     "start_time": "2022-06-18T16:15:33.291044Z"
    }
   },
   "outputs": [
    {
     "data": {
      "text/plain": [
       "<sklearn.metrics._plot.confusion_matrix.ConfusionMatrixDisplay at 0x7f567862b190>"
      ]
     },
     "execution_count": 48,
     "metadata": {},
     "output_type": "execute_result"
    },
    {
     "data": {
      "image/png": "[encoded data removed]",
      "text/plain": [
       "<Figure size 432x288 with 2 Axes>"
      ]
     },
     "metadata": {
      "needs_background": "light"
     },
     "output_type": "display_data"
    }
   ],
   "source": [
    "ConfusionMatrixDisplay.from_estimator(model,X_train_trans,y_train)\n"
   ]
  },
  {
   "cell_type": "markdown",
   "id": "9a17f3df",
   "metadata": {},
   "source": [
    "## Reciever operating curve (ROC) and Area under the curve (AUC) "
   ]
  },
  {
   "cell_type": "code",
   "execution_count": 49,
   "id": "6e3deb19",
   "metadata": {
    "ExecuteTime": {
     "end_time": "2022-06-18T16:15:36.386137Z",
     "start_time": "2022-06-18T16:15:36.382782Z"
    }
   },
   "outputs": [],
   "source": [
    "from sklearn.metrics import roc_curve,auc ,RocCurveDisplay"
   ]
  },
  {
   "cell_type": "code",
   "execution_count": 50,
   "id": "71b1d461",
   "metadata": {
    "ExecuteTime": {
     "end_time": "2022-06-18T16:15:36.948059Z",
     "start_time": "2022-06-18T16:15:36.938902Z"
    }
   },
   "outputs": [
    {
     "data": {
      "text/plain": [
       "array([[0.84315914, 0.15684086],\n",
       "       [0.1203389 , 0.8796611 ],\n",
       "       [0.84331636, 0.15668364],\n",
       "       ...,\n",
       "       [0.87013548, 0.12986452],\n",
       "       [0.82696423, 0.17303577],\n",
       "       [0.0312504 , 0.9687496 ]])"
      ]
     },
     "execution_count": 50,
     "metadata": {},
     "output_type": "execute_result"
    }
   ],
   "source": [
    "probs_train = model.predict_proba(X_train_trans)\n",
    "probs_train"
   ]
  },
  {
   "cell_type": "code",
   "execution_count": 51,
   "id": "62e474e2",
   "metadata": {
    "ExecuteTime": {
     "end_time": "2022-06-18T16:15:40.898710Z",
     "start_time": "2022-06-18T16:15:40.845498Z"
    }
   },
   "outputs": [
    {
     "data": {
      "text/plain": [
       "<sklearn.metrics._plot.roc_curve.RocCurveDisplay at 0x7f5678569be0>"
      ]
     },
     "execution_count": 51,
     "metadata": {},
     "output_type": "execute_result"
    },
    {
     "data": {
      "image/png": "[encoded data removed]",
      "text/plain": [
       "<Figure size 432x288 with 1 Axes>"
      ]
     },
     "metadata": {
      "needs_background": "light"
     },
     "output_type": "display_data"
    }
   ],
   "source": [
    "RocCurveDisplay.from_estimator(model,X_train_trans,y_train)"
   ]
  },
  {
   "cell_type": "markdown",
   "id": "452c9c29",
   "metadata": {},
   "source": [
    "## Getting Flase positiv rate True positive rate and Tresurehold from ROC "
   ]
  },
  {
   "cell_type": "code",
   "execution_count": 52,
   "id": "cabb9af0",
   "metadata": {
    "ExecuteTime": {
     "end_time": "2022-06-18T16:15:43.393098Z",
     "start_time": "2022-06-18T16:15:43.386757Z"
    }
   },
   "outputs": [],
   "source": [
    "fpr,tpr,tresurehold = roc_curve(y_train,probs_train[:,1])"
   ]
  },
  {
   "cell_type": "markdown",
   "id": "cde1553b",
   "metadata": {},
   "source": [
    "## Finding best Tresurehold index fron ROC"
   ]
  },
  {
   "cell_type": "code",
   "execution_count": 53,
   "id": "b406163c",
   "metadata": {
    "ExecuteTime": {
     "end_time": "2022-06-18T16:15:44.781391Z",
     "start_time": "2022-06-18T16:15:44.776245Z"
    }
   },
   "outputs": [
    {
     "data": {
      "text/plain": [
       "112"
      ]
     },
     "execution_count": 53,
     "metadata": {},
     "output_type": "execute_result"
    }
   ],
   "source": [
    "max_index=np.argmax(tpr-fpr)\n",
    "max_index"
   ]
  },
  {
   "cell_type": "code",
   "execution_count": 54,
   "id": "5cc37f96",
   "metadata": {
    "ExecuteTime": {
     "end_time": "2022-06-18T16:15:47.476574Z",
     "start_time": "2022-06-18T16:15:47.474311Z"
    }
   },
   "outputs": [
    {
     "data": {
      "text/plain": [
       "0.1575328152146822"
      ]
     },
     "execution_count": 54,
     "metadata": {},
     "output_type": "execute_result"
    }
   ],
   "source": [
    "tresurehold[max_index]"
   ]
  },
  {
   "cell_type": "markdown",
   "id": "06977fce",
   "metadata": {},
   "source": [
    "## get the Area unter the Curve (AUC)"
   ]
  },
  {
   "cell_type": "code",
   "execution_count": 55,
   "id": "f9acad0c",
   "metadata": {
    "ExecuteTime": {
     "end_time": "2022-06-18T16:16:25.641971Z",
     "start_time": "2022-06-18T16:16:25.639507Z"
    }
   },
   "outputs": [
    {
     "data": {
      "text/plain": [
       "0.8645913606070101"
      ]
     },
     "execution_count": 55,
     "metadata": {},
     "output_type": "execute_result"
    }
   ],
   "source": [
    "auc(fpr,tpr)"
   ]
  },
  {
   "cell_type": "markdown",
   "id": "4319cdcd",
   "metadata": {},
   "source": [
    "## Get new perdiction with new Tresurehold"
   ]
  },
  {
   "cell_type": "code",
   "execution_count": 56,
   "id": "053e694a",
   "metadata": {
    "ExecuteTime": {
     "end_time": "2022-06-18T16:16:33.739252Z",
     "start_time": "2022-06-18T16:16:33.737243Z"
    }
   },
   "outputs": [],
   "source": [
    "prob_train_df=pd.DataFrame(probs_train)"
   ]
  },
  {
   "cell_type": "code",
   "execution_count": 82,
   "id": "70272520",
   "metadata": {
    "ExecuteTime": {
     "end_time": "2022-06-18T16:19:52.083665Z",
     "start_time": "2022-06-18T16:19:52.080326Z"
    }
   },
   "outputs": [],
   "source": [
    "prob_train_df[\"tresurhold\"]=tresurehold[max_index]"
   ]
  },
  {
   "cell_type": "code",
   "execution_count": 83,
   "id": "5456ca9f",
   "metadata": {
    "ExecuteTime": {
     "end_time": "2022-06-18T16:19:53.344206Z",
     "start_time": "2022-06-18T16:19:53.340186Z"
    }
   },
   "outputs": [
    {
     "data": {
      "text/html": [
       "<div>\n",
       "<style scoped>\n",
       "    .dataframe tbody tr th:only-of-type {\n",
       "        vertical-align: middle;\n",
       "    }\n",
       "\n",
       "    .dataframe tbody tr th {\n",
       "        vertical-align: top;\n",
       "    }\n",
       "\n",
       "    .dataframe thead th {\n",
       "        text-align: right;\n",
       "    }\n",
       "</style>\n",
       "<table border=\"1\" class=\"dataframe\">\n",
       "  <thead>\n",
       "    <tr style=\"text-align: right;\">\n",
       "      <th></th>\n",
       "      <th>0</th>\n",
       "      <th>1</th>\n",
       "      <th>tresurhold</th>\n",
       "      <th>new_prediction</th>\n",
       "    </tr>\n",
       "  </thead>\n",
       "  <tbody>\n",
       "    <tr>\n",
       "      <th>0</th>\n",
       "      <td>0.843159</td>\n",
       "      <td>0.156841</td>\n",
       "      <td>0.157533</td>\n",
       "      <td>0</td>\n",
       "    </tr>\n",
       "    <tr>\n",
       "      <th>1</th>\n",
       "      <td>0.120339</td>\n",
       "      <td>0.879661</td>\n",
       "      <td>0.157533</td>\n",
       "      <td>1</td>\n",
       "    </tr>\n",
       "    <tr>\n",
       "      <th>2</th>\n",
       "      <td>0.843316</td>\n",
       "      <td>0.156684</td>\n",
       "      <td>0.157533</td>\n",
       "      <td>0</td>\n",
       "    </tr>\n",
       "    <tr>\n",
       "      <th>3</th>\n",
       "      <td>0.805966</td>\n",
       "      <td>0.194034</td>\n",
       "      <td>0.157533</td>\n",
       "      <td>0</td>\n",
       "    </tr>\n",
       "    <tr>\n",
       "      <th>4</th>\n",
       "      <td>0.843457</td>\n",
       "      <td>0.156543</td>\n",
       "      <td>0.157533</td>\n",
       "      <td>0</td>\n",
       "    </tr>\n",
       "  </tbody>\n",
       "</table>\n",
       "</div>"
      ],
      "text/plain": [
       "          0         1  tresurhold  new_prediction\n",
       "0  0.843159  0.156841    0.157533               0\n",
       "1  0.120339  0.879661    0.157533               1\n",
       "2  0.843316  0.156684    0.157533               0\n",
       "3  0.805966  0.194034    0.157533               0\n",
       "4  0.843457  0.156543    0.157533               0"
      ]
     },
     "execution_count": 83,
     "metadata": {},
     "output_type": "execute_result"
    }
   ],
   "source": [
    "prob_train_df.head()"
   ]
  },
  {
   "cell_type": "code",
   "execution_count": 84,
   "id": "bf216106",
   "metadata": {
    "ExecuteTime": {
     "end_time": "2022-06-18T16:19:53.827360Z",
     "start_time": "2022-06-18T16:19:53.825120Z"
    }
   },
   "outputs": [],
   "source": [
    "prob_train_df[\"new_prediction\"]=(prob_train_df[1]>prob_train_df[\"tresurhold\"]).astype(int)"
   ]
  },
  {
   "cell_type": "code",
   "execution_count": 85,
   "id": "bddac95b",
   "metadata": {
    "ExecuteTime": {
     "end_time": "2022-06-18T16:19:54.192647Z",
     "start_time": "2022-06-18T16:19:54.188078Z"
    }
   },
   "outputs": [
    {
     "data": {
      "text/html": [
       "<div>\n",
       "<style scoped>\n",
       "    .dataframe tbody tr th:only-of-type {\n",
       "        vertical-align: middle;\n",
       "    }\n",
       "\n",
       "    .dataframe tbody tr th {\n",
       "        vertical-align: top;\n",
       "    }\n",
       "\n",
       "    .dataframe thead th {\n",
       "        text-align: right;\n",
       "    }\n",
       "</style>\n",
       "<table border=\"1\" class=\"dataframe\">\n",
       "  <thead>\n",
       "    <tr style=\"text-align: right;\">\n",
       "      <th></th>\n",
       "      <th>0</th>\n",
       "      <th>1</th>\n",
       "      <th>tresurhold</th>\n",
       "      <th>new_prediction</th>\n",
       "    </tr>\n",
       "  </thead>\n",
       "  <tbody>\n",
       "    <tr>\n",
       "      <th>0</th>\n",
       "      <td>0.843159</td>\n",
       "      <td>0.156841</td>\n",
       "      <td>0.157533</td>\n",
       "      <td>0</td>\n",
       "    </tr>\n",
       "    <tr>\n",
       "      <th>1</th>\n",
       "      <td>0.120339</td>\n",
       "      <td>0.879661</td>\n",
       "      <td>0.157533</td>\n",
       "      <td>1</td>\n",
       "    </tr>\n",
       "    <tr>\n",
       "      <th>2</th>\n",
       "      <td>0.843316</td>\n",
       "      <td>0.156684</td>\n",
       "      <td>0.157533</td>\n",
       "      <td>0</td>\n",
       "    </tr>\n",
       "    <tr>\n",
       "      <th>3</th>\n",
       "      <td>0.805966</td>\n",
       "      <td>0.194034</td>\n",
       "      <td>0.157533</td>\n",
       "      <td>1</td>\n",
       "    </tr>\n",
       "    <tr>\n",
       "      <th>4</th>\n",
       "      <td>0.843457</td>\n",
       "      <td>0.156543</td>\n",
       "      <td>0.157533</td>\n",
       "      <td>0</td>\n",
       "    </tr>\n",
       "  </tbody>\n",
       "</table>\n",
       "</div>"
      ],
      "text/plain": [
       "          0         1  tresurhold  new_prediction\n",
       "0  0.843159  0.156841    0.157533               0\n",
       "1  0.120339  0.879661    0.157533               1\n",
       "2  0.843316  0.156684    0.157533               0\n",
       "3  0.805966  0.194034    0.157533               1\n",
       "4  0.843457  0.156543    0.157533               0"
      ]
     },
     "execution_count": 85,
     "metadata": {},
     "output_type": "execute_result"
    }
   ],
   "source": [
    "prob_train_df.head()"
   ]
  },
  {
   "cell_type": "markdown",
   "id": "3b211eb1",
   "metadata": {},
   "source": [
    "## Differentce from new (0.15753281) and old (.5)  Tresurehold on Testdata"
   ]
  },
  {
   "cell_type": "code",
   "execution_count": 86,
   "id": "3fb5e2b7",
   "metadata": {
    "ExecuteTime": {
     "end_time": "2022-06-18T16:19:55.165455Z",
     "start_time": "2022-06-18T16:19:55.161772Z"
    }
   },
   "outputs": [],
   "source": [
    "acc_test=[]"
   ]
  },
  {
   "cell_type": "code",
   "execution_count": 87,
   "id": "1e96b2af",
   "metadata": {
    "ExecuteTime": {
     "end_time": "2022-06-18T16:19:55.501704Z",
     "start_time": "2022-06-18T16:19:55.493112Z"
    }
   },
   "outputs": [],
   "source": [
    "acc_test.append(accuracy_score(y_train, model.predict(X_train_trans)))"
   ]
  },
  {
   "cell_type": "code",
   "execution_count": 88,
   "id": "d07569ec",
   "metadata": {
    "ExecuteTime": {
     "end_time": "2022-06-18T16:19:55.794814Z",
     "start_time": "2022-06-18T16:19:55.792013Z"
    }
   },
   "outputs": [],
   "source": [
    "acc_test.append(accuracy_score(y_train, prob_train_df[\"new_prediction\"]))"
   ]
  },
  {
   "cell_type": "code",
   "execution_count": 89,
   "id": "64aa1405",
   "metadata": {
    "ExecuteTime": {
     "end_time": "2022-06-18T16:19:56.225287Z",
     "start_time": "2022-06-18T16:19:56.222688Z"
    }
   },
   "outputs": [
    {
     "data": {
      "text/plain": [
       "[0.8384831460674157, 0.8075842696629213]"
      ]
     },
     "execution_count": 89,
     "metadata": {},
     "output_type": "execute_result"
    }
   ],
   "source": [
    "acc_test"
   ]
  },
  {
   "cell_type": "code",
   "execution_count": 93,
   "id": "f8ea4720",
   "metadata": {
    "ExecuteTime": {
     "end_time": "2022-06-18T16:20:10.398735Z",
     "start_time": "2022-06-18T16:20:10.364152Z"
    }
   },
   "outputs": [
    {
     "data": {
      "text/plain": [
       "<AxesSubplot:>"
      ]
     },
     "execution_count": 93,
     "metadata": {},
     "output_type": "execute_result"
    },
    {
     "data": {
      "image/png": "[encoded data removed]",
      "text/plain": [
       "<Figure size 432x288 with 1 Axes>"
      ]
     },
     "metadata": {
      "needs_background": "light"
     },
     "output_type": "display_data"
    }
   ],
   "source": [
    "plt.axis((0,1,.8,.84))\n",
    "sns.barplot([0,1],acc_test)"
   ]
  },
  {
   "cell_type": "markdown",
   "id": "be348a57",
   "metadata": {},
   "source": [
    "## Differentce from new (0.15753281) and old (.5) Tresurehold on Valuation Data"
   ]
  },
  {
   "cell_type": "code",
   "execution_count": 94,
   "id": "cce939ee",
   "metadata": {
    "ExecuteTime": {
     "end_time": "2022-06-18T16:20:12.987021Z",
     "start_time": "2022-06-18T16:20:12.983978Z"
    }
   },
   "outputs": [],
   "source": [
    "props_val = model.predict_proba(X_val_trans)"
   ]
  },
  {
   "cell_type": "code",
   "execution_count": 95,
   "id": "8052f2f9",
   "metadata": {
    "ExecuteTime": {
     "end_time": "2022-06-18T16:20:13.649797Z",
     "start_time": "2022-06-18T16:20:13.647752Z"
    }
   },
   "outputs": [],
   "source": [
    "prob_val_df = pd.DataFrame(props_val)"
   ]
  },
  {
   "cell_type": "code",
   "execution_count": 96,
   "id": "948b2f2a",
   "metadata": {
    "ExecuteTime": {
     "end_time": "2022-06-18T16:20:14.395089Z",
     "start_time": "2022-06-18T16:20:14.392864Z"
    }
   },
   "outputs": [],
   "source": [
    "prob_val_df[\"tresurhold\"]=tresurehold[max_index]"
   ]
  },
  {
   "cell_type": "code",
   "execution_count": 97,
   "id": "7c8308f1",
   "metadata": {
    "ExecuteTime": {
     "end_time": "2022-06-18T16:20:19.733324Z",
     "start_time": "2022-06-18T16:20:19.730885Z"
    }
   },
   "outputs": [],
   "source": [
    "prob_val_df[\"new_prediction\"]=(prob_val_df[1]>prob_val_df[\"tresurhold\"]).astype(int)"
   ]
  },
  {
   "cell_type": "code",
   "execution_count": 98,
   "id": "275688b5",
   "metadata": {
    "ExecuteTime": {
     "end_time": "2022-06-18T16:20:20.887790Z",
     "start_time": "2022-06-18T16:20:20.885111Z"
    }
   },
   "outputs": [],
   "source": [
    "acc_val= []"
   ]
  },
  {
   "cell_type": "code",
   "execution_count": 99,
   "id": "c363f877",
   "metadata": {
    "ExecuteTime": {
     "end_time": "2022-06-18T16:20:21.301380Z",
     "start_time": "2022-06-18T16:20:21.298168Z"
    }
   },
   "outputs": [],
   "source": [
    "acc_val.append(accuracy_score(y_val,model.predict(X_val_trans)))"
   ]
  },
  {
   "cell_type": "code",
   "execution_count": 100,
   "id": "599bf679",
   "metadata": {
    "ExecuteTime": {
     "end_time": "2022-06-18T16:20:24.545690Z",
     "start_time": "2022-06-18T16:20:24.540225Z"
    }
   },
   "outputs": [],
   "source": [
    "acc_val.append(accuracy_score(y_val,prob_val_df[\"new_prediction\"]))"
   ]
  },
  {
   "cell_type": "code",
   "execution_count": 101,
   "id": "0cae2044",
   "metadata": {
    "ExecuteTime": {
     "end_time": "2022-06-18T16:20:26.242101Z",
     "start_time": "2022-06-18T16:20:26.239848Z"
    }
   },
   "outputs": [
    {
     "data": {
      "text/plain": [
       "[0.8491620111731844, 0.7541899441340782]"
      ]
     },
     "execution_count": 101,
     "metadata": {},
     "output_type": "execute_result"
    }
   ],
   "source": [
    "acc_val"
   ]
  },
  {
   "cell_type": "code",
   "execution_count": 103,
   "id": "d311b756",
   "metadata": {
    "ExecuteTime": {
     "end_time": "2022-06-18T16:21:32.798847Z",
     "start_time": "2022-06-18T16:21:32.767366Z"
    }
   },
   "outputs": [
    {
     "data": {
      "text/plain": [
       "<AxesSubplot:>"
      ]
     },
     "execution_count": 103,
     "metadata": {},
     "output_type": "execute_result"
    },
    {
     "data": {
      "image/png": "[encoded data removed]",
      "text/plain": [
       "<Figure size 432x288 with 1 Axes>"
      ]
     },
     "metadata": {
      "needs_background": "light"
     },
     "output_type": "display_data"
    }
   ],
   "source": [
    "plt.axis((0,1,.75,.85))\n",
    "sns.barplot([0,1],acc_val)"
   ]
  },
  {
   "cell_type": "markdown",
   "id": "bce25407",
   "metadata": {},
   "source": [
    "## Creating datafile for Kaggle"
   ]
  },
  {
   "cell_type": "code",
   "execution_count": 104,
   "id": "f1230f32",
   "metadata": {
    "ExecuteTime": {
     "end_time": "2022-06-18T16:22:13.306058Z",
     "start_time": "2022-06-18T16:22:13.267906Z"
    }
   },
   "outputs": [],
   "source": [
    "test = pd.read_csv(\"data/test.csv\",sep=\",\",index_col = 0)\n",
    "test[\"Title\"]=test.Name.str.split(\",\",expand=True)[1].str.split(\".\",expand=True)[0].str.strip()\n",
    "test[\"ClassSex\"]=test[\"Pclass\"].apply(str)+ df[\"Sex\"]\n",
    "df2=test[test.Age.isna()]\n",
    "for item in mean_age.index:\n",
    "    df2.loc[df2[\"ClassSex\"]==item,\"Age\"]=mean_age[item]\n",
    "test[test.Age.isna()]=df2\n",
    "test.replace({'Title':title_dic},inplace=True)\n",
    "test_trans = feature_transform.transform(test)\n",
    "test_pred = model.predict(test_trans)\n",
    "test_props_val = model.predict_proba(test_trans)\n",
    "test_prob_val_df = pd.DataFrame(test_props_val)\n",
    "test_prob_val_df[\"tresurhold\"]=tresurehold[max_index]\n",
    "test_prob_val_df[\"new_prediction\"]=(test_prob_val_df[1]>test_prob_val_df[\"tresurhold\"]).astype(int)\n",
    "kraggle = pd.DataFrame(test.index)\n",
    "kraggle[\"Survived\"]=test_pred#test_prob_val_df[\"new_prediction\"]\n",
    "kraggle.set_index(\"PassengerId\")\n",
    "kraggle.to_csv(\"data/kraggle_SVM.csv\",index = False)"
   ]
  },
  {
   "cell_type": "code",
   "execution_count": null,
   "id": "dd010d59",
   "metadata": {},
   "outputs": [],
   "source": []
  }
 ],
 "metadata": {
  "kernelspec": {
   "display_name": "Python 3 (ipykernel)",
   "language": "python",
   "name": "python3"
  },
  "language_info": {
   "codemirror_mode": {
    "name": "ipython",
    "version": 3
   },
   "file_extension": ".py",
   "mimetype": "text/x-python",
   "name": "python",
   "nbconvert_exporter": "python",
   "pygments_lexer": "ipython3",
   "version": "3.9.12"
  },
  "toc": {
   "base_numbering": 1,
   "nav_menu": {},
   "number_sections": true,
   "sideBar": true,
   "skip_h1_title": false,
   "title_cell": "Table of Contents",
   "title_sidebar": "Project Week 2",
   "toc_cell": false,
   "toc_position": {
    "height": "calc(100% - 180px)",
    "left": "10px",
    "top": "150px",
    "width": "384px"
   },
   "toc_section_display": true,
   "toc_window_display": true
  },
  "varInspector": {
   "cols": {
    "lenName": 16,
    "lenType": 16,
    "lenVar": 40
   },
   "kernels_config": {
    "python": {
     "delete_cmd_postfix": "",
     "delete_cmd_prefix": "del ",
     "library": "var_list.py",
     "varRefreshCmd": "print(var_dic_list())"
    },
    "r": {
     "delete_cmd_postfix": ") ",
     "delete_cmd_prefix": "rm(",
     "library": "var_list.r",
     "varRefreshCmd": "cat(var_dic_list()) "
    }
   },
   "types_to_exclude": [
    "module",
    "function",
    "builtin_function_or_method",
    "instance",
    "_Feature"
   ],
   "window_display": false
  }
 },
 "nbformat": 4,
 "nbformat_minor": 5
}
