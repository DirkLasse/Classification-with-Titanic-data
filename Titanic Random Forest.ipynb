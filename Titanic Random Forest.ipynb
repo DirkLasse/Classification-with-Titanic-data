{
 "cells": [
  {
   "cell_type": "markdown",
   "id": "40c0a4d6",
   "metadata": {},
   "source": [
    "## Random Forest and Decision Tree at Titanic Data\n"
   ]
  },
  {
   "cell_type": "code",
   "execution_count": 1,
   "id": "156e77fd",
   "metadata": {
    "ExecuteTime": {
     "end_time": "2022-06-18T11:37:54.787653Z",
     "start_time": "2022-06-18T11:37:54.237913Z"
    }
   },
   "outputs": [],
   "source": [
    "import pandas as pd\n",
    "import numpy as np\n",
    "from sklearn.model_selection import train_test_split\n",
    "from sklearn.linear_model import LogisticRegression\n",
    "import seaborn as sns\n",
    "from matplotlib import pyplot as plt\n",
    "import warnings\n",
    "from sklearn.pipeline import make_pipeline\n",
    "from sklearn.impute import SimpleImputer\n",
    "from sklearn.preprocessing import MinMaxScaler\n",
    "from sklearn.preprocessing import OneHotEncoder , OrdinalEncoder\n",
    "from sklearn.compose import ColumnTransformer\n",
    "warnings.filterwarnings(\"ignore\")"
   ]
  },
  {
   "cell_type": "markdown",
   "id": "6f51ff1c",
   "metadata": {},
   "source": [
    "## Read Data"
   ]
  },
  {
   "cell_type": "code",
   "execution_count": 2,
   "id": "96106151",
   "metadata": {
    "ExecuteTime": {
     "end_time": "2022-06-18T11:37:55.537203Z",
     "start_time": "2022-06-18T11:37:55.523483Z"
    }
   },
   "outputs": [],
   "source": [
    "df = pd.read_csv(\"data/train.csv\", sep=\",\", index_col=0)"
   ]
  },
  {
   "cell_type": "code",
   "execution_count": 3,
   "id": "6acb4036",
   "metadata": {
    "ExecuteTime": {
     "end_time": "2022-06-18T11:37:56.074542Z",
     "start_time": "2022-06-18T11:37:56.066407Z"
    }
   },
   "outputs": [
    {
     "data": {
      "text/html": [
       "<div>\n",
       "<style scoped>\n",
       "    .dataframe tbody tr th:only-of-type {\n",
       "        vertical-align: middle;\n",
       "    }\n",
       "\n",
       "    .dataframe tbody tr th {\n",
       "        vertical-align: top;\n",
       "    }\n",
       "\n",
       "    .dataframe thead th {\n",
       "        text-align: right;\n",
       "    }\n",
       "</style>\n",
       "<table border=\"1\" class=\"dataframe\">\n",
       "  <thead>\n",
       "    <tr style=\"text-align: right;\">\n",
       "      <th></th>\n",
       "      <th>Survived</th>\n",
       "      <th>Pclass</th>\n",
       "      <th>Name</th>\n",
       "      <th>Sex</th>\n",
       "      <th>Age</th>\n",
       "      <th>SibSp</th>\n",
       "      <th>Parch</th>\n",
       "      <th>Ticket</th>\n",
       "      <th>Fare</th>\n",
       "      <th>Cabin</th>\n",
       "      <th>Embarked</th>\n",
       "    </tr>\n",
       "    <tr>\n",
       "      <th>PassengerId</th>\n",
       "      <th></th>\n",
       "      <th></th>\n",
       "      <th></th>\n",
       "      <th></th>\n",
       "      <th></th>\n",
       "      <th></th>\n",
       "      <th></th>\n",
       "      <th></th>\n",
       "      <th></th>\n",
       "      <th></th>\n",
       "      <th></th>\n",
       "    </tr>\n",
       "  </thead>\n",
       "  <tbody>\n",
       "    <tr>\n",
       "      <th>1</th>\n",
       "      <td>0</td>\n",
       "      <td>3</td>\n",
       "      <td>Braund, Mr. Owen Harris</td>\n",
       "      <td>male</td>\n",
       "      <td>22.0</td>\n",
       "      <td>1</td>\n",
       "      <td>0</td>\n",
       "      <td>A/5 21171</td>\n",
       "      <td>7.2500</td>\n",
       "      <td>NaN</td>\n",
       "      <td>S</td>\n",
       "    </tr>\n",
       "    <tr>\n",
       "      <th>2</th>\n",
       "      <td>1</td>\n",
       "      <td>1</td>\n",
       "      <td>Cumings, Mrs. John Bradley (Florence Briggs Th...</td>\n",
       "      <td>female</td>\n",
       "      <td>38.0</td>\n",
       "      <td>1</td>\n",
       "      <td>0</td>\n",
       "      <td>PC 17599</td>\n",
       "      <td>71.2833</td>\n",
       "      <td>C85</td>\n",
       "      <td>C</td>\n",
       "    </tr>\n",
       "    <tr>\n",
       "      <th>3</th>\n",
       "      <td>1</td>\n",
       "      <td>3</td>\n",
       "      <td>Heikkinen, Miss. Laina</td>\n",
       "      <td>female</td>\n",
       "      <td>26.0</td>\n",
       "      <td>0</td>\n",
       "      <td>0</td>\n",
       "      <td>STON/O2. 3101282</td>\n",
       "      <td>7.9250</td>\n",
       "      <td>NaN</td>\n",
       "      <td>S</td>\n",
       "    </tr>\n",
       "    <tr>\n",
       "      <th>4</th>\n",
       "      <td>1</td>\n",
       "      <td>1</td>\n",
       "      <td>Futrelle, Mrs. Jacques Heath (Lily May Peel)</td>\n",
       "      <td>female</td>\n",
       "      <td>35.0</td>\n",
       "      <td>1</td>\n",
       "      <td>0</td>\n",
       "      <td>113803</td>\n",
       "      <td>53.1000</td>\n",
       "      <td>C123</td>\n",
       "      <td>S</td>\n",
       "    </tr>\n",
       "    <tr>\n",
       "      <th>5</th>\n",
       "      <td>0</td>\n",
       "      <td>3</td>\n",
       "      <td>Allen, Mr. William Henry</td>\n",
       "      <td>male</td>\n",
       "      <td>35.0</td>\n",
       "      <td>0</td>\n",
       "      <td>0</td>\n",
       "      <td>373450</td>\n",
       "      <td>8.0500</td>\n",
       "      <td>NaN</td>\n",
       "      <td>S</td>\n",
       "    </tr>\n",
       "  </tbody>\n",
       "</table>\n",
       "</div>"
      ],
      "text/plain": [
       "             Survived  Pclass  \\\n",
       "PassengerId                     \n",
       "1                   0       3   \n",
       "2                   1       1   \n",
       "3                   1       3   \n",
       "4                   1       1   \n",
       "5                   0       3   \n",
       "\n",
       "                                                          Name     Sex   Age  \\\n",
       "PassengerId                                                                    \n",
       "1                                      Braund, Mr. Owen Harris    male  22.0   \n",
       "2            Cumings, Mrs. John Bradley (Florence Briggs Th...  female  38.0   \n",
       "3                                       Heikkinen, Miss. Laina  female  26.0   \n",
       "4                 Futrelle, Mrs. Jacques Heath (Lily May Peel)  female  35.0   \n",
       "5                                     Allen, Mr. William Henry    male  35.0   \n",
       "\n",
       "             SibSp  Parch            Ticket     Fare Cabin Embarked  \n",
       "PassengerId                                                          \n",
       "1                1      0         A/5 21171   7.2500   NaN        S  \n",
       "2                1      0          PC 17599  71.2833   C85        C  \n",
       "3                0      0  STON/O2. 3101282   7.9250   NaN        S  \n",
       "4                1      0            113803  53.1000  C123        S  \n",
       "5                0      0            373450   8.0500   NaN        S  "
      ]
     },
     "execution_count": 3,
     "metadata": {},
     "output_type": "execute_result"
    }
   ],
   "source": [
    "df.head()"
   ]
  },
  {
   "cell_type": "markdown",
   "id": "84bb3c07",
   "metadata": {},
   "source": [
    "## Examing Data"
   ]
  },
  {
   "cell_type": "code",
   "execution_count": 4,
   "id": "71f064d5",
   "metadata": {
    "ExecuteTime": {
     "end_time": "2022-06-18T11:38:00.299801Z",
     "start_time": "2022-06-18T11:38:00.295089Z"
    }
   },
   "outputs": [],
   "source": [
    "df[\"Title\"]=df.Name.str.split(\",\",expand=True)[1].str.split(\".\",expand=True)[0].str.strip()\n",
    "df[\"ClassSex\"]=df[\"Pclass\"].apply(str)+ df[\"Sex\"]"
   ]
  },
  {
   "cell_type": "code",
   "execution_count": 5,
   "id": "64ccc85d",
   "metadata": {
    "ExecuteTime": {
     "end_time": "2022-06-18T11:38:00.628638Z",
     "start_time": "2022-06-18T11:38:00.622233Z"
    }
   },
   "outputs": [
    {
     "data": {
      "text/plain": [
       "Survived      0\n",
       "Pclass        0\n",
       "Name          0\n",
       "Sex           0\n",
       "Age         177\n",
       "SibSp         0\n",
       "Parch         0\n",
       "Ticket        0\n",
       "Fare          0\n",
       "Cabin       687\n",
       "Embarked      2\n",
       "Title         0\n",
       "ClassSex      0\n",
       "dtype: int64"
      ]
     },
     "execution_count": 5,
     "metadata": {},
     "output_type": "execute_result"
    }
   ],
   "source": [
    "df.isna().sum()"
   ]
  },
  {
   "cell_type": "markdown",
   "id": "0c1cc6f7",
   "metadata": {},
   "source": [
    "## Creating column ClassSex for filling NAN Age with mean by class and sex"
   ]
  },
  {
   "cell_type": "code",
   "execution_count": 6,
   "id": "b2b1e470",
   "metadata": {
    "ExecuteTime": {
     "end_time": "2022-06-18T11:38:16.925398Z",
     "start_time": "2022-06-18T11:38:16.922221Z"
    }
   },
   "outputs": [
    {
     "data": {
      "text/plain": [
       "Index(['1female', '1male', '2female', '2male', '3female', '3male'], dtype='object', name='ClassSex')"
      ]
     },
     "execution_count": 6,
     "metadata": {},
     "output_type": "execute_result"
    }
   ],
   "source": [
    "mean_age=df.groupby([\"ClassSex\"]).Age.mean()\n",
    "mean_age.index"
   ]
  },
  {
   "cell_type": "code",
   "execution_count": 7,
   "id": "298fdfb3",
   "metadata": {
    "ExecuteTime": {
     "end_time": "2022-06-18T11:38:17.345981Z",
     "start_time": "2022-06-18T11:38:17.341744Z"
    }
   },
   "outputs": [],
   "source": [
    "df2=df[df.Age.isna()]\n",
    "for item in mean_age.index:\n",
    "    \n",
    "    df2.loc[df2[\"ClassSex\"]==item,\"Age\"]=mean_age[item]\n",
    "df[df.Age.isna()]=df2"
   ]
  },
  {
   "cell_type": "code",
   "execution_count": 8,
   "id": "7cc5aac4",
   "metadata": {
    "ExecuteTime": {
     "end_time": "2022-06-18T11:38:17.764850Z",
     "start_time": "2022-06-18T11:38:17.762856Z"
    }
   },
   "outputs": [],
   "source": [
    "title_dic= {'Ms':'Miss', 'Mlle':'Miss', 'Mme':'Miss','Miss':'Miss',\n",
    "            'Lady':'Mrs','Mrs':'Mrs','the Countess':'Mrs','Dona':'Mrs',\n",
    "            'Rev':'Mr','Sir':'Mr','Mr':'Mr','Dr':'Mr','Major':'Mr','Col':'Mr', 'Capt':'Mr','Don':'Mr','Jonkheer':'Mr',\n",
    "            'Master':'Master',\n",
    "           }"
   ]
  },
  {
   "cell_type": "code",
   "execution_count": 9,
   "id": "963449b3",
   "metadata": {
    "ExecuteTime": {
     "end_time": "2022-06-18T11:38:19.003925Z",
     "start_time": "2022-06-18T11:38:18.998733Z"
    },
    "scrolled": false
   },
   "outputs": [],
   "source": [
    "df.replace({'Title':title_dic},inplace=True)"
   ]
  },
  {
   "cell_type": "markdown",
   "id": "ad2114d5",
   "metadata": {},
   "source": [
    "## Creating Catigory and Number pipes and feature transformer"
   ]
  },
  {
   "cell_type": "code",
   "execution_count": 10,
   "id": "450193db",
   "metadata": {
    "ExecuteTime": {
     "end_time": "2022-06-18T11:38:26.913913Z",
     "start_time": "2022-06-18T11:38:26.910381Z"
    }
   },
   "outputs": [],
   "source": [
    "cat_pipe = make_pipeline(SimpleImputer(strategy='most_frequent'),\n",
    "                         OneHotEncoder(sparse=False, handle_unknown=\"ignore\")\n",
    ")"
   ]
  },
  {
   "cell_type": "code",
   "execution_count": 11,
   "id": "f055d0bc",
   "metadata": {
    "ExecuteTime": {
     "end_time": "2022-06-18T11:38:27.308751Z",
     "start_time": "2022-06-18T11:38:27.307049Z"
    }
   },
   "outputs": [],
   "source": [
    "num_pipe = make_pipeline(SimpleImputer(strategy=\"median\"), MinMaxScaler())"
   ]
  },
  {
   "cell_type": "code",
   "execution_count": 153,
   "id": "261c0386",
   "metadata": {
    "ExecuteTime": {
     "end_time": "2022-06-18T15:51:44.732053Z",
     "start_time": "2022-06-18T15:51:44.729283Z"
    }
   },
   "outputs": [],
   "source": [
    "num_list=['Pclass', 'Age', 'SibSp', 'Parch', 'Fare']\n",
    "cat_list=['Sex', 'Embarked','Title']\n",
    "feature_transform = ColumnTransformer([\n",
    "    (\"Drop Column\", 'drop', ['Cabin', 'Name', 'Ticket','ClassSex']),\n",
    "    (\"Num preprossing\", num_pipe, num_list),\n",
    "    (\"Cat preprossing\", cat_pipe, cat_list),\n",
    "])\n",
    "cat_list2=['Sex','Sex', 'Embarked','Embarked','Embarked','Title','Title','Title','Title']\n",
    "complete_list =num_list+ cat_list2"
   ]
  },
  {
   "cell_type": "markdown",
   "id": "ec51b6ff",
   "metadata": {},
   "source": [
    "## Split DF in y and X Data and in Train and Validation Data"
   ]
  },
  {
   "cell_type": "code",
   "execution_count": 69,
   "id": "843287e5",
   "metadata": {
    "ExecuteTime": {
     "end_time": "2022-06-18T12:04:48.102565Z",
     "start_time": "2022-06-18T12:04:48.100121Z"
    }
   },
   "outputs": [],
   "source": [
    "y=df[\"Survived\"]\n",
    "X=df.drop([\"Survived\"],axis=1)"
   ]
  },
  {
   "cell_type": "code",
   "execution_count": 70,
   "id": "d7e7e285",
   "metadata": {
    "ExecuteTime": {
     "end_time": "2022-06-18T12:04:48.710929Z",
     "start_time": "2022-06-18T12:04:48.706905Z"
    }
   },
   "outputs": [],
   "source": [
    "X_train, X_val, y_train, y_val = train_test_split(X,\n",
    "                                                  y,\n",
    "                                                  test_size=0.2,\n",
    "                                                  random_state=1000)\n"
   ]
  },
  {
   "cell_type": "code",
   "execution_count": 71,
   "id": "ac1a2454",
   "metadata": {
    "ExecuteTime": {
     "end_time": "2022-06-18T12:04:49.091666Z",
     "start_time": "2022-06-18T12:04:49.089354Z"
    }
   },
   "outputs": [
    {
     "data": {
      "text/plain": [
       "((712, 12), (712,))"
      ]
     },
     "execution_count": 71,
     "metadata": {},
     "output_type": "execute_result"
    }
   ],
   "source": [
    "X_train.shape, y_train.shape"
   ]
  },
  {
   "cell_type": "markdown",
   "id": "598e7212",
   "metadata": {},
   "source": [
    "## Fill NaN and Transform Strings to numbers"
   ]
  },
  {
   "cell_type": "code",
   "execution_count": 156,
   "id": "dc264fb6",
   "metadata": {
    "ExecuteTime": {
     "end_time": "2022-06-18T15:53:31.423660Z",
     "start_time": "2022-06-18T15:53:31.414730Z"
    }
   },
   "outputs": [],
   "source": [
    "X_train_trans = feature_transform.fit_transform(X_train)"
   ]
  },
  {
   "cell_type": "code",
   "execution_count": 73,
   "id": "350a1284",
   "metadata": {
    "ExecuteTime": {
     "end_time": "2022-06-18T12:04:50.376917Z",
     "start_time": "2022-06-18T12:04:50.374299Z"
    }
   },
   "outputs": [
    {
     "data": {
      "text/plain": [
       "(712, 14)"
      ]
     },
     "execution_count": 73,
     "metadata": {},
     "output_type": "execute_result"
    }
   ],
   "source": [
    "X_train_trans.shape"
   ]
  },
  {
   "cell_type": "markdown",
   "id": "12c16d6d",
   "metadata": {},
   "source": [
    "## Load Define and Train Model for Decision Tree"
   ]
  },
  {
   "cell_type": "code",
   "execution_count": 74,
   "id": "e9a414d2",
   "metadata": {
    "ExecuteTime": {
     "end_time": "2022-06-18T12:04:51.269221Z",
     "start_time": "2022-06-18T12:04:51.265072Z"
    }
   },
   "outputs": [],
   "source": [
    "from sklearn.tree import DecisionTreeClassifier"
   ]
  },
  {
   "cell_type": "code",
   "execution_count": 75,
   "id": "f9bc73a0",
   "metadata": {
    "ExecuteTime": {
     "end_time": "2022-06-18T12:04:51.872924Z",
     "start_time": "2022-06-18T12:04:51.847303Z"
    }
   },
   "outputs": [],
   "source": [
    "X_val_trans = feature_transform.transform(X_val)\n",
    "score_train,score_val=[],[]\n",
    "for item in range(1,20):\n",
    "    model = DecisionTreeClassifier(max_depth=item)\n",
    "    model.fit(X_train_trans, y_train)\n",
    "    score_train.append(model.score(X_train_trans, y_train))\n",
    "    score_val.append(model.score(X_val_trans, y_val))"
   ]
  },
  {
   "cell_type": "code",
   "execution_count": 76,
   "id": "23cde5aa",
   "metadata": {
    "ExecuteTime": {
     "end_time": "2022-06-18T12:04:52.787829Z",
     "start_time": "2022-06-18T12:04:52.705270Z"
    }
   },
   "outputs": [
    {
     "data": {
      "text/plain": [
       "array([False, False,  True, False, False, False, False, False, False,\n",
       "       False, False, False, False, False, False, False, False, False,\n",
       "       False])"
      ]
     },
     "execution_count": 76,
     "metadata": {},
     "output_type": "execute_result"
    },
    {
     "data": {
      "image/png": "[encoded data removed]",
      "text/plain": [
       "<Figure size 432x288 with 2 Axes>"
      ]
     },
     "metadata": {
      "needs_background": "light"
     },
     "output_type": "display_data"
    }
   ],
   "source": [
    "fig, ax = plt.subplots(1,2)\n",
    "sns.lineplot(range(1,20),score_train,ax=ax[0])\n",
    "sns.lineplot(range(1,20),score_val,ax=ax[1])\n",
    "score_val==max(score_val)"
   ]
  },
  {
   "cell_type": "code",
   "execution_count": 77,
   "id": "33699265",
   "metadata": {
    "ExecuteTime": {
     "end_time": "2022-06-18T12:04:53.502474Z",
     "start_time": "2022-06-18T12:04:53.500592Z"
    }
   },
   "outputs": [],
   "source": [
    "model = DecisionTreeClassifier(max_depth=3)"
   ]
  },
  {
   "cell_type": "code",
   "execution_count": 78,
   "id": "77ce3563",
   "metadata": {
    "ExecuteTime": {
     "end_time": "2022-06-18T12:05:21.950418Z",
     "start_time": "2022-06-18T12:05:21.947107Z"
    }
   },
   "outputs": [
    {
     "data": {
      "text/plain": [
       "DecisionTreeClassifier(max_depth=3)"
      ]
     },
     "execution_count": 78,
     "metadata": {},
     "output_type": "execute_result"
    }
   ],
   "source": [
    "model.fit(X_train_trans, y_train)"
   ]
  },
  {
   "cell_type": "markdown",
   "id": "c497306f",
   "metadata": {},
   "source": [
    "## Presition Score on Test data "
   ]
  },
  {
   "cell_type": "code",
   "execution_count": 79,
   "id": "3f99acb8",
   "metadata": {
    "ExecuteTime": {
     "end_time": "2022-06-18T12:05:24.633162Z",
     "start_time": "2022-06-18T12:05:24.625307Z"
    }
   },
   "outputs": [
    {
     "data": {
      "text/plain": [
       "0.8314606741573034"
      ]
     },
     "execution_count": 79,
     "metadata": {},
     "output_type": "execute_result"
    }
   ],
   "source": [
    "model.score(X_train_trans, y_train)"
   ]
  },
  {
   "cell_type": "markdown",
   "id": "a17be40a",
   "metadata": {},
   "source": [
    "## Presition Score on Validation data"
   ]
  },
  {
   "cell_type": "code",
   "execution_count": 80,
   "id": "dfe5e31f",
   "metadata": {
    "ExecuteTime": {
     "end_time": "2022-06-18T12:05:28.881011Z",
     "start_time": "2022-06-18T12:05:28.876353Z"
    }
   },
   "outputs": [],
   "source": [
    "X_val_trans = feature_transform.transform(X_val)"
   ]
  },
  {
   "cell_type": "code",
   "execution_count": 81,
   "id": "eaf303cd",
   "metadata": {
    "ExecuteTime": {
     "end_time": "2022-06-18T12:05:30.042507Z",
     "start_time": "2022-06-18T12:05:30.039608Z"
    }
   },
   "outputs": [
    {
     "data": {
      "text/plain": [
       "0.8379888268156425"
      ]
     },
     "execution_count": 81,
     "metadata": {},
     "output_type": "execute_result"
    }
   ],
   "source": [
    "model.score(X_val_trans, y_val)"
   ]
  },
  {
   "cell_type": "markdown",
   "id": "6b503985",
   "metadata": {},
   "source": [
    "## Crossvalidation"
   ]
  },
  {
   "cell_type": "code",
   "execution_count": 82,
   "id": "c2eae577",
   "metadata": {
    "ExecuteTime": {
     "end_time": "2022-06-18T12:05:31.879707Z",
     "start_time": "2022-06-18T12:05:31.877481Z"
    }
   },
   "outputs": [],
   "source": [
    "from sklearn.model_selection import cross_val_score "
   ]
  },
  {
   "cell_type": "code",
   "execution_count": 86,
   "id": "480aef44",
   "metadata": {
    "ExecuteTime": {
     "end_time": "2022-06-18T12:06:42.852317Z",
     "start_time": "2022-06-18T12:06:42.492339Z"
    }
   },
   "outputs": [],
   "source": [
    "cross_val_log = cross_val_score(model,\n",
    "                                X_train_trans,\n",
    "                                y_train,\n",
    "                                cv=5,\n",
    "                                scoring=\"accuracy\",n_jobs=-1\n",
    ")"
   ]
  },
  {
   "cell_type": "code",
   "execution_count": 87,
   "id": "d447abae",
   "metadata": {
    "ExecuteTime": {
     "end_time": "2022-06-18T12:06:46.031980Z",
     "start_time": "2022-06-18T12:06:46.029344Z"
    }
   },
   "outputs": [
    {
     "data": {
      "text/plain": [
       "(array([0.81818182, 0.8041958 , 0.85211268, 0.84507042, 0.81690141]),\n",
       " 0.8272924258839751)"
      ]
     },
     "execution_count": 87,
     "metadata": {},
     "output_type": "execute_result"
    }
   ],
   "source": [
    "cross_val_log,cross_val_log.mean()"
   ]
  },
  {
   "cell_type": "markdown",
   "id": "a3256b9a",
   "metadata": {},
   "source": [
    "## Tree Plot from Model"
   ]
  },
  {
   "cell_type": "code",
   "execution_count": 88,
   "id": "52ca9272",
   "metadata": {
    "ExecuteTime": {
     "end_time": "2022-06-18T12:06:52.589710Z",
     "start_time": "2022-06-18T12:06:52.586514Z"
    }
   },
   "outputs": [],
   "source": [
    "from sklearn.tree import plot_tree\n",
    "from matplotlib import pyplot as plt"
   ]
  },
  {
   "cell_type": "code",
   "execution_count": 89,
   "id": "56252fc1",
   "metadata": {
    "ExecuteTime": {
     "end_time": "2022-06-18T12:06:58.168723Z",
     "start_time": "2022-06-18T12:06:57.916976Z"
    }
   },
   "outputs": [
    {
     "data": {
      "image/png": "[encoded data removed]",
      "text/plain": [
       "<Figure size 1800x1080 with 1 Axes>"
      ]
     },
     "metadata": {
      "needs_background": "light"
     },
     "output_type": "display_data"
    }
   ],
   "source": [
    "plt.figure(figsize=(25,15))\n",
    "t = plot_tree(model, filled=True)"
   ]
  },
  {
   "cell_type": "markdown",
   "id": "d02e50dd",
   "metadata": {},
   "source": [
    "## Random Forest Classifier"
   ]
  },
  {
   "cell_type": "code",
   "execution_count": 90,
   "id": "2a0d5e3f",
   "metadata": {
    "ExecuteTime": {
     "end_time": "2022-06-18T12:07:03.340166Z",
     "start_time": "2022-06-18T12:07:03.338230Z"
    }
   },
   "outputs": [],
   "source": [
    "from sklearn.ensemble import RandomForestClassifier "
   ]
  },
  {
   "cell_type": "code",
   "execution_count": 107,
   "id": "75d457ff",
   "metadata": {
    "ExecuteTime": {
     "end_time": "2022-06-18T12:10:34.047152Z",
     "start_time": "2022-06-18T12:10:33.084148Z"
    }
   },
   "outputs": [
    {
     "data": {
      "text/plain": [
       "RandomForestClassifier(max_depth=5, n_estimators=400, n_jobs=-1,\n",
       "                       random_state=1000)"
      ]
     },
     "execution_count": 107,
     "metadata": {},
     "output_type": "execute_result"
    }
   ],
   "source": [
    "rfc = RandomForestClassifier(n_estimators=400, max_depth=5,random_state=1000,n_jobs=-1)    #Hyperparam: n_estimators(number of trees)\n",
    "rfc.fit(X_train_trans, y_train,)"
   ]
  },
  {
   "cell_type": "code",
   "execution_count": 108,
   "id": "b1c94160",
   "metadata": {
    "ExecuteTime": {
     "end_time": "2022-06-18T12:10:35.694172Z",
     "start_time": "2022-06-18T12:10:35.643137Z"
    }
   },
   "outputs": [
    {
     "data": {
      "text/plain": [
       "0.851123595505618"
      ]
     },
     "execution_count": 108,
     "metadata": {},
     "output_type": "execute_result"
    }
   ],
   "source": [
    "rfc.score(X_train_trans,y_train)"
   ]
  },
  {
   "cell_type": "code",
   "execution_count": 109,
   "id": "07070ee3",
   "metadata": {
    "ExecuteTime": {
     "end_time": "2022-06-18T12:10:36.696604Z",
     "start_time": "2022-06-18T12:10:36.658045Z"
    }
   },
   "outputs": [
    {
     "data": {
      "text/plain": [
       "0.8435754189944135"
      ]
     },
     "execution_count": 109,
     "metadata": {},
     "output_type": "execute_result"
    }
   ],
   "source": [
    "rfc.score(X_val_trans,y_val)"
   ]
  },
  {
   "cell_type": "code",
   "execution_count": 111,
   "id": "4c7d623d",
   "metadata": {
    "ExecuteTime": {
     "end_time": "2022-06-18T12:11:00.665964Z",
     "start_time": "2022-06-18T12:10:59.852792Z"
    }
   },
   "outputs": [
    {
     "name": "stdout",
     "output_type": "stream",
     "text": [
      "[0.81818182 0.7972028  0.85211268 0.83098592 0.82394366] 0.8244853737811484\n"
     ]
    }
   ],
   "source": [
    "cross_val_log = cross_val_score(rfc,\n",
    "                                X_train_trans,\n",
    "                                y_train,\n",
    "                                cv=5,\n",
    "                                scoring=\"accuracy\",n_jobs=-1\n",
    ")\n",
    "print(cross_val_log, cross_val_log.mean())"
   ]
  },
  {
   "cell_type": "markdown",
   "id": "ba4f495e",
   "metadata": {},
   "source": [
    "## Parameter from rfc"
   ]
  },
  {
   "cell_type": "code",
   "execution_count": 116,
   "id": "0e860738",
   "metadata": {
    "ExecuteTime": {
     "end_time": "2022-06-18T12:14:15.346555Z",
     "start_time": "2022-06-18T12:14:15.274577Z"
    }
   },
   "outputs": [
    {
     "data": {
      "text/plain": [
       "Text(0.5, 1.0, 'Random Forest Feature Importance')"
      ]
     },
     "execution_count": 116,
     "metadata": {},
     "output_type": "execute_result"
    },
    {
     "data": {
      "image/png": "[encoded data removed]",
      "text/plain": [
       "<Figure size 648x360 with 1 Axes>"
      ]
     },
     "metadata": {
      "needs_background": "light"
     },
     "output_type": "display_data"
    }
   ],
   "source": [
    "importance = rfc.feature_importances_\n",
    "fig = plt.figure(figsize=(9,5))\n",
    "\n",
    "plt.bar([x for x in range(len(importance))], importance, tick_label=complete_list)\n",
    "plt.title('Random Forest Feature Importance')"
   ]
  },
  {
   "cell_type": "markdown",
   "id": "5f43ec54",
   "metadata": {},
   "source": [
    "## Accuracy is equal Score"
   ]
  },
  {
   "cell_type": "code",
   "execution_count": 117,
   "id": "6ef7d2b5",
   "metadata": {
    "ExecuteTime": {
     "end_time": "2022-06-18T15:44:05.338294Z",
     "start_time": "2022-06-18T15:44:05.334946Z"
    }
   },
   "outputs": [],
   "source": [
    "from sklearn.metrics import accuracy_score"
   ]
  },
  {
   "cell_type": "code",
   "execution_count": 118,
   "id": "887c4916",
   "metadata": {
    "ExecuteTime": {
     "end_time": "2022-06-18T15:44:14.700113Z",
     "start_time": "2022-06-18T15:44:14.640893Z"
    }
   },
   "outputs": [],
   "source": [
    "y_pred = rfc.predict(X_train_trans)"
   ]
  },
  {
   "cell_type": "code",
   "execution_count": 119,
   "id": "f43c42c3",
   "metadata": {
    "ExecuteTime": {
     "end_time": "2022-06-18T15:44:19.767576Z",
     "start_time": "2022-06-18T15:44:19.764778Z"
    }
   },
   "outputs": [
    {
     "data": {
      "text/plain": [
       "0.851123595505618"
      ]
     },
     "execution_count": 119,
     "metadata": {},
     "output_type": "execute_result"
    }
   ],
   "source": [
    "accuracy_score(y_train, y_pred)"
   ]
  },
  {
   "cell_type": "markdown",
   "id": "556b139a",
   "metadata": {},
   "source": [
    "## Difining Percision Recall and F1 Score "
   ]
  },
  {
   "cell_type": "code",
   "execution_count": 120,
   "id": "461d9deb",
   "metadata": {
    "ExecuteTime": {
     "end_time": "2022-06-18T15:44:30.458312Z",
     "start_time": "2022-06-18T15:44:30.456330Z"
    }
   },
   "outputs": [],
   "source": [
    "from sklearn.metrics import precision_score, recall_score, f1_score"
   ]
  },
  {
   "cell_type": "code",
   "execution_count": 121,
   "id": "0b662000",
   "metadata": {
    "ExecuteTime": {
     "end_time": "2022-06-18T15:44:35.048213Z",
     "start_time": "2022-06-18T15:44:35.044826Z"
    }
   },
   "outputs": [
    {
     "name": "stdout",
     "output_type": "stream",
     "text": [
      "precision = 0.84 \n",
      " \n",
      "recall = 0.74\n",
      "\n",
      "f1 = 0.79\n"
     ]
    }
   ],
   "source": [
    "print(f\"\"\"precision = {round(precision_score(y_train,y_pred),2)} \\n \n",
    "recall = {round(recall_score(y_train,y_pred),2)}\\n\n",
    "f1 = {round(f1_score(y_train,y_pred),2)}\"\"\")"
   ]
  },
  {
   "cell_type": "markdown",
   "id": "19633f46",
   "metadata": {},
   "source": [
    "## Confision Matrix off True Positiv/Nagativ and False Positiv/Negativ"
   ]
  },
  {
   "cell_type": "code",
   "execution_count": 122,
   "id": "2d9c2e84",
   "metadata": {
    "ExecuteTime": {
     "end_time": "2022-06-18T15:45:01.802755Z",
     "start_time": "2022-06-18T15:45:01.800818Z"
    }
   },
   "outputs": [],
   "source": [
    "from sklearn.metrics import  confusion_matrix,ConfusionMatrixDisplay"
   ]
  },
  {
   "cell_type": "code",
   "execution_count": 123,
   "id": "3c564f49",
   "metadata": {
    "ExecuteTime": {
     "end_time": "2022-06-18T15:45:02.440211Z",
     "start_time": "2022-06-18T15:45:02.435603Z"
    }
   },
   "outputs": [
    {
     "data": {
      "text/plain": [
       "array([[412,  37],\n",
       "       [ 69, 194]])"
      ]
     },
     "execution_count": 123,
     "metadata": {},
     "output_type": "execute_result"
    }
   ],
   "source": [
    "confusion_matrix(y_train, y_pred,labels=model.classes_)"
   ]
  },
  {
   "cell_type": "code",
   "execution_count": 124,
   "id": "185826fb",
   "metadata": {
    "ExecuteTime": {
     "end_time": "2022-06-18T15:45:04.704873Z",
     "start_time": "2022-06-18T15:45:04.650332Z"
    }
   },
   "outputs": [
    {
     "data": {
      "text/plain": [
       "<sklearn.metrics._plot.confusion_matrix.ConfusionMatrixDisplay at 0x7ff68ffa1460>"
      ]
     },
     "execution_count": 124,
     "metadata": {},
     "output_type": "execute_result"
    },
    {
     "data": {
      "image/png": "[encoded data removed]",
      "text/plain": [
       "<Figure size 432x288 with 2 Axes>"
      ]
     },
     "metadata": {
      "needs_background": "light"
     },
     "output_type": "display_data"
    }
   ],
   "source": [
    "ConfusionMatrixDisplay.from_estimator(model,X_train_trans,y_train)\n"
   ]
  },
  {
   "cell_type": "markdown",
   "id": "9a17f3df",
   "metadata": {},
   "source": [
    "## Reciever operating curve (ROC) and Area under the curve (AUC) "
   ]
  },
  {
   "cell_type": "code",
   "execution_count": 125,
   "id": "6e3deb19",
   "metadata": {
    "ExecuteTime": {
     "end_time": "2022-06-18T15:45:12.054951Z",
     "start_time": "2022-06-18T15:45:12.052909Z"
    }
   },
   "outputs": [],
   "source": [
    "from sklearn.metrics import roc_curve,auc ,RocCurveDisplay"
   ]
  },
  {
   "cell_type": "code",
   "execution_count": 126,
   "id": "71b1d461",
   "metadata": {
    "ExecuteTime": {
     "end_time": "2022-06-18T15:45:22.665699Z",
     "start_time": "2022-06-18T15:45:22.613230Z"
    }
   },
   "outputs": [
    {
     "data": {
      "text/plain": [
       "array([[0.90071145, 0.09928855],\n",
       "       [0.1640224 , 0.8359776 ],\n",
       "       [0.68737524, 0.31262476],\n",
       "       ...,\n",
       "       [0.80028721, 0.19971279],\n",
       "       [0.53494571, 0.46505429],\n",
       "       [0.09157468, 0.90842532]])"
      ]
     },
     "execution_count": 126,
     "metadata": {},
     "output_type": "execute_result"
    }
   ],
   "source": [
    "probs_train = rfc.predict_proba(X_train_trans)\n",
    "probs_train"
   ]
  },
  {
   "cell_type": "code",
   "execution_count": 127,
   "id": "62e474e2",
   "metadata": {
    "ExecuteTime": {
     "end_time": "2022-06-18T15:45:37.439625Z",
     "start_time": "2022-06-18T15:45:37.350053Z"
    }
   },
   "outputs": [
    {
     "data": {
      "text/plain": [
       "<sklearn.metrics._plot.roc_curve.RocCurveDisplay at 0x7ff68cffa760>"
      ]
     },
     "execution_count": 127,
     "metadata": {},
     "output_type": "execute_result"
    },
    {
     "data": {
      "image/png": "[encoded data removed]",
      "text/plain": [
       "<Figure size 432x288 with 1 Axes>"
      ]
     },
     "metadata": {
      "needs_background": "light"
     },
     "output_type": "display_data"
    }
   ],
   "source": [
    "RocCurveDisplay.from_estimator(rfc,X_train_trans,y_train)"
   ]
  },
  {
   "cell_type": "markdown",
   "id": "452c9c29",
   "metadata": {},
   "source": [
    "## Getting Flase positiv rate True positive rate and Tresurehold from ROC "
   ]
  },
  {
   "cell_type": "code",
   "execution_count": 128,
   "id": "cabb9af0",
   "metadata": {
    "ExecuteTime": {
     "end_time": "2022-06-18T15:46:02.257981Z",
     "start_time": "2022-06-18T15:46:02.252644Z"
    }
   },
   "outputs": [],
   "source": [
    "fpr,tpr,tresurehold = roc_curve(y_train,probs_train[:,1])"
   ]
  },
  {
   "cell_type": "markdown",
   "id": "cde1553b",
   "metadata": {},
   "source": [
    "## Finding best Tresurehold index fron ROC"
   ]
  },
  {
   "cell_type": "code",
   "execution_count": 129,
   "id": "b406163c",
   "metadata": {
    "ExecuteTime": {
     "end_time": "2022-06-18T15:46:13.637012Z",
     "start_time": "2022-06-18T15:46:13.631163Z"
    }
   },
   "outputs": [
    {
     "data": {
      "text/plain": [
       "57"
      ]
     },
     "execution_count": 129,
     "metadata": {},
     "output_type": "execute_result"
    }
   ],
   "source": [
    "max_index=np.argmax(tpr-fpr)\n",
    "max_index"
   ]
  },
  {
   "cell_type": "code",
   "execution_count": 130,
   "id": "5cc37f96",
   "metadata": {
    "ExecuteTime": {
     "end_time": "2022-06-18T15:46:15.749369Z",
     "start_time": "2022-06-18T15:46:15.744822Z"
    }
   },
   "outputs": [
    {
     "data": {
      "text/plain": [
       "0.5456870352125538"
      ]
     },
     "execution_count": 130,
     "metadata": {},
     "output_type": "execute_result"
    }
   ],
   "source": [
    "tresurehold[max_index]"
   ]
  },
  {
   "cell_type": "markdown",
   "id": "06977fce",
   "metadata": {},
   "source": [
    "## get the Area unter the Curve (AUC)"
   ]
  },
  {
   "cell_type": "code",
   "execution_count": 131,
   "id": "f9acad0c",
   "metadata": {
    "ExecuteTime": {
     "end_time": "2022-06-18T15:46:26.289342Z",
     "start_time": "2022-06-18T15:46:26.282514Z"
    }
   },
   "outputs": [
    {
     "data": {
      "text/plain": [
       "0.909168663781788"
      ]
     },
     "execution_count": 131,
     "metadata": {},
     "output_type": "execute_result"
    }
   ],
   "source": [
    "auc(fpr,tpr)"
   ]
  },
  {
   "cell_type": "markdown",
   "id": "4319cdcd",
   "metadata": {},
   "source": [
    "## Get new perdiction with new Tresurehold"
   ]
  },
  {
   "cell_type": "code",
   "execution_count": 132,
   "id": "053e694a",
   "metadata": {
    "ExecuteTime": {
     "end_time": "2022-06-18T15:46:29.200727Z",
     "start_time": "2022-06-18T15:46:29.198457Z"
    }
   },
   "outputs": [],
   "source": [
    "prob_train_df=pd.DataFrame(probs_train)"
   ]
  },
  {
   "cell_type": "code",
   "execution_count": 133,
   "id": "70272520",
   "metadata": {
    "ExecuteTime": {
     "end_time": "2022-06-18T15:46:37.413126Z",
     "start_time": "2022-06-18T15:46:37.407254Z"
    }
   },
   "outputs": [],
   "source": [
    "prob_train_df[\"tresurhold\"]=tresurehold[max_index]"
   ]
  },
  {
   "cell_type": "code",
   "execution_count": 134,
   "id": "5456ca9f",
   "metadata": {
    "ExecuteTime": {
     "end_time": "2022-06-18T15:46:49.943536Z",
     "start_time": "2022-06-18T15:46:49.937772Z"
    }
   },
   "outputs": [
    {
     "data": {
      "text/html": [
       "<div>\n",
       "<style scoped>\n",
       "    .dataframe tbody tr th:only-of-type {\n",
       "        vertical-align: middle;\n",
       "    }\n",
       "\n",
       "    .dataframe tbody tr th {\n",
       "        vertical-align: top;\n",
       "    }\n",
       "\n",
       "    .dataframe thead th {\n",
       "        text-align: right;\n",
       "    }\n",
       "</style>\n",
       "<table border=\"1\" class=\"dataframe\">\n",
       "  <thead>\n",
       "    <tr style=\"text-align: right;\">\n",
       "      <th></th>\n",
       "      <th>0</th>\n",
       "      <th>1</th>\n",
       "      <th>tresurhold</th>\n",
       "    </tr>\n",
       "  </thead>\n",
       "  <tbody>\n",
       "    <tr>\n",
       "      <th>0</th>\n",
       "      <td>0.900711</td>\n",
       "      <td>0.099289</td>\n",
       "      <td>0.545687</td>\n",
       "    </tr>\n",
       "    <tr>\n",
       "      <th>1</th>\n",
       "      <td>0.164022</td>\n",
       "      <td>0.835978</td>\n",
       "      <td>0.545687</td>\n",
       "    </tr>\n",
       "    <tr>\n",
       "      <th>2</th>\n",
       "      <td>0.687375</td>\n",
       "      <td>0.312625</td>\n",
       "      <td>0.545687</td>\n",
       "    </tr>\n",
       "    <tr>\n",
       "      <th>3</th>\n",
       "      <td>0.684602</td>\n",
       "      <td>0.315398</td>\n",
       "      <td>0.545687</td>\n",
       "    </tr>\n",
       "    <tr>\n",
       "      <th>4</th>\n",
       "      <td>0.901276</td>\n",
       "      <td>0.098724</td>\n",
       "      <td>0.545687</td>\n",
       "    </tr>\n",
       "  </tbody>\n",
       "</table>\n",
       "</div>"
      ],
      "text/plain": [
       "          0         1  tresurhold\n",
       "0  0.900711  0.099289    0.545687\n",
       "1  0.164022  0.835978    0.545687\n",
       "2  0.687375  0.312625    0.545687\n",
       "3  0.684602  0.315398    0.545687\n",
       "4  0.901276  0.098724    0.545687"
      ]
     },
     "execution_count": 134,
     "metadata": {},
     "output_type": "execute_result"
    }
   ],
   "source": [
    "prob_train_df.head()"
   ]
  },
  {
   "cell_type": "code",
   "execution_count": 135,
   "id": "bf216106",
   "metadata": {
    "ExecuteTime": {
     "end_time": "2022-06-18T15:46:56.838922Z",
     "start_time": "2022-06-18T15:46:56.836623Z"
    }
   },
   "outputs": [],
   "source": [
    "prob_train_df[\"new_prediction\"]=(prob_train_df[1]>prob_train_df[\"tresurhold\"]).astype(int)"
   ]
  },
  {
   "cell_type": "code",
   "execution_count": 136,
   "id": "bddac95b",
   "metadata": {
    "ExecuteTime": {
     "end_time": "2022-06-18T15:46:59.554852Z",
     "start_time": "2022-06-18T15:46:59.547855Z"
    }
   },
   "outputs": [
    {
     "data": {
      "text/html": [
       "<div>\n",
       "<style scoped>\n",
       "    .dataframe tbody tr th:only-of-type {\n",
       "        vertical-align: middle;\n",
       "    }\n",
       "\n",
       "    .dataframe tbody tr th {\n",
       "        vertical-align: top;\n",
       "    }\n",
       "\n",
       "    .dataframe thead th {\n",
       "        text-align: right;\n",
       "    }\n",
       "</style>\n",
       "<table border=\"1\" class=\"dataframe\">\n",
       "  <thead>\n",
       "    <tr style=\"text-align: right;\">\n",
       "      <th></th>\n",
       "      <th>0</th>\n",
       "      <th>1</th>\n",
       "      <th>tresurhold</th>\n",
       "      <th>new_prediction</th>\n",
       "    </tr>\n",
       "  </thead>\n",
       "  <tbody>\n",
       "    <tr>\n",
       "      <th>0</th>\n",
       "      <td>0.900711</td>\n",
       "      <td>0.099289</td>\n",
       "      <td>0.545687</td>\n",
       "      <td>0</td>\n",
       "    </tr>\n",
       "    <tr>\n",
       "      <th>1</th>\n",
       "      <td>0.164022</td>\n",
       "      <td>0.835978</td>\n",
       "      <td>0.545687</td>\n",
       "      <td>1</td>\n",
       "    </tr>\n",
       "    <tr>\n",
       "      <th>2</th>\n",
       "      <td>0.687375</td>\n",
       "      <td>0.312625</td>\n",
       "      <td>0.545687</td>\n",
       "      <td>0</td>\n",
       "    </tr>\n",
       "    <tr>\n",
       "      <th>3</th>\n",
       "      <td>0.684602</td>\n",
       "      <td>0.315398</td>\n",
       "      <td>0.545687</td>\n",
       "      <td>0</td>\n",
       "    </tr>\n",
       "    <tr>\n",
       "      <th>4</th>\n",
       "      <td>0.901276</td>\n",
       "      <td>0.098724</td>\n",
       "      <td>0.545687</td>\n",
       "      <td>0</td>\n",
       "    </tr>\n",
       "  </tbody>\n",
       "</table>\n",
       "</div>"
      ],
      "text/plain": [
       "          0         1  tresurhold  new_prediction\n",
       "0  0.900711  0.099289    0.545687               0\n",
       "1  0.164022  0.835978    0.545687               1\n",
       "2  0.687375  0.312625    0.545687               0\n",
       "3  0.684602  0.315398    0.545687               0\n",
       "4  0.901276  0.098724    0.545687               0"
      ]
     },
     "execution_count": 136,
     "metadata": {},
     "output_type": "execute_result"
    }
   ],
   "source": [
    "prob_train_df.head()"
   ]
  },
  {
   "cell_type": "markdown",
   "id": "3b211eb1",
   "metadata": {},
   "source": [
    "## Differentce from new (0.5456870) and old (.5)  Tresurehold on Testdata"
   ]
  },
  {
   "cell_type": "code",
   "execution_count": 137,
   "id": "3fb5e2b7",
   "metadata": {
    "ExecuteTime": {
     "end_time": "2022-06-18T15:47:29.445419Z",
     "start_time": "2022-06-18T15:47:29.441959Z"
    }
   },
   "outputs": [],
   "source": [
    "acc_test=[]"
   ]
  },
  {
   "cell_type": "code",
   "execution_count": 138,
   "id": "1e96b2af",
   "metadata": {
    "ExecuteTime": {
     "end_time": "2022-06-18T15:47:30.420751Z",
     "start_time": "2022-06-18T15:47:30.417120Z"
    }
   },
   "outputs": [],
   "source": [
    "acc_test.append(accuracy_score(y_train, model.predict(X_train_trans)))"
   ]
  },
  {
   "cell_type": "code",
   "execution_count": 139,
   "id": "d07569ec",
   "metadata": {
    "ExecuteTime": {
     "end_time": "2022-06-18T15:47:31.266082Z",
     "start_time": "2022-06-18T15:47:31.263749Z"
    }
   },
   "outputs": [],
   "source": [
    "acc_test.append(accuracy_score(y_train, prob_train_df[\"new_prediction\"]))"
   ]
  },
  {
   "cell_type": "code",
   "execution_count": 140,
   "id": "64aa1405",
   "metadata": {
    "ExecuteTime": {
     "end_time": "2022-06-18T15:47:33.226240Z",
     "start_time": "2022-06-18T15:47:33.221174Z"
    }
   },
   "outputs": [
    {
     "data": {
      "text/plain": [
       "[0.8314606741573034, 0.8651685393258427]"
      ]
     },
     "execution_count": 140,
     "metadata": {},
     "output_type": "execute_result"
    }
   ],
   "source": [
    "acc_test"
   ]
  },
  {
   "cell_type": "code",
   "execution_count": 141,
   "id": "f8ea4720",
   "metadata": {
    "ExecuteTime": {
     "end_time": "2022-06-18T15:47:46.673082Z",
     "start_time": "2022-06-18T15:47:46.636136Z"
    }
   },
   "outputs": [
    {
     "data": {
      "text/plain": [
       "<AxesSubplot:>"
      ]
     },
     "execution_count": 141,
     "metadata": {},
     "output_type": "execute_result"
    },
    {
     "data": {
      "image/png": "[encoded data removed]",
      "text/plain": [
       "<Figure size 432x288 with 1 Axes>"
      ]
     },
     "metadata": {
      "needs_background": "light"
     },
     "output_type": "display_data"
    }
   ],
   "source": [
    "plt.axis((0,1,.83,.866))\n",
    "sns.barplot([0,1],acc_test)"
   ]
  },
  {
   "cell_type": "markdown",
   "id": "be348a57",
   "metadata": {},
   "source": [
    "## Differentce from new (0.5456870) and old (.5) Tresurehold on Valuation Data"
   ]
  },
  {
   "cell_type": "code",
   "execution_count": 142,
   "id": "cce939ee",
   "metadata": {
    "ExecuteTime": {
     "end_time": "2022-06-18T15:50:15.301263Z",
     "start_time": "2022-06-18T15:50:15.299215Z"
    }
   },
   "outputs": [],
   "source": [
    "props_val = model.predict_proba(X_val_trans)"
   ]
  },
  {
   "cell_type": "code",
   "execution_count": 143,
   "id": "8052f2f9",
   "metadata": {
    "ExecuteTime": {
     "end_time": "2022-06-18T15:50:16.665443Z",
     "start_time": "2022-06-18T15:50:16.663662Z"
    }
   },
   "outputs": [],
   "source": [
    "prob_val_df = pd.DataFrame(props_val)"
   ]
  },
  {
   "cell_type": "code",
   "execution_count": 144,
   "id": "948b2f2a",
   "metadata": {
    "ExecuteTime": {
     "end_time": "2022-06-18T15:50:17.187258Z",
     "start_time": "2022-06-18T15:50:17.185207Z"
    }
   },
   "outputs": [],
   "source": [
    "prob_val_df[\"tresurhold\"]=tresurehold[max_index]"
   ]
  },
  {
   "cell_type": "code",
   "execution_count": 145,
   "id": "7c8308f1",
   "metadata": {
    "ExecuteTime": {
     "end_time": "2022-06-18T15:50:21.892557Z",
     "start_time": "2022-06-18T15:50:21.888221Z"
    }
   },
   "outputs": [],
   "source": [
    "prob_val_df[\"new_prediction\"]=(prob_val_df[1]>prob_val_df[\"tresurhold\"]).astype(int)"
   ]
  },
  {
   "cell_type": "code",
   "execution_count": 146,
   "id": "275688b5",
   "metadata": {
    "ExecuteTime": {
     "end_time": "2022-06-18T15:50:23.191224Z",
     "start_time": "2022-06-18T15:50:23.189297Z"
    }
   },
   "outputs": [],
   "source": [
    "acc_val= []"
   ]
  },
  {
   "cell_type": "code",
   "execution_count": 147,
   "id": "c363f877",
   "metadata": {
    "ExecuteTime": {
     "end_time": "2022-06-18T15:50:24.333906Z",
     "start_time": "2022-06-18T15:50:24.328603Z"
    }
   },
   "outputs": [],
   "source": [
    "acc_val.append(accuracy_score(y_val,model.predict(X_val_trans)))"
   ]
  },
  {
   "cell_type": "code",
   "execution_count": 148,
   "id": "599bf679",
   "metadata": {
    "ExecuteTime": {
     "end_time": "2022-06-18T15:50:27.173009Z",
     "start_time": "2022-06-18T15:50:27.171041Z"
    }
   },
   "outputs": [],
   "source": [
    "acc_val.append(accuracy_score(y_val,prob_val_df[\"new_prediction\"]))"
   ]
  },
  {
   "cell_type": "code",
   "execution_count": 149,
   "id": "0cae2044",
   "metadata": {
    "ExecuteTime": {
     "end_time": "2022-06-18T15:50:30.604774Z",
     "start_time": "2022-06-18T15:50:30.599688Z"
    }
   },
   "outputs": [
    {
     "data": {
      "text/plain": [
       "[0.8379888268156425, 0.8379888268156425]"
      ]
     },
     "execution_count": 149,
     "metadata": {},
     "output_type": "execute_result"
    }
   ],
   "source": [
    "acc_val"
   ]
  },
  {
   "cell_type": "code",
   "execution_count": 151,
   "id": "d311b756",
   "metadata": {
    "ExecuteTime": {
     "end_time": "2022-06-18T15:50:56.200399Z",
     "start_time": "2022-06-18T15:50:56.165971Z"
    }
   },
   "outputs": [
    {
     "data": {
      "text/plain": [
       "<AxesSubplot:>"
      ]
     },
     "execution_count": 151,
     "metadata": {},
     "output_type": "execute_result"
    },
    {
     "data": {
      "image/png": "[encoded data removed]",
      "text/plain": [
       "<Figure size 432x288 with 1 Axes>"
      ]
     },
     "metadata": {
      "needs_background": "light"
     },
     "output_type": "display_data"
    }
   ],
   "source": [
    "plt.axis((0,1,.83,.84))\n",
    "sns.barplot([0,1],acc_val)"
   ]
  },
  {
   "cell_type": "markdown",
   "id": "bce25407",
   "metadata": {},
   "source": [
    "## Creating datafile for Kaggle"
   ]
  },
  {
   "cell_type": "code",
   "execution_count": 165,
   "id": "f1230f32",
   "metadata": {
    "ExecuteTime": {
     "end_time": "2022-06-18T16:01:46.160679Z",
     "start_time": "2022-06-18T16:01:46.144196Z"
    }
   },
   "outputs": [],
   "source": [
    "test = pd.read_csv(\"data/test.csv\",sep=\",\",index_col = 0)\n",
    "test[\"Title\"]=test.Name.str.split(\",\",expand=True)[1].str.split(\".\",expand=True)[0].str.strip()\n",
    "test[\"ClassSex\"]=test[\"Pclass\"].apply(str)+ df[\"Sex\"]\n",
    "df2=test[test.Age.isna()]\n",
    "for item in mean_age.index:\n",
    "    df2.loc[df2[\"ClassSex\"]==item,\"Age\"]=mean_age[item]\n",
    "test[test.Age.isna()]=df2\n",
    "test.replace({'Title':title_dic},inplace=True)\n",
    "test_trans = feature_transform.transform(test)\n",
    "test_pred = model.predict(test_trans)\n",
    "test_props_val = model.predict_proba(test_trans)\n",
    "test_prob_val_df = pd.DataFrame(test_props_val)\n",
    "test_prob_val_df[\"tresurhold\"]=tresurehold[max_index]\n",
    "test_prob_val_df[\"new_prediction\"]=(test_prob_val_df[1]>test_prob_val_df[\"tresurhold\"]).astype(int)\n",
    "kraggle = pd.DataFrame(test.index)\n",
    "kraggle[\"Survived\"]=test_pred#test_prob_val_df[\"new_prediction\"]\n",
    "kraggle.set_index(\"PassengerId\")\n",
    "kraggle.to_csv(\"data/kraggle_rfc.csv\",index = False)"
   ]
  },
  {
   "cell_type": "code",
   "execution_count": null,
   "id": "55fbd983",
   "metadata": {},
   "outputs": [],
   "source": []
  }
 ],
 "metadata": {
  "kernelspec": {
   "display_name": "Python 3 (ipykernel)",
   "language": "python",
   "name": "python3"
  },
  "language_info": {
   "codemirror_mode": {
    "name": "ipython",
    "version": 3
   },
   "file_extension": ".py",
   "mimetype": "text/x-python",
   "name": "python",
   "nbconvert_exporter": "python",
   "pygments_lexer": "ipython3",
   "version": "3.9.12"
  },
  "toc": {
   "base_numbering": 1,
   "nav_menu": {},
   "number_sections": true,
   "sideBar": true,
   "skip_h1_title": false,
   "title_cell": "Table of Contents",
   "title_sidebar": "Project Week 2",
   "toc_cell": false,
   "toc_position": {
    "height": "calc(100% - 180px)",
    "left": "10px",
    "top": "150px",
    "width": "384px"
   },
   "toc_section_display": true,
   "toc_window_display": true
  },
  "varInspector": {
   "cols": {
    "lenName": 16,
    "lenType": 16,
    "lenVar": 40
   },
   "kernels_config": {
    "python": {
     "delete_cmd_postfix": "",
     "delete_cmd_prefix": "del ",
     "library": "var_list.py",
     "varRefreshCmd": "print(var_dic_list())"
    },
    "r": {
     "delete_cmd_postfix": ") ",
     "delete_cmd_prefix": "rm(",
     "library": "var_list.r",
     "varRefreshCmd": "cat(var_dic_list()) "
    }
   },
   "types_to_exclude": [
    "module",
    "function",
    "builtin_function_or_method",
    "instance",
    "_Feature"
   ],
   "window_display": false
  }
 },
 "nbformat": 4,
 "nbformat_minor": 5
}
